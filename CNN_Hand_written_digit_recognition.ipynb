{
  "nbformat": 4,
  "nbformat_minor": 0,
  "metadata": {
    "colab": {
      "provenance": []
    },
    "kernelspec": {
      "name": "python3",
      "display_name": "Python 3"
    },
    "language_info": {
      "name": "python"
    }
  },
  "cells": [
    {
      "cell_type": "code",
      "execution_count": 2,
      "metadata": {
        "id": "2U5ymX6htJSy"
      },
      "outputs": [],
      "source": [
        "from tensorflow import keras\n",
        "from tensorflow.keras.models import Sequential\n",
        "from tensorflow.keras.layers import Conv2D, MaxPooling2D, Dense, Flatten\n",
        "from tensorflow.keras.datasets import mnist\n",
        "import pandas as pd\n",
        "import numpy as np\n",
        "import matplotlib.pyplot as plt\n",
        "from sklearn import metrics"
      ]
    },
    {
      "cell_type": "code",
      "source": [
        "#Load MNIST dataset\n",
        "(x_train,y_train),(x_test,y_test)=mnist.load_data()"
      ],
      "metadata": {
        "colab": {
          "base_uri": "https://localhost:8080/"
        },
        "id": "HEKdgnanuJkD",
        "outputId": "b7096b1c-e6a4-4c26-8787-bbdc19dd6193"
      },
      "execution_count": 3,
      "outputs": [
        {
          "output_type": "stream",
          "name": "stdout",
          "text": [
            "Downloading data from https://storage.googleapis.com/tensorflow/tf-keras-datasets/mnist.npz\n",
            "11490434/11490434 [==============================] - 1s 0us/step\n"
          ]
        }
      ]
    },
    {
      "cell_type": "code",
      "source": [
        "#Print shape of train and test sets\n",
        "print(x_train.shape)\n",
        "print(x_test.shape)"
      ],
      "metadata": {
        "colab": {
          "base_uri": "https://localhost:8080/"
        },
        "id": "OqXKFIC-u57u",
        "outputId": "ca8ab5b8-4b84-49ea-f9d6-aaf6f5f02270"
      },
      "execution_count": 4,
      "outputs": [
        {
          "output_type": "stream",
          "name": "stdout",
          "text": [
            "(60000, 28, 28)\n",
            "(10000, 28, 28)\n"
          ]
        }
      ]
    },
    {
      "cell_type": "code",
      "source": [
        "#Plot some images from train and test sets\n",
        "plt.imshow(x_train[2,:,:],cmap='gray')\n",
        "plt.show()"
      ],
      "metadata": {
        "colab": {
          "base_uri": "https://localhost:8080/",
          "height": 430
        },
        "id": "zGfFTpZCu6BK",
        "outputId": "4ea3ad36-bf7b-45be-ade3-e7d5a573c72b"
      },
      "execution_count": 5,
      "outputs": [
        {
          "output_type": "display_data",
          "data": {
            "text/plain": [
              "<Figure size 640x480 with 1 Axes>"
            ],
            "image/png": "[encoded data removed]"
          },
          "metadata": {}
        }
      ]
    },
    {
      "cell_type": "code",
      "source": [
        "plt.imshow(x_test[3,:,:],cmap='gray')\n",
        "plt.show()"
      ],
      "metadata": {
        "colab": {
          "base_uri": "https://localhost:8080/",
          "height": 430
        },
        "id": "BzMyRGKfu6Dl",
        "outputId": "00990e96-55ed-45ed-8a73-2a2765258647"
      },
      "execution_count": 6,
      "outputs": [
        {
          "output_type": "display_data",
          "data": {
            "text/plain": [
              "<Figure size 640x480 with 1 Axes>"
            ],
            "image/png": "[encoded data removed]"
          },
          "metadata": {}
        }
      ]
    },
    {
      "cell_type": "code",
      "source": [
        "#Print some labels from train set\n",
        "print(y_train[2])"
      ],
      "metadata": {
        "colab": {
          "base_uri": "https://localhost:8080/"
        },
        "id": "F_p4ZeY2u6Fo",
        "outputId": "834d662b-2d1a-446d-b898-1ec38fe0a49b"
      },
      "execution_count": 7,
      "outputs": [
        {
          "output_type": "stream",
          "name": "stdout",
          "text": [
            "4\n"
          ]
        }
      ]
    },
    {
      "cell_type": "code",
      "source": [
        "print(y_train[:50])"
      ],
      "metadata": {
        "colab": {
          "base_uri": "https://localhost:8080/"
        },
        "id": "ynTQ626iu6Hc",
        "outputId": "2432a219-bf1b-4472-b912-78ca6033fffd"
      },
      "execution_count": 8,
      "outputs": [
        {
          "output_type": "stream",
          "name": "stdout",
          "text": [
            "[5 0 4 1 9 2 1 3 1 4 3 5 3 6 1 7 2 8 6 9 4 0 9 1 1 2 4 3 2 7 3 8 6 9 0 5 6\n",
            " 0 7 6 1 8 7 9 3 9 8 5 9 3]\n"
          ]
        }
      ]
    },
    {
      "cell_type": "code",
      "source": [
        "#Create a data frame from labels and count their frequencies\n",
        "L=pd.DataFrame(y_train)\n",
        "print(L[0].value_counts())"
      ],
      "metadata": {
        "colab": {
          "base_uri": "https://localhost:8080/"
        },
        "id": "SVNlttEVu6JS",
        "outputId": "738ec246-2d4a-45ba-bdb4-4c0877b9b047"
      },
      "execution_count": 9,
      "outputs": [
        {
          "output_type": "stream",
          "name": "stdout",
          "text": [
            "1    6742\n",
            "7    6265\n",
            "3    6131\n",
            "2    5958\n",
            "9    5949\n",
            "0    5923\n",
            "6    5918\n",
            "8    5851\n",
            "4    5842\n",
            "5    5421\n",
            "Name: 0, dtype: int64\n"
          ]
        }
      ]
    },
    {
      "cell_type": "code",
      "source": [
        "#Reshape input data to have four dimensions\n",
        "x_train=x_train.reshape(x_train.shape[0],28,28,1)\n",
        "x_test=x_test.reshape(x_test.shape[0],28,28,1)"
      ],
      "metadata": {
        "id": "zW0vNUUVv4W0"
      },
      "execution_count": 10,
      "outputs": []
    },
    {
      "cell_type": "code",
      "source": [
        "#Normalize input data\n",
        "x_train=x_train.astype('float32')/255\n",
        "x_test=x_test.astype('float32')/255"
      ],
      "metadata": {
        "id": "tTX7d1pxv4ae"
      },
      "execution_count": 11,
      "outputs": []
    },
    {
      "cell_type": "code",
      "source": [
        "#Convert labels to one-hot vectors\n",
        "y_train=keras.utils.to_categorical(y_train,10)\n",
        "y_test=keras.utils.to_categorical(y_test,10)"
      ],
      "metadata": {
        "id": "4VmpP1m-v4cp"
      },
      "execution_count": 12,
      "outputs": []
    },
    {
      "cell_type": "code",
      "source": [
        "# Create a Sequential model\n",
        "model = Sequential()\n",
        "\n",
        "# Add a Conv2D layer with 32 filters, kernel size (3, 3), and 'relu' activation\n",
        "model.add(Conv2D(32, kernel_size=(3, 3), activation='relu', input_shape=(28, 28, 1)))\n",
        "\n",
        "# Add a MaxPooling2D layer with pool size (2, 2)\n",
        "model.add(MaxPooling2D(pool_size=(2, 2)))\n",
        "\n",
        "# Add another Conv2D layer with 64 filters and 'relu' activation\n",
        "model.add(Conv2D(64, kernel_size=(3, 3), activation='relu'))\n",
        "\n",
        "# Add another MaxPooling2D layer with pool size (2, 2)\n",
        "model.add(MaxPooling2D(pool_size=(2, 2)))\n",
        "\n",
        "# Flatten the output before passing to the Dense layer\n",
        "model.add(Flatten())\n",
        "\n",
        "# Add a Dense layer with 10 units and 'softmax' activation for classification\n",
        "model.add(Dense(10, activation='softmax'))\n",
        "\n",
        "# Print a summary of the model's architecture\n",
        "model.summary()"
      ],
      "metadata": {
        "colab": {
          "base_uri": "https://localhost:8080/"
        },
        "id": "cyUu3uq_v4fG",
        "outputId": "3be414e1-4adb-45e5-a268-c9d10697fd33"
      },
      "execution_count": 14,
      "outputs": [
        {
          "output_type": "stream",
          "name": "stdout",
          "text": [
            "Model: \"sequential_1\"\n",
            "_________________________________________________________________\n",
            " Layer (type)                Output Shape              Param #   \n",
            "=================================================================\n",
            " conv2d (Conv2D)             (None, 26, 26, 32)        320       \n",
            "                                                                 \n",
            " max_pooling2d (MaxPooling2D  (None, 13, 13, 32)       0         \n",
            " )                                                               \n",
            "                                                                 \n",
            " conv2d_1 (Conv2D)           (None, 11, 11, 64)        18496     \n",
            "                                                                 \n",
            " max_pooling2d_1 (MaxPooling  (None, 5, 5, 64)         0         \n",
            " 2D)                                                             \n",
            "                                                                 \n",
            " flatten (Flatten)           (None, 1600)              0         \n",
            "                                                                 \n",
            " dense (Dense)               (None, 10)                16010     \n",
            "                                                                 \n",
            "=================================================================\n",
            "Total params: 34,826\n",
            "Trainable params: 34,826\n",
            "Non-trainable params: 0\n",
            "_________________________________________________________________\n"
          ]
        }
      ]
    },
    {
      "cell_type": "code",
      "source": [
        "#Compile model\n",
        "model.compile(loss='categorical_crossentropy', optimizer='adam', metrics=['accuracy'])"
      ],
      "metadata": {
        "id": "YEnR0f1jv4g_"
      },
      "execution_count": 15,
      "outputs": []
    },
    {
      "cell_type": "code",
      "source": [
        "#Train model\n",
        "model.fit(x_train,y_train,epochs=10,batch_size=256,verbose=1)"
      ],
      "metadata": {
        "colab": {
          "base_uri": "https://localhost:8080/"
        },
        "id": "XrZhq6s2zB7b",
        "outputId": "294aae51-ec7a-4999-86c0-92503ae13949"
      },
      "execution_count": 16,
      "outputs": [
        {
          "output_type": "stream",
          "name": "stdout",
          "text": [
            "Epoch 1/10\n",
            "235/235 [==============================] - 73s 306ms/step - loss: 0.3925 - accuracy: 0.8930\n",
            "Epoch 2/10\n",
            "235/235 [==============================] - 72s 306ms/step - loss: 0.0918 - accuracy: 0.9727\n",
            "Epoch 3/10\n",
            "235/235 [==============================] - 78s 331ms/step - loss: 0.0662 - accuracy: 0.9796\n",
            "Epoch 4/10\n",
            "235/235 [==============================] - 76s 324ms/step - loss: 0.0522 - accuracy: 0.9841\n",
            "Epoch 5/10\n",
            "235/235 [==============================] - 96s 408ms/step - loss: 0.0457 - accuracy: 0.9857\n",
            "Epoch 6/10\n",
            "235/235 [==============================] - 54s 231ms/step - loss: 0.0399 - accuracy: 0.9880\n",
            "Epoch 7/10\n",
            "235/235 [==============================] - 53s 224ms/step - loss: 0.0362 - accuracy: 0.9889\n",
            "Epoch 8/10\n",
            "235/235 [==============================] - 54s 231ms/step - loss: 0.0332 - accuracy: 0.9899\n",
            "Epoch 9/10\n",
            "235/235 [==============================] - 51s 218ms/step - loss: 0.0286 - accuracy: 0.9911\n",
            "Epoch 10/10\n",
            "235/235 [==============================] - 50s 212ms/step - loss: 0.0265 - accuracy: 0.9919\n"
          ]
        },
        {
          "output_type": "execute_result",
          "data": {
            "text/plain": [
              "<keras.callbacks.History at 0x7d1373eed480>"
            ]
          },
          "metadata": {},
          "execution_count": 16
        }
      ]
    },
    {
      "cell_type": "code",
      "source": [
        "#Evaluate model on test set\n",
        "loss,acc=model.evaluate(x_test,y_test,verbose=0)\n",
        "print('Accuracy: %.3f' % acc)\n",
        "print('Loss: %.3f' % loss)"
      ],
      "metadata": {
        "colab": {
          "base_uri": "https://localhost:8080/"
        },
        "id": "fHNy8d-VzCAw",
        "outputId": "0f9e87f2-ad44-4afc-d249-e8391fa1fcb8"
      },
      "execution_count": 17,
      "outputs": [
        {
          "output_type": "stream",
          "name": "stdout",
          "text": [
            "Accuracy: 0.989\n",
            "Loss: 0.032\n"
          ]
        }
      ]
    },
    {
      "cell_type": "code",
      "source": [
        "y_predict=model.predict(x_test)"
      ],
      "metadata": {
        "colab": {
          "base_uri": "https://localhost:8080/"
        },
        "id": "kf_5QbYgzCC-",
        "outputId": "c9c0f99d-c58b-48a5-951b-aeac83669247"
      },
      "execution_count": 18,
      "outputs": [
        {
          "output_type": "stream",
          "name": "stdout",
          "text": [
            "313/313 [==============================] - 4s 14ms/step\n"
          ]
        }
      ]
    },
    {
      "cell_type": "code",
      "source": [
        "y_predict[3]"
      ],
      "metadata": {
        "colab": {
          "base_uri": "https://localhost:8080/"
        },
        "id": "n100T71hzCFy",
        "outputId": "dccedb79-79da-4d51-978c-091f19374480"
      },
      "execution_count": 19,
      "outputs": [
        {
          "output_type": "execute_result",
          "data": {
            "text/plain": [
              "array([9.9997610e-01, 2.9111470e-11, 6.9505126e-07, 1.9437610e-10,\n",
              "       1.8568967e-08, 1.6958428e-08, 2.2939581e-05, 3.2407005e-08,\n",
              "       6.4827645e-08, 1.4377773e-07], dtype=float32)"
            ]
          },
          "metadata": {},
          "execution_count": 19
        }
      ]
    },
    {
      "cell_type": "code",
      "source": [
        "np.argmax(y_predict[3])"
      ],
      "metadata": {
        "colab": {
          "base_uri": "https://localhost:8080/"
        },
        "id": "k7kDubYSv4kY",
        "outputId": "914780f9-fe0c-435b-828c-64ab9e0281bb"
      },
      "execution_count": 20,
      "outputs": [
        {
          "output_type": "execute_result",
          "data": {
            "text/plain": [
              "0"
            ]
          },
          "metadata": {},
          "execution_count": 20
        }
      ]
    },
    {
      "cell_type": "code",
      "source": [
        "y_test=np.argmax(y_test,axis=1)\n",
        "y_pred=np.argmax(y_predict,axis=1)"
      ],
      "metadata": {
        "id": "XFSoriZV0XTU"
      },
      "execution_count": 21,
      "outputs": []
    },
    {
      "cell_type": "code",
      "source": [
        "cm=metrics.confusion_matrix(y_test,y_pred)\n",
        "print(cm)"
      ],
      "metadata": {
        "colab": {
          "base_uri": "https://localhost:8080/"
        },
        "id": "zw6SD0nR0XWZ",
        "outputId": "70079138-98d1-4968-9e43-ee439f2fb07f"
      },
      "execution_count": 22,
      "outputs": [
        {
          "output_type": "stream",
          "name": "stdout",
          "text": [
            "[[ 973    0    2    0    0    0    1    2    2    0]\n",
            " [   0 1133    0    1    0    0    1    0    0    0]\n",
            " [   1    3 1017    2    1    0    1    3    4    0]\n",
            " [   0    0    0 1003    0    3    0    0    4    0]\n",
            " [   0    0    0    0  980    0    0    0    0    2]\n",
            " [   1    0    1    7    0  877    1    2    1    2]\n",
            " [   4    2    1    0    2    5  942    0    2    0]\n",
            " [   0    4    3    2    0    0    0 1015    1    3]\n",
            " [   3    0    2    1    1    1    0    2  962    2]\n",
            " [   1    3    0    0    7    4    0    1    1  992]]\n"
          ]
        }
      ]
    },
    {
      "cell_type": "code",
      "source": [
        "cr=metrics.classification_report(y_test,y_pred)\n",
        "print(cr)"
      ],
      "metadata": {
        "colab": {
          "base_uri": "https://localhost:8080/"
        },
        "id": "23hbRN5c0XZz",
        "outputId": "353458f5-0f8e-40ec-effc-04255d40ae99"
      },
      "execution_count": 23,
      "outputs": [
        {
          "output_type": "stream",
          "name": "stdout",
          "text": [
            "              precision    recall  f1-score   support\n",
            "\n",
            "           0       0.99      0.99      0.99       980\n",
            "           1       0.99      1.00      0.99      1135\n",
            "           2       0.99      0.99      0.99      1032\n",
            "           3       0.99      0.99      0.99      1010\n",
            "           4       0.99      1.00      0.99       982\n",
            "           5       0.99      0.98      0.98       892\n",
            "           6       1.00      0.98      0.99       958\n",
            "           7       0.99      0.99      0.99      1028\n",
            "           8       0.98      0.99      0.99       974\n",
            "           9       0.99      0.98      0.99      1009\n",
            "\n",
            "    accuracy                           0.99     10000\n",
            "   macro avg       0.99      0.99      0.99     10000\n",
            "weighted avg       0.99      0.99      0.99     10000\n",
            "\n"
          ]
        }
      ]
    }
  ]
}