{
 "cells": [
  {
   "cell_type": "markdown",
   "id": "56ac7717",
   "metadata": {},
   "source": [
    "# Activity 1"
   ]
  },
  {
   "cell_type": "code",
   "execution_count": 1,
   "id": "715a2bda",
   "metadata": {},
   "outputs": [
    {
     "name": "stdout",
     "output_type": "stream",
     "text": [
      "Hello, World\n"
     ]
    }
   ],
   "source": [
    "#Print \"Hello, World\" to the console\n",
    "print(\"Hello, World\")"
   ]
  },
  {
   "cell_type": "code",
   "execution_count": 2,
   "id": "5ee77881",
   "metadata": {},
   "outputs": [
    {
     "name": "stdout",
     "output_type": "stream",
     "text": [
      "11\n"
     ]
    }
   ],
   "source": [
    "#Add two numbers and print result\n",
    "num1=5\n",
    "num2=6\n",
    "num3=num1+num2\n",
    "print(num3)"
   ]
  },
  {
   "cell_type": "code",
   "execution_count": 4,
   "id": "b89362c7",
   "metadata": {},
   "outputs": [
    {
     "name": "stdout",
     "output_type": "stream",
     "text": [
      "Enter name sara\n",
      "Good morning sara\n"
     ]
    }
   ],
   "source": [
    "#Take user input and display a personalized greeting\n",
    "name=input(\"Enter name \")\n",
    "print(\"Good morning\",name)"
   ]
  },
  {
   "cell_type": "code",
   "execution_count": 5,
   "id": "d795828c",
   "metadata": {},
   "outputs": [
    {
     "name": "stdout",
     "output_type": "stream",
     "text": [
      "now = 2023-06-10 10:17:52.201651\n",
      "date and time = 10/06/2023 10:17:52\n"
     ]
    }
   ],
   "source": [
    "#Print current date and time\n",
    "from datetime import datetime\n",
    "\n",
    "# datetime object containing current date and time\n",
    "now = datetime.now()\n",
    " \n",
    "print(\"now =\", now)\n",
    "\n",
    "# dd/mm/YY H:M:S\n",
    "dt_string = now.strftime(\"%d/%m/%Y %H:%M:%S\")\n",
    "print(\"date and time =\", dt_string)"
   ]
  },
  {
   "cell_type": "code",
   "execution_count": 6,
   "id": "25e5255b",
   "metadata": {},
   "outputs": [
    {
     "name": "stdout",
     "output_type": "stream",
     "text": [
      "Enter temperature in Celcius 45\n",
      "The temperature in fahrenheit is 113.0\n"
     ]
    }
   ],
   "source": [
    "#Convert temperature from celsius to Fahrenheit \n",
    "celsius=int(input(\"Enter temperature in Celcius \"))\n",
    "Fahrenheit=(celsius *9/5)+32\n",
    "print(\"The temperature in fahrenheit is\",Fahrenheit)"
   ]
  },
  {
   "cell_type": "markdown",
   "id": "fc8e85c3",
   "metadata": {},
   "source": [
    "# Activity 2"
   ]
  },
  {
   "cell_type": "code",
   "execution_count": 7,
   "id": "0f781b7f",
   "metadata": {},
   "outputs": [
    {
     "name": "stdout",
     "output_type": "stream",
     "text": [
      "The area of rectangle is 60\n"
     ]
    }
   ],
   "source": [
    "# Calculate the area of a rectangle given its length and width\n",
    "length=10\n",
    "width=6\n",
    "area=length*width\n",
    "print(\"The area of rectangle is\",area)"
   ]
  },
  {
   "cell_type": "code",
   "execution_count": 9,
   "id": "5ab61f98",
   "metadata": {},
   "outputs": [
    {
     "name": "stdout",
     "output_type": "stream",
     "text": [
      "Sara Naeem\n"
     ]
    }
   ],
   "source": [
    "#Concatenate two strings and print result\n",
    "a='Sara'\n",
    "b='Naeem'\n",
    "print(a+' '+b)"
   ]
  },
  {
   "cell_type": "code",
   "execution_count": 11,
   "id": "67f10f47",
   "metadata": {},
   "outputs": [
    {
     "name": "stdout",
     "output_type": "stream",
     "text": [
      "Before swapping the value of a is 5\n",
      "Before swapping the value of b is 6\n",
      "\n",
      "\n",
      "After swapping the value of a is 6\n",
      "After swapping the value of b is 5\n"
     ]
    }
   ],
   "source": [
    "#Swap the values of two variables\n",
    "a=5\n",
    "b=6\n",
    "print(\"Before swapping the value of a is\",a)\n",
    "print(\"Before swapping the value of b is\",b)\n",
    "c=a\n",
    "a=b\n",
    "b=c\n",
    "print(\"\\n\")\n",
    "print(\"After swapping the value of a is\",a)\n",
    "print(\"After swapping the value of b is\",b)"
   ]
  },
  {
   "cell_type": "markdown",
   "id": "e03d5aa2",
   "metadata": {},
   "source": [
    "# Activity 3"
   ]
  },
  {
   "cell_type": "code",
   "execution_count": null,
   "id": "ff690a40",
   "metadata": {},
   "outputs": [],
   "source": [
    "#Determine if a number is even or odd\n",
    "num=int(input(\"Enter a number \"))\n",
    "if(num%2==0):\n",
    "    print(\"The number is even \")\n",
    "else:\n",
    "    print(\"The number is odd \")"
   ]
  },
  {
   "cell_type": "code",
   "execution_count": 22,
   "id": "622fd86f",
   "metadata": {},
   "outputs": [
    {
     "name": "stdout",
     "output_type": "stream",
     "text": [
      "20 is greatest number\n"
     ]
    }
   ],
   "source": [
    "#Find maximum among three numbers (10,20,15)\n",
    "num1=10\n",
    "num2=20\n",
    "num3=15\n",
    "if(num1>num2 and num1>num3):\n",
    "    print(num1,\"is greatest number\")\n",
    "elif(num2>num1 and num2>num3):\n",
    "    print(num2,\"is greatest number\")\n",
    "else:\n",
    "    print(num3,\"is greatest number\")"
   ]
  },
  {
   "cell_type": "code",
   "execution_count": 23,
   "id": "81d28aff",
   "metadata": {},
   "outputs": [
    {
     "name": "stdout",
     "output_type": "stream",
     "text": [
      "Enter a number 5\n",
      "5 * 1 = 5\n",
      "5 * 2 = 10\n",
      "5 * 3 = 15\n",
      "5 * 4 = 20\n",
      "5 * 5 = 25\n",
      "5 * 6 = 30\n",
      "5 * 7 = 35\n",
      "5 * 8 = 40\n",
      "5 * 9 = 45\n",
      "5 * 10 = 50\n"
     ]
    }
   ],
   "source": [
    "#Print multiplication table of any number given by user\n",
    "num=int(input(\"Enter a number \"))\n",
    "for i in range(1,11):\n",
    "    print(num,\"*\",i,\"=\",num*i)"
   ]
  },
  {
   "cell_type": "code",
   "execution_count": 27,
   "id": "ee9b8556",
   "metadata": {},
   "outputs": [
    {
     "name": "stdout",
     "output_type": "stream",
     "text": [
      "Enter math marks 10\n",
      "Enter science marks 20\n",
      "Enter english marks 30\n",
      "fail\n"
     ]
    }
   ],
   "source": [
    "#Check if student's grade is pass, fail or need improvement basd on their score\n",
    "math=int(input(\"Enter math marks \"))\n",
    "science=int(input(\"Enter science marks \"))\n",
    "english=int(input(\"Enter english marks \"))\n",
    "avg=(math+science+english)/3\n",
    "if(avg>=75):\n",
    "    print(\"pass\")\n",
    "elif(avg>=60 and avg<75):\n",
    "    print(\"Need improvement\")\n",
    "else:\n",
    "    print(\"fail\")"
   ]
  },
  {
   "cell_type": "markdown",
   "id": "3904780e",
   "metadata": {},
   "source": [
    "# Activity 4"
   ]
  },
  {
   "cell_type": "code",
   "execution_count": 3,
   "id": "e04be454",
   "metadata": {},
   "outputs": [
    {
     "data": {
      "text/plain": [
       "False"
      ]
     },
     "execution_count": 3,
     "metadata": {},
     "output_type": "execute_result"
    }
   ],
   "source": [
    "#Create a function to check if number is prime\n",
    "def is_prime(n):\n",
    "    if n <= 1:\n",
    "        return False\n",
    "    if n <= 3:\n",
    "        return True\n",
    "    \n",
    "    if n % 2 == 0 or n % 3 == 0:\n",
    "        return False\n",
    "    \n",
    "    i = 5\n",
    "    while i * i <= n:\n",
    "        if n % i == 0 or n % (i + 2) == 0:\n",
    "            return False\n",
    "        i += 6\n",
    "    \n",
    "    return True\n",
    "\n",
    "is_prime(6)"
   ]
  },
  {
   "cell_type": "code",
   "execution_count": 6,
   "id": "217968c8",
   "metadata": {},
   "outputs": [
    {
     "name": "stdout",
     "output_type": "stream",
     "text": [
      "Enter radius5\n",
      "The area of circle is  78.5\n"
     ]
    }
   ],
   "source": [
    "#Create a function to calculate area of circle given its radius in python\n",
    "def calculate_area():\n",
    "    radius=int(input(\"Enter radius\"))\n",
    "    area = 3.14 * radius ** 2\n",
    "    print(\"The area of circle is \",area)\n",
    "calculate_area()"
   ]
  },
  {
   "cell_type": "code",
   "execution_count": 7,
   "id": "95209dda",
   "metadata": {},
   "outputs": [
    {
     "name": "stdout",
     "output_type": "stream",
     "text": [
      "6\n"
     ]
    }
   ],
   "source": [
    "#Use 'len' function to calculate number of characters in string\n",
    "a=\"Python\"\n",
    "print(len(a))"
   ]
  },
  {
   "cell_type": "code",
   "execution_count": 8,
   "id": "f03c51d8",
   "metadata": {},
   "outputs": [
    {
     "name": "stdout",
     "output_type": "stream",
     "text": [
      "The factorial of 4 is 24\n"
     ]
    }
   ],
   "source": [
    "#Create a recursive function to calculate the factorial of  a given number\n",
    "def factorial(n):\n",
    "    if n == 0 or n == 1:\n",
    "        return 1\n",
    "    else:\n",
    "        return n * factorial(n - 1)\n",
    "num = 4\n",
    "result = factorial(num)\n",
    "print(f\"The factorial of {num} is {result}\")"
   ]
  },
  {
   "cell_type": "markdown",
   "id": "bbdae7ea",
   "metadata": {},
   "source": [
    "# Activity 5"
   ]
  },
  {
   "cell_type": "code",
   "execution_count": 10,
   "id": "8c09ce78",
   "metadata": {},
   "outputs": [
    {
     "name": "stdout",
     "output_type": "stream",
     "text": [
      "Name: Rabia\n",
      "Age: 14\n",
      "Grade: 9\n",
      "Name: Rabia\n",
      "Age: 17\n",
      "Grade: 12\n"
     ]
    }
   ],
   "source": [
    "class Student:\n",
    "    def __init__(self, name, age, grade):\n",
    "        self.name = name\n",
    "        self.age = age\n",
    "        self.grade = grade\n",
    "    \n",
    "    def set_name(self, name):\n",
    "        self.name = name\n",
    "    \n",
    "    def set_age(self, age):\n",
    "        self.age = age\n",
    "    \n",
    "    def set_grade(self, grade):\n",
    "        self.grade = grade\n",
    "    \n",
    "    def display_info(self):\n",
    "        print(f\"Name: {self.name}\")\n",
    "        print(f\"Age: {self.age}\")\n",
    "        print(f\"Grade: {self.grade}\")\n",
    "\n",
    "student1 = Student(\"Rabia\", 14,9)\n",
    "student1.display_info()\n",
    "student1.set_age(17)\n",
    "student1.set_grade(12)\n",
    "student1.display_info()\n"
   ]
  },
  {
   "cell_type": "code",
   "execution_count": 12,
   "id": "1dbf6735",
   "metadata": {},
   "outputs": [
    {
     "name": "stdout",
     "output_type": "stream",
     "text": [
      "Enter amount to be Deposited: 400\n",
      "Amount Deposited: 400.0\n",
      "Enter amount to be Withdrawn: 30\n",
      "You Withdrew: 30.0\n",
      "Net Available Balance= 370.0\n"
     ]
    }
   ],
   "source": [
    "# Python program to create Bankaccount class and perform deposit() and withdraw() operations\n",
    "class Bank_Account:\n",
    "    def __init__(self):\n",
    "        self.balance=0\n",
    "    def deposit(self):\n",
    "        amount=float(input(\"Enter amount to be Deposited: \"))\n",
    "        self.balance += amount\n",
    "        print(\"Amount Deposited:\",amount)\n",
    "    def withdraw(self):\n",
    "        amount = float(input(\"Enter amount to be Withdrawn: \"))\n",
    "        if self.balance>=amount:\n",
    "            self.balance-=amount\n",
    "            print(\"You Withdrew:\", amount)\n",
    "        else:\n",
    "            print(\"Insufficient balance \")\n",
    "    def display(self):\n",
    "        print(\"Net Available Balance=\",self.balance)\n",
    "\n",
    "s = Bank_Account()\n",
    "s.deposit()\n",
    "s.withdraw()\n",
    "s.display()\n"
   ]
  },
  {
   "cell_type": "code",
   "execution_count": 16,
   "id": "1b2ec41e",
   "metadata": {},
   "outputs": [
    {
     "name": "stdout",
     "output_type": "stream",
     "text": [
      "Car Information:\n",
      "Company: Toyota\n",
      "Model: Corolla\n",
      "Year: 2022\n",
      "Number of Doors: 4\n",
      "\n",
      "Motorcycle Information:\n",
      "Company: Honda\n",
      "Model: CG-125\n",
      "Year: 2020\n",
      "Engine Type: V-Twin\n"
     ]
    }
   ],
   "source": [
    "class Vehicle:\n",
    "    def __init__(self, company, model, year):\n",
    "        self.company = company\n",
    "        self.model = model\n",
    "        self.year = year\n",
    "    \n",
    "    def display_info(self):\n",
    "        print(f\"Company: {self.company}\")\n",
    "        print(f\"Model: {self.model}\")\n",
    "        print(f\"Year: {self.year}\")\n",
    "\n",
    "class Car(Vehicle):\n",
    "    def __init__(self, company, model, year, num_doors):\n",
    "        super().__init__(company, model, year)\n",
    "        self.num_doors = num_doors\n",
    "    \n",
    "    def display_info(self):\n",
    "        super().display_info()\n",
    "        print(f\"Number of Doors: {self.num_doors}\")\n",
    "\n",
    "class Motorcycle(Vehicle):\n",
    "    def __init__(self, company, model, year, engine_type):\n",
    "        super().__init__(company, model, year)\n",
    "        self.engine_type = engine_type\n",
    "    \n",
    "    def display_info(self):\n",
    "        super().display_info()\n",
    "        print(f\"Engine Type: {self.engine_type}\")\n",
    "\n",
    "\n",
    "car1 = Car(\"Toyota\", \"Corolla\", 2022, 4)\n",
    "motorcycle1 = Motorcycle(\"Honda\", \"CG-125\", 2020, \"V-Twin\")\n",
    "\n",
    "print(\"Car Information:\")\n",
    "car1.display_info()\n",
    "print(\"\\nMotorcycle Information:\")\n",
    "motorcycle1.display_info()\n"
   ]
  },
  {
   "cell_type": "markdown",
   "id": "3115db3d",
   "metadata": {},
   "source": [
    "# Activity 6"
   ]
  },
  {
   "cell_type": "code",
   "execution_count": 18,
   "id": "ab5ecf00",
   "metadata": {},
   "outputs": [
    {
     "name": "stdout",
     "output_type": "stream",
     "text": [
      "Employee Name: John\n",
      "Employee Salary: $5000\n"
     ]
    }
   ],
   "source": [
    "#Create a class called Employee with private attributes name and salary. Implement getter and setter methods to access and modify these attributes.\n",
    "class Employee:\n",
    "    def __init__(self, name, salary):\n",
    "        self.__name = name  \n",
    "        self.__salary = salary  \n",
    "    \n",
    "    # Getter methods\n",
    "    def get_name(self):\n",
    "        return self.__name\n",
    "    \n",
    "    def get_salary(self):\n",
    "        return self.__salary\n",
    "    \n",
    "    # Setter methods\n",
    "    def set_name(self, name):\n",
    "        self.__name = name\n",
    "    \n",
    "    def set_salary(self, salary):\n",
    "        self.__salary = salary\n",
    "\n",
    "# Instantiate an Employee object and set attributes\n",
    "employee = Employee(\"John\", 5000)\n",
    "\n",
    "print(f\"Employee Name: {employee.get_name()}\")\n",
    "print(f\"Employee Salary: ${employee.get_salary()}\")\n"
   ]
  },
  {
   "cell_type": "markdown",
   "id": "5d4c98ea",
   "metadata": {},
   "source": [
    "# Activity 7"
   ]
  },
  {
   "cell_type": "code",
   "execution_count": 19,
   "id": "bc1fe12e",
   "metadata": {},
   "outputs": [
    {
     "name": "stdout",
     "output_type": "stream",
     "text": [
      "Calculating area of a generic shape\n"
     ]
    }
   ],
   "source": [
    "# Create a base class called Shape with a method called area(). Provide a default implementation that prints \"Calculating area of a generic shape\".\n",
    "class Shape:\n",
    "    def area(self):\n",
    "        print(\"Calculating area of a generic shape\")\n",
    "\n",
    "shape = Shape()\n",
    "shape.area()"
   ]
  },
  {
   "cell_type": "code",
   "execution_count": 20,
   "id": "db6f97dc",
   "metadata": {},
   "outputs": [
    {
     "name": "stdout",
     "output_type": "stream",
     "text": [
      "Calculating area of a rectangle: 15\n"
     ]
    }
   ],
   "source": [
    "# Create a subclass called Rectangle that inherits from Shape. Override the area() method to calculate and print the area of a rectangle using the formula: length * width.\n",
    "class Rectangle(Shape):\n",
    "    def __init__(self, length, width):\n",
    "        self.length = length\n",
    "        self.width = width\n",
    "    \n",
    "    def area(self):\n",
    "        rectangle_area = self.length * self.width\n",
    "        print(f\"Calculating area of a rectangle: {rectangle_area}\")\n",
    "\n",
    "rectangle = Rectangle(5, 3)\n",
    "rectangle.area()"
   ]
  },
  {
   "cell_type": "code",
   "execution_count": 21,
   "id": "d7af37c9",
   "metadata": {},
   "outputs": [
    {
     "name": "stdout",
     "output_type": "stream",
     "text": [
      "Calculating area of a circle: 50.24\n"
     ]
    }
   ],
   "source": [
    "# Create another subclass called Circle that inherits from Shape. Override the area() method to calculate and print the area of a circle using the formula: pi * radius^2.\n",
    "class Circle(Shape):\n",
    "    def __init__(self, radius):\n",
    "        self.radius = radius\n",
    "    \n",
    "    def area(self):\n",
    "        circle_area = 3.14 * self.radius ** 2\n",
    "        print(f\"Calculating area of a circle: {circle_area}\")\n",
    "\n",
    "# Create an instance of the Circle class\n",
    "circle = Circle(4)\n",
    "# Call the overridden area method\n",
    "circle.area()"
   ]
  },
  {
   "cell_type": "code",
   "execution_count": 22,
   "id": "e233fa21",
   "metadata": {},
   "outputs": [
    {
     "name": "stdout",
     "output_type": "stream",
     "text": [
      "Calculating area of a rectangle: 15\n",
      "Calculating area of a circle: 50.24\n"
     ]
    }
   ],
   "source": [
    "# Create instances of both Rectangle and Circle classes. Call the area() method on each object and observe the output.\n",
    "class Shape:\n",
    "    def area(self):\n",
    "        print(\"Calculating area of a generic shape\")\n",
    "\n",
    "class Rectangle(Shape):\n",
    "    def __init__(self, length, width):\n",
    "        self.length = length\n",
    "        self.width = width\n",
    "    \n",
    "    def area(self):\n",
    "        rectangle_area = self.length * self.width\n",
    "        print(f\"Calculating area of a rectangle: {rectangle_area}\")\n",
    "\n",
    "class Circle(Shape):\n",
    "    def __init__(self, radius):\n",
    "        self.radius = radius\n",
    "    \n",
    "    def area(self):\n",
    "        circle_area = 3.14 * self.radius ** 2\n",
    "        print(f\"Calculating area of a circle: {circle_area}\")\n",
    "\n",
    "rectangle = Rectangle(5, 3)\n",
    "circle = Circle(4)\n",
    "\n",
    "rectangle.area()\n",
    "circle.area()"
   ]
  },
  {
   "cell_type": "markdown",
   "id": "a5047232",
   "metadata": {},
   "source": [
    "# Activity 8"
   ]
  },
  {
   "cell_type": "code",
   "execution_count": 24,
   "id": "e1d63b8f",
   "metadata": {},
   "outputs": [
    {
     "name": "stdout",
     "output_type": "stream",
     "text": [
      "Dog sounds:\n",
      "Bark! Bark!\n",
      "\n",
      "Cat sounds:\n",
      "Meow!\n"
     ]
    }
   ],
   "source": [
    "# Create a base class called Animal with a method called sound(). Provide a default implementation that prints \"Making a generic animal sound\".\n",
    "class Animal:\n",
    "    def sound(self):\n",
    "        print(\"Making a generic animal sound\")\n",
    "\n",
    "class Dog(Animal):\n",
    "    def sound(self):\n",
    "        print(\"Bark! Bark!\")\n",
    "\n",
    "class Cat(Animal):\n",
    "    def sound(self):\n",
    "        print(\"Meow!\")\n",
    "\n",
    "def make_sound(animal):\n",
    "    animal.sound()\n",
    "\n",
    "dog = Dog()\n",
    "cat = Cat()\n",
    "print(\"Dog sounds:\")\n",
    "make_sound(dog)\n",
    "print(\"\\nCat sounds:\")\n",
    "make_sound(cat)"
   ]
  },
  {
   "cell_type": "markdown",
   "id": "2c58762d",
   "metadata": {},
   "source": [
    "# Activity 9"
   ]
  },
  {
   "cell_type": "code",
   "execution_count": 25,
   "id": "1316af5d",
   "metadata": {},
   "outputs": [
    {
     "name": "stdout",
     "output_type": "stream",
     "text": [
      "Error: Division by zero\n"
     ]
    }
   ],
   "source": [
    "#Handle the ZeroDivisionError exception when dividing a number by zero.\n",
    "try:\n",
    "    numerator = 10\n",
    "    denominator = 0\n",
    "    result = numerator / denominator\n",
    "except ZeroDivisionError:\n",
    "    print(\"Error: Division by zero\")\n",
    "else:\n",
    "    print(\"Result:\", result)\n"
   ]
  },
  {
   "cell_type": "code",
   "execution_count": 26,
   "id": "25ec389f",
   "metadata": {},
   "outputs": [
    {
     "name": "stdout",
     "output_type": "stream",
     "text": [
      "Enter a number: sara\n",
      "Error: Invalid input. Please enter a valid number.\n"
     ]
    }
   ],
   "source": [
    "#Handle the ValueError exception when converting a string to an integer.\n",
    "try:\n",
    "    input_string = input(\"Enter a number: \")\n",
    "    num = int(input_string)\n",
    "except ValueError:\n",
    "    print(\"Error: Invalid input. Please enter a valid number.\")\n",
    "else:\n",
    "    print(\"Successfully converted:\", num)"
   ]
  },
  {
   "cell_type": "code",
   "execution_count": 27,
   "id": "8b23d0b4",
   "metadata": {},
   "outputs": [
    {
     "name": "stdout",
     "output_type": "stream",
     "text": [
      "Error: File 'nonexistent.txt' not found.\n"
     ]
    }
   ],
   "source": [
    "# Handle the FileNotFoundError exception when opening a non-existent file.\n",
    "try:\n",
    "    file_path = \"nonexistent.txt\"\n",
    "    with open(file_path, \"r\") as file:\n",
    "        content = file.read()\n",
    "except FileNotFoundError:\n",
    "    print(f\"Error: File '{file_path}' not found.\")\n",
    "else:\n",
    "    print(\"File content:\", content)"
   ]
  },
  {
   "cell_type": "markdown",
   "id": "28683d09",
   "metadata": {},
   "source": [
    "# Activity 10"
   ]
  },
  {
   "cell_type": "code",
   "execution_count": 28,
   "id": "07c69e12",
   "metadata": {},
   "outputs": [
    {
     "name": "stdout",
     "output_type": "stream",
     "text": [
      "The length of the list is: 5\n",
      "List elements:\n",
      "10\n",
      "20\n",
      "30\n",
      "40\n",
      "50\n"
     ]
    }
   ],
   "source": [
    "#Find the length of a list and print its elements.\n",
    "my_list = [10, 20, 30, 40, 50]\n",
    "list_length = len(my_list)\n",
    "print(f\"The length of the list is: {list_length}\")\n",
    "print(\"List elements:\")\n",
    "for item in my_list:\n",
    "    print(item)"
   ]
  },
  {
   "cell_type": "code",
   "execution_count": 29,
   "id": "2eee8fdc",
   "metadata": {},
   "outputs": [
    {
     "name": "stdout",
     "output_type": "stream",
     "text": [
      "List sorted in ascending order: [12, 34, 45, 76, 98]\n",
      "List reversed: [98, 76, 45, 34, 12]\n"
     ]
    }
   ],
   "source": [
    "#Sort a list in ascending order and reverse the order of the list.\n",
    "my_list = [45, 12, 98, 34, 76]\n",
    "my_list.sort()\n",
    "print(\"List sorted in ascending order:\", my_list)\n",
    "my_list.reverse()\n",
    "print(\"List reversed:\", my_list)"
   ]
  },
  {
   "cell_type": "code",
   "execution_count": 30,
   "id": "f7a13ec0",
   "metadata": {},
   "outputs": [
    {
     "name": "stdout",
     "output_type": "stream",
     "text": [
      "List after appending: [10, 20, 30, 40, 50, 60]\n",
      "List after removing: [10, 30, 40, 50, 60]\n"
     ]
    }
   ],
   "source": [
    "#Append an element to a list and remove a specific element from the list.\n",
    "my_list = [10, 20, 30, 40, 50]\n",
    "my_list.append(60)\n",
    "print(\"List after appending:\", my_list)\n",
    "my_list.remove(20)\n",
    "print(\"List after removing:\", my_list)\n"
   ]
  },
  {
   "cell_type": "markdown",
   "id": "060a3f9e",
   "metadata": {},
   "source": [
    "# Activity 11"
   ]
  },
  {
   "cell_type": "code",
   "execution_count": 31,
   "id": "4b169d62",
   "metadata": {},
   "outputs": [
    {
     "name": "stdout",
     "output_type": "stream",
     "text": [
      "Value of 'name': Saba\n",
      "Value of 'age': 18\n"
     ]
    }
   ],
   "source": [
    "#Access and print the values of specific keys in a dictionary.\n",
    "my_dict = {'name': 'Saba', 'age': 18, 'city': 'Karachi'}\n",
    "print(\"Value of 'name':\", my_dict['name'])\n",
    "print(\"Value of 'age':\", my_dict['age'])"
   ]
  },
  {
   "cell_type": "code",
   "execution_count": 32,
   "id": "1ce7604c",
   "metadata": {},
   "outputs": [
    {
     "name": "stdout",
     "output_type": "stream",
     "text": [
      "Dictionary after adding new key-value pairs:\n",
      "{'name': 'Ahmed', 'age': 30, 'city': 'Karachi', 'job': 'Engineer', 'salary': 50000}\n",
      "\n",
      "Dictionary after updating a value:\n",
      "{'name': 'Ahmed', 'age': 31, 'city': 'Karachi', 'job': 'Engineer', 'salary': 50000}\n"
     ]
    }
   ],
   "source": [
    "#Add new key-value pairs to a dictionary and update the value of an existing key.\n",
    "my_dict = {'name': 'Ahmed', 'age': 30, 'city': 'Karachi'}\n",
    "\n",
    "# Add new key-value pairs\n",
    "my_dict['job'] = 'Engineer'\n",
    "my_dict['salary'] = 50000\n",
    "\n",
    "print(\"Dictionary after adding new key-value pairs:\")\n",
    "print(my_dict)\n",
    "\n",
    "my_dict['age'] = 31\n",
    "\n",
    "print(\"\\nDictionary after updating a value:\")\n",
    "print(my_dict)"
   ]
  },
  {
   "cell_type": "code",
   "execution_count": 33,
   "id": "87dd2951",
   "metadata": {},
   "outputs": [
    {
     "name": "stdout",
     "output_type": "stream",
     "text": [
      "Key: name, Value: Ahmed\n",
      "Key: age, Value: 30\n",
      "Key: city, Value: Karachi\n"
     ]
    }
   ],
   "source": [
    "#Iterate over the keys and print the corresponding values in a dictionary.\n",
    "my_dict = {'name': 'Ahmed', 'age': 30, 'city': 'Karachi'}\n",
    "for key in my_dict:\n",
    "    value = my_dict[key]\n",
    "    print(f\"Key: {key}, Value: {value}\")"
   ]
  },
  {
   "cell_type": "code",
   "execution_count": 34,
   "id": "23f3ac7c",
   "metadata": {},
   "outputs": [
    {
     "name": "stdout",
     "output_type": "stream",
     "text": [
      "The key 'age' exists in the dictionary.\n"
     ]
    }
   ],
   "source": [
    "#Check if a specific key exists in a dictionary.\n",
    "my_dict = {'name': 'Ahmed', 'age': 30, 'city': 'Karachi'}\n",
    "key_to_check = 'age'\n",
    "if key_to_check in my_dict:\n",
    "    print(f\"The key '{key_to_check}' exists in the dictionary.\")\n",
    "else:\n",
    "    print(f\"The key '{key_to_check}' does not exist in the dictionary.\")"
   ]
  },
  {
   "cell_type": "markdown",
   "id": "6ef9acac",
   "metadata": {},
   "source": [
    "# Activity 12"
   ]
  },
  {
   "cell_type": "code",
   "execution_count": 35,
   "id": "39117a75",
   "metadata": {},
   "outputs": [
    {
     "name": "stdout",
     "output_type": "stream",
     "text": [
      "Occurrences of the pattern:\n",
      "['quick', 'quick', 'quick']\n"
     ]
    }
   ],
   "source": [
    "#Find all occurrences of a specific pattern in a string using the findall function.\n",
    "import re\n",
    "text = \"The quick brown fox jumps over the lazy dog. The quick fox is quick.\"\n",
    "pattern = r'quick'\n",
    "occurrences = re.findall(pattern, text)\n",
    "print(\"Occurrences of the pattern:\")\n",
    "print(occurrences)"
   ]
  },
  {
   "cell_type": "code",
   "execution_count": 36,
   "id": "76078ca1",
   "metadata": {},
   "outputs": [
    {
     "name": "stdout",
     "output_type": "stream",
     "text": [
      "Original text:\n",
      "The quick brown fox jumps over the lazy dog. The quick fox is quick.\n",
      "\n",
      "Text after replacement:\n",
      "The fast brown fox jumps over the lazy dog. The fast fox is fast.\n"
     ]
    }
   ],
   "source": [
    "#Replace a specific pattern in a string using the ‘sub()’ function.\n",
    "import re\n",
    "\n",
    "text = \"The quick brown fox jumps over the lazy dog. The quick fox is quick.\"\n",
    "pattern = r'quick'\n",
    "replacement = 'fast'\n",
    "new_text = re.sub(pattern, replacement, text)\n",
    "\n",
    "print(\"Original text:\")\n",
    "print(text)\n",
    "print(\"\\nText after replacement:\")\n",
    "print(new_text)"
   ]
  },
  {
   "cell_type": "markdown",
   "id": "72d6f493",
   "metadata": {},
   "source": [
    "# Activity 13"
   ]
  },
  {
   "cell_type": "code",
   "execution_count": 37,
   "id": "6c575d1f",
   "metadata": {},
   "outputs": [
    {
     "name": "stdout",
     "output_type": "stream",
     "text": [
      "Original array:\n",
      "[[1 2 3]\n",
      " [4 5 6]]\n",
      "\n",
      "Reshaped array:\n",
      "[[1 2]\n",
      " [3 4]\n",
      " [5 6]]\n",
      "\n",
      "Matrix multiplication result:\n",
      "[[ 4  4  7]\n",
      " [10  8 15]\n",
      " [16 12 23]]\n"
     ]
    }
   ],
   "source": [
    "#Reshape a NumPy array and perform matrix multiplication.\n",
    "import numpy as np\n",
    "\n",
    "# Create a 2x3 array\n",
    "array1 = np.array([[1, 2, 3],\n",
    "                   [4, 5, 6]])\n",
    "\n",
    "print(\"Original array:\")\n",
    "print(array1)\n",
    "\n",
    "# Reshape the array to a 3x2 array\n",
    "reshaped_array = np.reshape(array1, (3, 2))\n",
    "\n",
    "print(\"\\nReshaped array:\")\n",
    "print(reshaped_array)\n",
    "\n",
    "# Create another 2x3 array\n",
    "array2 = np.array([[2, 0, 1],\n",
    "                   [1, 2, 3]])\n",
    "\n",
    "# Perform matrix multiplication\n",
    "result = np.dot(reshaped_array, array2)\n",
    "\n",
    "print(\"\\nMatrix multiplication result:\")\n",
    "print(result)"
   ]
  },
  {
   "cell_type": "code",
   "execution_count": 38,
   "id": "3813267a",
   "metadata": {},
   "outputs": [
    {
     "name": "stdout",
     "output_type": "stream",
     "text": [
      "Original DataFrame:\n",
      "     Name  Age      City\n",
      "0    Sara   25  New York\n",
      "1  Ramsha   30   Karachi\n",
      "2   Maria   22    London\n",
      "3     Ali   28   Toronto\n",
      "\n",
      "Filtered DataFrame:\n",
      "     Name  Age     City\n",
      "1  Ramsha   30  Karachi\n",
      "3     Ali   28  Toronto\n"
     ]
    }
   ],
   "source": [
    "#Filter the DataFrame based on a specific condition and display the result.\n",
    "import pandas as pd\n",
    "data = {'Name': ['Sara', 'Ramsha', 'Maria', 'Ali'],\n",
    "        'Age': [25, 30, 22, 28],\n",
    "        'City': ['New York', 'Karachi', 'London', 'Toronto']}\n",
    "\n",
    "df = pd.DataFrame(data)\n",
    "\n",
    "print(\"Original DataFrame:\")\n",
    "print(df)\n",
    "\n",
    "# Filter the DataFrame based on a condition (e.g., Age > 25)\n",
    "filtered_df = df[df['Age'] > 25]\n",
    "\n",
    "print(\"\\nFiltered DataFrame:\")\n",
    "print(filtered_df)"
   ]
  },
  {
   "cell_type": "code",
   "execution_count": 42,
   "id": "ff85ff6f",
   "metadata": {},
   "outputs": [
    {
     "name": "stdout",
     "output_type": "stream",
     "text": [
      "Original DataFrame:\n",
      "     Name  Age  Salary\n",
      "0    Sara   25   50000\n",
      "1  Ramsha   30   60000\n",
      "2   Maria   22   55000\n",
      "3     Ali   28   62000\n",
      "\n",
      "Total Salary: 227000\n",
      "Average Age: 26.25\n"
     ]
    }
   ],
   "source": [
    "#Perform aggregation operations on a DataFrame, such as calculating the sum and mean.\n",
    "import pandas as pd\n",
    "data = {'Name': ['Sara', 'Ramsha', 'Maria', 'Ali'],\n",
    "        'Age': [25, 30, 22, 28],\n",
    "        'Salary': [50000, 60000, 55000, 62000]}\n",
    "\n",
    "df = pd.DataFrame(data)\n",
    "\n",
    "print(\"Original DataFrame:\")\n",
    "print(df)\n",
    "\n",
    "# Calculate the sum of the 'Salary' column\n",
    "total_salary = df['Salary'].sum()\n",
    "print(\"\\nTotal Salary:\", total_salary)\n",
    "\n",
    "# Calculate the mean of the 'Age' column\n",
    "average_age = df['Age'].mean()\n",
    "print(\"Average Age:\", average_age)"
   ]
  },
  {
   "cell_type": "markdown",
   "id": "76c9ae0d",
   "metadata": {},
   "source": [
    "# Activity 14"
   ]
  },
  {
   "cell_type": "code",
   "execution_count": 43,
   "id": "ebd03af0",
   "metadata": {},
   "outputs": [
    {
     "data": {
      "image/png": "[encoded data removed]",
      "text/plain": [
       "<Figure size 640x480 with 1 Axes>"
      ]
     },
     "metadata": {},
     "output_type": "display_data"
    }
   ],
   "source": [
    "#Create a line plot using Matplotlib to visualize a series of data points.\n",
    "import matplotlib.pyplot as plt\n",
    "\n",
    "x = [1, 2, 3, 4, 5]\n",
    "y = [5, 8, 6, 4, 7]\n",
    "\n",
    "plt.plot(x, y, marker='o', linestyle='-', color='b', label='Data Points')\n",
    "plt.xlabel('X-axis')\n",
    "plt.ylabel('Y-axis')\n",
    "plt.title('Line Plot Example')\n",
    "plt.legend()\n",
    "plt.show()"
   ]
  },
  {
   "cell_type": "code",
   "execution_count": 44,
   "id": "5d75834e",
   "metadata": {},
   "outputs": [
    {
     "data": {
      "image/png": "[encoded data removed]",
      "text/plain": [
       "<Figure size 1000x600 with 4 Axes>"
      ]
     },
     "metadata": {},
     "output_type": "display_data"
    }
   ],
   "source": [
    "#Create multiple subplots within a single figure using Matplotlib.\n",
    "import matplotlib.pyplot as plt\n",
    "\n",
    "fig, axes = plt.subplots(nrows=2, ncols=2, figsize=(10, 6))\n",
    "\n",
    "x = [1, 2, 3, 4, 5]\n",
    "y1 = [5, 8, 6, 4, 7]\n",
    "y2 = [3, 6, 4, 9, 5]\n",
    "y3 = [9, 2, 7, 1, 8]\n",
    "y4 = [2, 7, 3, 5, 6]\n",
    "\n",
    "# Create subplots using plot()\n",
    "axes[0, 0].plot(x, y1)\n",
    "axes[0, 0].set_title('Subplot 1')\n",
    "axes[0, 1].plot(x, y2, color='orange')\n",
    "axes[0, 1].set_title('Subplot 2')\n",
    "axes[1, 0].plot(x, y3, color='green')\n",
    "axes[1, 0].set_title('Subplot 3')\n",
    "axes[1, 1].plot(x, y4, color='red')\n",
    "axes[1, 1].set_title('Subplot 4')\n",
    "\n",
    "plt.tight_layout()\n",
    "plt.show()"
   ]
  },
  {
   "cell_type": "code",
   "execution_count": 48,
   "id": "1143dd1e",
   "metadata": {},
   "outputs": [
    {
     "data": {
      "image/png": "[encoded data removed]",
      "text/plain": [
       "<Figure size 640x480 with 1 Axes>"
      ]
     },
     "metadata": {},
     "output_type": "display_data"
    }
   ],
   "source": [
    "#Create a bar chart using Matplotlib to compare different categories.\n",
    "import matplotlib.pyplot as plt\n",
    "categories = ['Category A', 'Category B', 'Category C', 'Category D']\n",
    "values = [25, 40, 30, 50]\n",
    "\n",
    "plt.bar(categories, values, color='blue')\n",
    "\n",
    "plt.xlabel('Categories')\n",
    "plt.ylabel('Values')\n",
    "plt.title('Bar Chart')\n",
    "\n",
    "plt.show()"
   ]
  },
  {
   "cell_type": "code",
   "execution_count": 47,
   "id": "25319dcc",
   "metadata": {},
   "outputs": [
    {
     "data": {
      "image/png": "[encoded data removed]",
      "text/plain": [
       "<Figure size 640x480 with 1 Axes>"
      ]
     },
     "metadata": {},
     "output_type": "display_data"
    }
   ],
   "source": [
    "#Create a scatter plot using Matplotlib to visualize the relationship between two variables.\n",
    "import matplotlib.pyplot as plt\n",
    "x = [1, 2, 3, 4, 5]\n",
    "y = [5, 8, 6, 4, 7]\n",
    "\n",
    "plt.scatter(x, y, color='blue', marker='o')\n",
    "\n",
    "plt.xlabel('X-axis')\n",
    "plt.ylabel('Y-axis')\n",
    "plt.title('Scatter Plot')\n",
    "\n",
    "plt.show()"
   ]
  },
  {
   "cell_type": "code",
   "execution_count": 59,
   "id": "d1596f87",
   "metadata": {},
   "outputs": [
    {
     "data": {
      "image/png": "[encoded data removed]",
      "text/plain": [
       "<Figure size 640x480 with 1 Axes>"
      ]
     },
     "metadata": {},
     "output_type": "display_data"
    }
   ],
   "source": [
    "#Create a histogram using Matplotlib to visualize the distribution of data.\n",
    "import matplotlib.pyplot as plt\n",
    "data = [15, 23, 40, 30, 32, 45, 18, 28, 35, 22, 27, 38, 20, 29, 33, 24]\n",
    "\n",
    "plt.hist(data, bins=10, color='pink', edgecolor='black')\n",
    "\n",
    "plt.xlabel('Value')\n",
    "plt.ylabel('Frequency')\n",
    "plt.title('Histogram Example')\n",
    "\n",
    "plt.show()"
   ]
  },
  {
   "cell_type": "markdown",
   "id": "61146185",
   "metadata": {},
   "source": [
    "# Activity 15"
   ]
  },
  {
   "cell_type": "code",
   "execution_count": 57,
   "id": "d899e2f4",
   "metadata": {},
   "outputs": [
    {
     "name": "stderr",
     "output_type": "stream",
     "text": [
      "[nltk_data] Downloading package punkt to\n",
      "[nltk_data]     C:\\Users\\HP\\AppData\\Roaming\\nltk_data...\n",
      "[nltk_data]   Unzipping tokenizers\\punkt.zip.\n"
     ]
    },
    {
     "name": "stdout",
     "output_type": "stream",
     "text": [
      "Tokens: ['Hello', ',', 'this', 'is', 'a', 'sample', 'text', 'for', 'tokenization', '.']\n"
     ]
    }
   ],
   "source": [
    "#Tokenize a text into individual words using the ‘nltk’ library.\n",
    "import nltk\n",
    "from nltk.tokenize import word_tokenize\n",
    "nltk.download('punkt')\n",
    "text = \"Hello, this is a sample text for tokenization.\"\n",
    "tokens = word_tokenize(text)\n",
    "print(\"Tokens:\", tokens)"
   ]
  },
  {
   "cell_type": "code",
   "execution_count": 58,
   "id": "62ff22f3",
   "metadata": {},
   "outputs": [
    {
     "name": "stderr",
     "output_type": "stream",
     "text": [
      "[nltk_data] Downloading package stopwords to\n",
      "[nltk_data]     C:\\Users\\HP\\AppData\\Roaming\\nltk_data...\n",
      "[nltk_data]   Unzipping corpora\\stopwords.zip.\n"
     ]
    },
    {
     "name": "stdout",
     "output_type": "stream",
     "text": [
      "Filtered Text: example sentence stop words want remove .\n"
     ]
    }
   ],
   "source": [
    "#Remove stop words from a text using the ‘nltk’ library.\n",
    "import nltk\n",
    "from nltk.corpus import stopwords\n",
    "from nltk.tokenize import word_tokenize\n",
    "\n",
    "nltk.download('stopwords')\n",
    "\n",
    "text = \"This is an example sentence with some stop words that we want to remove.\"\n",
    "tokens = word_tokenize(text)\n",
    "stop_words = set(stopwords.words('english'))\n",
    "filtered_tokens = [word for word in tokens if word.lower() not in stop_words]\n",
    "filtered_text = ' '.join(filtered_tokens)\n",
    "print(\"Filtered Text:\", filtered_text)"
   ]
  },
  {
   "cell_type": "code",
   "execution_count": null,
   "id": "16297b46",
   "metadata": {},
   "outputs": [],
   "source": []
  }
 ],
 "metadata": {
  "kernelspec": {
   "display_name": "Python 3 (ipykernel)",
   "language": "python",
   "name": "python3"
  },
  "language_info": {
   "codemirror_mode": {
    "name": "ipython",
    "version": 3
   },
   "file_extension": ".py",
   "mimetype": "text/x-python",
   "name": "python",
   "nbconvert_exporter": "python",
   "pygments_lexer": "ipython3",
   "version": "3.10.7"
  }
 },
 "nbformat": 4,
 "nbformat_minor": 5
}
