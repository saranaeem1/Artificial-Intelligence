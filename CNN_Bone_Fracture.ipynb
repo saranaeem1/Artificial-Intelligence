{
  "nbformat": 4,
  "nbformat_minor": 0,
  "metadata": {
    "colab": {
      "provenance": []
    },
    "kernelspec": {
      "name": "python3",
      "display_name": "Python 3"
    },
    "language_info": {
      "name": "python"
    }
  },
  "cells": [
    {
      "cell_type": "code",
      "execution_count": 1,
      "metadata": {
        "id": "wU1ry8WJzqAd"
      },
      "outputs": [],
      "source": [
        "!pip install -q kaggle"
      ]
    },
    {
      "cell_type": "code",
      "source": [
        "!mkdir -p ~/.kaggle\n",
        "!cp kaggle.json ~/.kaggle/"
      ],
      "metadata": {
        "id": "s4hXZdyJzwNV"
      },
      "execution_count": 3,
      "outputs": []
    },
    {
      "cell_type": "code",
      "source": [
        "!kaggle datasets download -d vuppalaadithyasairam/bone-fracture-detection-using-xrays"
      ],
      "metadata": {
        "colab": {
          "base_uri": "https://localhost:8080/"
        },
        "id": "5-qlujRPzwO0",
        "outputId": "1bd91bbe-7500-4820-846f-8a5e09c97e22"
      },
      "execution_count": 4,
      "outputs": [
        {
          "output_type": "stream",
          "name": "stdout",
          "text": [
            "Warning: Your Kaggle API key is readable by other users on this system! To fix this, you can run 'chmod 600 /root/.kaggle/kaggle.json'\n",
            "Downloading bone-fracture-detection-using-xrays.zip to /content\n",
            " 97% 168M/172M [00:06<00:00, 32.9MB/s]\n",
            "100% 172M/172M [00:06<00:00, 28.7MB/s]\n"
          ]
        }
      ]
    },
    {
      "cell_type": "code",
      "source": [
        "import zipfile\n",
        "zip_ref=zipfile.ZipFile('/content/bone-fracture-detection-using-xrays.zip', 'r')\n",
        "zip_ref.extractall('/content')\n",
        "zip_ref.close()"
      ],
      "metadata": {
        "id": "nUA-vf6BzwQi"
      },
      "execution_count": 5,
      "outputs": []
    },
    {
      "cell_type": "code",
      "source": [
        "import tensorflow as tf\n",
        "from tensorflow.keras.layers import Input, Lambda, Dense, Flatten, Dropout, MaxPooling2D, Dropout\n",
        "from tensorflow.keras.models import Model\n",
        "from tensorflow.keras.applications.vgg16 import VGG16\n",
        "from keras.applications.vgg16 import preprocess_input\n",
        "from keras.preprocessing import image\n",
        "from keras.preprocessing.image import ImageDataGenerator\n",
        "from keras.models import Sequential\n",
        "import numpy as np\n",
        "import matplotlib.pyplot as plt\n",
        "import pandas as pd\n",
        "from glob import glob\n",
        "import os\n",
        "import cv2\n",
        "from tensorflow.keras.utils import load_img, img_to_array\n"
      ],
      "metadata": {
        "id": "yQCY_YqNzwSj"
      },
      "execution_count": 6,
      "outputs": []
    },
    {
      "cell_type": "code",
      "source": [
        "DIRECTORY=r'/content/archive (6)'\n",
        "FOLDERS=['train','val']\n",
        "CLASSES=['fractured','not fractured']"
      ],
      "metadata": {
        "id": "S8VsjF5Z0HkE"
      },
      "execution_count": 7,
      "outputs": []
    },
    {
      "cell_type": "code",
      "source": [
        "import os\n",
        "DIRECTORY=r'/content/archive (6)'\n",
        "if os.path.exists(DIRECTORY):\n",
        "  print(\"Directory exixts.\")\n",
        "else:\n",
        "  print(\"Directory does not exits.\")"
      ],
      "metadata": {
        "colab": {
          "base_uri": "https://localhost:8080/"
        },
        "id": "mu_lGeyb0HoH",
        "outputId": "2a3a46a8-5fc4-4dfe-e129-456cba64bcff"
      },
      "execution_count": 8,
      "outputs": [
        {
          "output_type": "stream",
          "name": "stdout",
          "text": [
            "Directory exixts.\n"
          ]
        }
      ]
    },
    {
      "cell_type": "code",
      "source": [
        "X = []\n",
        "y = []\n",
        "\n",
        "for classification in CLASSES:\n",
        "    class_dir = os.path.join(DIRECTORY, 'train', classification)\n",
        "    images = os.listdir(class_dir)\n",
        "\n",
        "    for image in images:\n",
        "        try:\n",
        "            image_path = os.path.join(class_dir, image)\n",
        "            if os.path.isfile(image_path):  # Check if the path points to a file\n",
        "                arr = cv2.imread(image_path)\n",
        "                if arr is not None:  # Check if the image was loaded successfully\n",
        "                    arr = cv2.resize(arr, (150, 150))\n",
        "                    X.append(arr)\n",
        "                    label = CLASSES.index(classification)\n",
        "                    y.append(label)\n",
        "                else:\n",
        "                    print(\"Failed to load image:\", image_path)\n",
        "            else:\n",
        "                print(\"Not a file:\", image_path)\n",
        "        except Exception as e:\n",
        "            print(\"ERROR:\", e)"
      ],
      "metadata": {
        "id": "pvKq6KH70HqZ"
      },
      "execution_count": 9,
      "outputs": []
    },
    {
      "cell_type": "code",
      "source": [
        "print(len(X))\n",
        "print(len(y))"
      ],
      "metadata": {
        "colab": {
          "base_uri": "https://localhost:8080/"
        },
        "id": "UuTblxJH0HsY",
        "outputId": "146071d8-8dec-4e40-95af-38c18e651eb8"
      },
      "execution_count": 10,
      "outputs": [
        {
          "output_type": "stream",
          "name": "stdout",
          "text": [
            "8863\n",
            "8863\n"
          ]
        }
      ]
    },
    {
      "cell_type": "code",
      "source": [
        "X =np.array(X)\n",
        "y=np.array(y)"
      ],
      "metadata": {
        "id": "UX2837fD0Hu9"
      },
      "execution_count": 11,
      "outputs": []
    },
    {
      "cell_type": "code",
      "source": [
        "print(\"Shape of X:\" ,X.shape)\n",
        "print(\"Shape of y:\" ,y.shape)"
      ],
      "metadata": {
        "colab": {
          "base_uri": "https://localhost:8080/"
        },
        "id": "frOx8rjL0ICz",
        "outputId": "21f60197-fbbb-4f7c-f609-d446adf6f3b7"
      },
      "execution_count": 12,
      "outputs": [
        {
          "output_type": "stream",
          "name": "stdout",
          "text": [
            "Shape of X: (8863, 150, 150, 3)\n",
            "Shape of y: (8863,)\n"
          ]
        }
      ]
    },
    {
      "cell_type": "code",
      "source": [
        "X=X/255"
      ],
      "metadata": {
        "id": "9cEPXQ4t0IGV"
      },
      "execution_count": 13,
      "outputs": []
    },
    {
      "cell_type": "code",
      "source": [
        "from tensorflow.keras.layers import Conv2D ,Dense,Flatten, Dropout,MaxPool2D"
      ],
      "metadata": {
        "id": "kfxVrIqn0IH-"
      },
      "execution_count": 14,
      "outputs": []
    },
    {
      "cell_type": "code",
      "source": [
        "model =Sequential()\n",
        "#Layer1\n",
        "model.add(Conv2D(64,(3,3),input_shape=(150,150,3),activation='relu'))\n",
        "model.add(MaxPool2D(2,2))\n",
        "\n",
        "#Layer2\n",
        "model.add(Conv2D(128,(3,3),activation='relu'))\n",
        "model.add(MaxPool2D(2,2))\n",
        "model.add(Dropout(0.25))\n",
        "\n",
        "#Layer3\n",
        "model.add(Conv2D(128,(3,3),activation='relu'))\n",
        "model.add(MaxPool2D(2,2))\n",
        "model.add(Dropout(0.25))\n",
        "\n",
        "#Layer4\n",
        "model.add(Conv2D(64,(3,3),activation='relu'))\n",
        "model.add(MaxPool2D(2,2))\n",
        "model.add(Dropout(0.25))\n",
        "\n",
        "#FLATTEN\n",
        "model.add(Flatten())\n",
        "\n",
        "#DENSE LAYERS\n",
        "model.add(Dense(256, activation='relu'))\n",
        "model.add(Dense(256, activation='relu'))\n",
        "model.add(Dense(128, activation='relu'))\n",
        "\n",
        "#OUTPUT LAYER\n",
        "model.add(Dense(2, activation='sigmoid'))"
      ],
      "metadata": {
        "id": "3g1c84CR0IJx"
      },
      "execution_count": 15,
      "outputs": []
    },
    {
      "cell_type": "code",
      "source": [
        "model.compile(\n",
        "    loss='sparse_categorical_crossentropy',\n",
        "    optimizer='adam',\n",
        "    metrics=['accuracy']\n",
        ")"
      ],
      "metadata": {
        "id": "MgJwBNy60INd"
      },
      "execution_count": 16,
      "outputs": []
    },
    {
      "cell_type": "code",
      "source": [
        "model.summary()"
      ],
      "metadata": {
        "colab": {
          "base_uri": "https://localhost:8080/"
        },
        "id": "k0yze8wH0g3F",
        "outputId": "352b1c54-a43a-4321-d6b1-2f3b6256ee3e"
      },
      "execution_count": 17,
      "outputs": [
        {
          "output_type": "stream",
          "name": "stdout",
          "text": [
            "Model: \"sequential\"\n",
            "_________________________________________________________________\n",
            " Layer (type)                Output Shape              Param #   \n",
            "=================================================================\n",
            " conv2d (Conv2D)             (None, 148, 148, 64)      1792      \n",
            "                                                                 \n",
            " max_pooling2d (MaxPooling2D  (None, 74, 74, 64)       0         \n",
            " )                                                               \n",
            "                                                                 \n",
            " conv2d_1 (Conv2D)           (None, 72, 72, 128)       73856     \n",
            "                                                                 \n",
            " max_pooling2d_1 (MaxPooling  (None, 36, 36, 128)      0         \n",
            " 2D)                                                             \n",
            "                                                                 \n",
            " dropout (Dropout)           (None, 36, 36, 128)       0         \n",
            "                                                                 \n",
            " conv2d_2 (Conv2D)           (None, 34, 34, 128)       147584    \n",
            "                                                                 \n",
            " max_pooling2d_2 (MaxPooling  (None, 17, 17, 128)      0         \n",
            " 2D)                                                             \n",
            "                                                                 \n",
            " dropout_1 (Dropout)         (None, 17, 17, 128)       0         \n",
            "                                                                 \n",
            " conv2d_3 (Conv2D)           (None, 15, 15, 64)        73792     \n",
            "                                                                 \n",
            " max_pooling2d_3 (MaxPooling  (None, 7, 7, 64)         0         \n",
            " 2D)                                                             \n",
            "                                                                 \n",
            " dropout_2 (Dropout)         (None, 7, 7, 64)          0         \n",
            "                                                                 \n",
            " flatten (Flatten)           (None, 3136)              0         \n",
            "                                                                 \n",
            " dense (Dense)               (None, 256)               803072    \n",
            "                                                                 \n",
            " dense_1 (Dense)             (None, 256)               65792     \n",
            "                                                                 \n",
            " dense_2 (Dense)             (None, 128)               32896     \n",
            "                                                                 \n",
            " dense_3 (Dense)             (None, 2)                 258       \n",
            "                                                                 \n",
            "=================================================================\n",
            "Total params: 1,199,042\n",
            "Trainable params: 1,199,042\n",
            "Non-trainable params: 0\n",
            "_________________________________________________________________\n"
          ]
        }
      ]
    },
    {
      "cell_type": "code",
      "source": [
        "r=model.fit(X,y,epochs=10, batch_size=30,validation_split=0.2)"
      ],
      "metadata": {
        "id": "gGmX-cje0g5z"
      },
      "execution_count": 1,
      "outputs": []
    },
    {
      "cell_type": "code",
      "source": [
        "val_X = []\n",
        "val_y = []\n",
        "\n",
        "for feature, label in zip(X, y):\n",
        "    val_X.append(feature)\n",
        "    val_y.append(label)"
      ],
      "metadata": {
        "id": "ifetbG0G0g8n"
      },
      "execution_count": 19,
      "outputs": []
    },
    {
      "cell_type": "code",
      "source": [
        "val_X=np.array(val_X)\n",
        "val_y=np.array(val_y)"
      ],
      "metadata": {
        "id": "YM2jd1Jy0g_Q"
      },
      "execution_count": 1,
      "outputs": []
    },
    {
      "cell_type": "code",
      "source": [
        "val_X=val_X/255"
      ],
      "metadata": {
        "id": "o-7CfHhf0hB3"
      },
      "execution_count": null,
      "outputs": []
    },
    {
      "cell_type": "code",
      "source": [
        "test_loss,test_accuracy=model.evaluate(val_X,val_y)"
      ],
      "metadata": {
        "id": "yb3NFiFc1Jsu"
      },
      "execution_count": null,
      "outputs": []
    },
    {
      "cell_type": "code",
      "source": [
        "from sklearn.metrics import accuracy_score,classification_report"
      ],
      "metadata": {
        "id": "jNmb6NUg1Jw8"
      },
      "execution_count": null,
      "outputs": []
    },
    {
      "cell_type": "code",
      "source": [
        "predictions=model.predict(val_X)\n",
        "predicted_labels=np.argmax(predictions, axix=1)"
      ],
      "metadata": {
        "id": "9zSLuV6G1JzT"
      },
      "execution_count": null,
      "outputs": []
    },
    {
      "cell_type": "code",
      "source": [
        "accuracy=accuracy_score(val_y, predicted_labels)"
      ],
      "metadata": {
        "id": "GpiU-u--1J1w"
      },
      "execution_count": null,
      "outputs": []
    },
    {
      "cell_type": "code",
      "source": [
        "print(\"Test Accuracy: \", accuracy)"
      ],
      "metadata": {
        "id": "jaWD-Xq51J4M"
      },
      "execution_count": 2,
      "outputs": []
    },
    {
      "cell_type": "code",
      "source": [
        "from sklearn.metrics import pair_confusion_matrix\n",
        "import matplotlib.pyplot as plt"
      ],
      "metadata": {
        "id": "8-WaoEIJ1gVc"
      },
      "execution_count": null,
      "outputs": []
    },
    {
      "cell_type": "code",
      "source": [
        "plt.plot(r.history['Loss'])\n",
        "plt.plot(r.history['val_loss'])\n",
        "plt.title('Model Loss Graph')\n",
        "plt.ylabel('loss')\n",
        "plt.xlabel('epoch')\n",
        "plt.legend(['Train','validation'],loc='upper left')\n",
        "plt.show()"
      ],
      "metadata": {
        "id": "gHPY1LV41gYm"
      },
      "execution_count": null,
      "outputs": []
    },
    {
      "cell_type": "code",
      "source": [
        "plt.plot(r.history['accuracy'])\n",
        "plt.plot(r.history['val_accuracy'])\n",
        "plt.title('Model Accuracy')\n",
        "plt.ylabel('Accuracy')\n",
        "plt.legend(['train','validation'],loc='upper left')\n",
        "plt.show()"
      ],
      "metadata": {
        "id": "25BshVvn1gbC"
      },
      "execution_count": null,
      "outputs": []
    }
  ]
}