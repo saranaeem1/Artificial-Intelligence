{
  "cells": [
    {
      "cell_type": "code",
      "execution_count": null,
      "id": "d0c1784d",
      "metadata": {
        "id": "d0c1784d",
        "outputId": "251cf5f1-e627-4bd8-9b07-18774bcb04cd"
      },
      "outputs": [
        {
          "name": "stdout",
          "output_type": "stream",
          "text": [
            "Collecting tensorflow\n",
            "  Downloading tensorflow-2.13.0-cp310-cp310-win_amd64.whl (1.9 kB)\n",
            "Collecting tensorflow-intel==2.13.0\n",
            "  Downloading tensorflow_intel-2.13.0-cp310-cp310-win_amd64.whl (276.5 MB)\n",
            "     -------------------------------------- 276.5/276.5 MB 2.4 MB/s eta 0:00:00\n",
            "Collecting gast<=0.4.0,>=0.2.1\n",
            "  Downloading gast-0.4.0-py3-none-any.whl (9.8 kB)\n",
            "Requirement already satisfied: packaging in d:\\new folder (4)\\lib\\site-packages (from tensorflow-intel==2.13.0->tensorflow) (22.0)\n",
            "Collecting tensorboard<2.14,>=2.13\n",
            "  Downloading tensorboard-2.13.0-py3-none-any.whl (5.6 MB)\n",
            "     ---------------------------------------- 5.6/5.6 MB 6.8 MB/s eta 0:00:00\n",
            "Requirement already satisfied: six>=1.12.0 in d:\\new folder (4)\\lib\\site-packages (from tensorflow-intel==2.13.0->tensorflow) (1.16.0)\n",
            "Collecting keras<2.14,>=2.13.1\n",
            "  Downloading keras-2.13.1-py3-none-any.whl (1.7 MB)\n",
            "     ---------------------------------------- 1.7/1.7 MB 7.2 MB/s eta 0:00:00\n",
            "Collecting flatbuffers>=23.1.21\n",
            "  Downloading flatbuffers-23.5.26-py2.py3-none-any.whl (26 kB)\n",
            "Collecting grpcio<2.0,>=1.24.3\n",
            "  Downloading grpcio-1.57.0-cp310-cp310-win_amd64.whl (4.3 MB)\n",
            "     ---------------------------------------- 4.3/4.3 MB 8.1 MB/s eta 0:00:00\n",
            "Collecting google-pasta>=0.1.1\n",
            "  Downloading google_pasta-0.2.0-py3-none-any.whl (57 kB)\n",
            "     ---------------------------------------- 57.5/57.5 kB 3.1 MB/s eta 0:00:00\n",
            "Collecting tensorflow-io-gcs-filesystem>=0.23.1\n",
            "  Downloading tensorflow_io_gcs_filesystem-0.31.0-cp310-cp310-win_amd64.whl (1.5 MB)\n",
            "     ---------------------------------------- 1.5/1.5 MB 7.9 MB/s eta 0:00:00\n",
            "Requirement already satisfied: typing-extensions<4.6.0,>=3.6.6 in d:\\new folder (4)\\lib\\site-packages (from tensorflow-intel==2.13.0->tensorflow) (4.4.0)\n",
            "Requirement already satisfied: numpy<=1.24.3,>=1.22 in d:\\new folder (4)\\lib\\site-packages (from tensorflow-intel==2.13.0->tensorflow) (1.23.5)\n",
            "Collecting protobuf!=4.21.0,!=4.21.1,!=4.21.2,!=4.21.3,!=4.21.4,!=4.21.5,<5.0.0dev,>=3.20.3\n",
            "  Downloading protobuf-4.24.1-cp310-abi3-win_amd64.whl (430 kB)\n",
            "     -------------------------------------- 430.4/430.4 kB 8.9 MB/s eta 0:00:00\n",
            "Collecting astunparse>=1.6.0\n",
            "  Downloading astunparse-1.6.3-py2.py3-none-any.whl (12 kB)\n",
            "Collecting tensorflow-estimator<2.14,>=2.13.0\n",
            "  Downloading tensorflow_estimator-2.13.0-py2.py3-none-any.whl (440 kB)\n",
            "     -------------------------------------- 440.8/440.8 kB 6.8 MB/s eta 0:00:00\n",
            "Collecting absl-py>=1.0.0\n",
            "  Downloading absl_py-1.4.0-py3-none-any.whl (126 kB)\n",
            "     -------------------------------------- 126.5/126.5 kB 7.8 MB/s eta 0:00:00\n",
            "Requirement already satisfied: wrapt>=1.11.0 in d:\\new folder (4)\\lib\\site-packages (from tensorflow-intel==2.13.0->tensorflow) (1.14.1)\n",
            "Requirement already satisfied: setuptools in d:\\new folder (4)\\lib\\site-packages (from tensorflow-intel==2.13.0->tensorflow) (65.6.3)\n",
            "Collecting termcolor>=1.1.0\n",
            "  Downloading termcolor-2.3.0-py3-none-any.whl (6.9 kB)\n",
            "Collecting opt-einsum>=2.3.2\n",
            "  Downloading opt_einsum-3.3.0-py3-none-any.whl (65 kB)\n",
            "     ---------------------------------------- 65.5/65.5 kB 3.7 MB/s eta 0:00:00\n",
            "Requirement already satisfied: h5py>=2.9.0 in d:\\new folder (4)\\lib\\site-packages (from tensorflow-intel==2.13.0->tensorflow) (3.7.0)\n",
            "Collecting libclang>=13.0.0\n",
            "  Downloading libclang-16.0.6-py2.py3-none-win_amd64.whl (24.4 MB)\n",
            "     ---------------------------------------- 24.4/24.4 MB 9.6 MB/s eta 0:00:00\n",
            "Requirement already satisfied: wheel<1.0,>=0.23.0 in d:\\new folder (4)\\lib\\site-packages (from astunparse>=1.6.0->tensorflow-intel==2.13.0->tensorflow) (0.38.4)\n",
            "Requirement already satisfied: markdown>=2.6.8 in d:\\new folder (4)\\lib\\site-packages (from tensorboard<2.14,>=2.13->tensorflow-intel==2.13.0->tensorflow) (3.4.1)\n",
            "Collecting google-auth<3,>=1.6.3\n",
            "  Downloading google_auth-2.22.0-py2.py3-none-any.whl (181 kB)\n",
            "     ------------------------------------- 181.8/181.8 kB 11.4 MB/s eta 0:00:00\n",
            "Collecting google-auth-oauthlib<1.1,>=0.5\n",
            "  Downloading google_auth_oauthlib-1.0.0-py2.py3-none-any.whl (18 kB)\n",
            "Requirement already satisfied: requests<3,>=2.21.0 in d:\\new folder (4)\\lib\\site-packages (from tensorboard<2.14,>=2.13->tensorflow-intel==2.13.0->tensorflow) (2.28.1)\n",
            "Collecting tensorboard-data-server<0.8.0,>=0.7.0\n",
            "  Downloading tensorboard_data_server-0.7.1-py3-none-any.whl (2.4 kB)\n",
            "Requirement already satisfied: werkzeug>=1.0.1 in d:\\new folder (4)\\lib\\site-packages (from tensorboard<2.14,>=2.13->tensorflow-intel==2.13.0->tensorflow) (2.2.2)\n",
            "Requirement already satisfied: pyasn1-modules>=0.2.1 in d:\\new folder (4)\\lib\\site-packages (from google-auth<3,>=1.6.3->tensorboard<2.14,>=2.13->tensorflow-intel==2.13.0->tensorflow) (0.2.8)\n",
            "Collecting rsa<5,>=3.1.4\n",
            "  Downloading rsa-4.9-py3-none-any.whl (34 kB)\n",
            "Requirement already satisfied: urllib3<2.0 in d:\\new folder (4)\\lib\\site-packages (from google-auth<3,>=1.6.3->tensorboard<2.14,>=2.13->tensorflow-intel==2.13.0->tensorflow) (1.26.14)\n",
            "Collecting cachetools<6.0,>=2.0.0\n",
            "  Downloading cachetools-5.3.1-py3-none-any.whl (9.3 kB)\n",
            "Collecting requests-oauthlib>=0.7.0\n",
            "  Downloading requests_oauthlib-1.3.1-py2.py3-none-any.whl (23 kB)\n",
            "Requirement already satisfied: charset-normalizer<3,>=2 in d:\\new folder (4)\\lib\\site-packages (from requests<3,>=2.21.0->tensorboard<2.14,>=2.13->tensorflow-intel==2.13.0->tensorflow) (2.0.4)\n",
            "Requirement already satisfied: idna<4,>=2.5 in d:\\new folder (4)\\lib\\site-packages (from requests<3,>=2.21.0->tensorboard<2.14,>=2.13->tensorflow-intel==2.13.0->tensorflow) (3.4)\n",
            "Requirement already satisfied: certifi>=2017.4.17 in d:\\new folder (4)\\lib\\site-packages (from requests<3,>=2.21.0->tensorboard<2.14,>=2.13->tensorflow-intel==2.13.0->tensorflow) (2022.12.7)\n",
            "Requirement already satisfied: MarkupSafe>=2.1.1 in d:\\new folder (4)\\lib\\site-packages (from werkzeug>=1.0.1->tensorboard<2.14,>=2.13->tensorflow-intel==2.13.0->tensorflow) (2.1.1)\n",
            "Requirement already satisfied: pyasn1<0.5.0,>=0.4.6 in d:\\new folder (4)\\lib\\site-packages (from pyasn1-modules>=0.2.1->google-auth<3,>=1.6.3->tensorboard<2.14,>=2.13->tensorflow-intel==2.13.0->tensorflow) (0.4.8)\n",
            "Collecting oauthlib>=3.0.0\n",
            "  Downloading oauthlib-3.2.2-py3-none-any.whl (151 kB)\n",
            "     -------------------------------------- 151.7/151.7 kB 4.6 MB/s eta 0:00:00\n",
            "Installing collected packages: libclang, flatbuffers, termcolor, tensorflow-io-gcs-filesystem, tensorflow-estimator, tensorboard-data-server, rsa, protobuf, opt-einsum, oauthlib, keras, grpcio, google-pasta, gast, cachetools, astunparse, absl-py, requests-oauthlib, google-auth, google-auth-oauthlib, tensorboard, tensorflow-intel, tensorflow\n",
            "Successfully installed absl-py-1.4.0 astunparse-1.6.3 cachetools-5.3.1 flatbuffers-23.5.26 gast-0.4.0 google-auth-2.22.0 google-auth-oauthlib-1.0.0 google-pasta-0.2.0 grpcio-1.57.0 keras-2.13.1 libclang-16.0.6 oauthlib-3.2.2 opt-einsum-3.3.0 protobuf-4.24.1 requests-oauthlib-1.3.1 rsa-4.9 tensorboard-2.13.0 tensorboard-data-server-0.7.1 tensorflow-2.13.0 tensorflow-estimator-2.13.0 tensorflow-intel-2.13.0 tensorflow-io-gcs-filesystem-0.31.0 termcolor-2.3.0\n",
            "Note: you may need to restart the kernel to use updated packages.\n"
          ]
        }
      ],
      "source": [
        "pip install tensorflow\n"
      ]
    },
    {
      "cell_type": "code",
      "execution_count": null,
      "id": "eb12a321",
      "metadata": {
        "id": "eb12a321"
      },
      "outputs": [],
      "source": [
        "import numpy as np\n",
        "import pandas as pd\n",
        "from sklearn.model_selection import train_test_split\n",
        "from sklearn.preprocessing import LabelEncoder\n",
        "from sklearn.feature_extraction.text import ENGLISH_STOP_WORDS\n",
        "from tensorflow.keras.preprocessing.text import Tokenizer\n",
        "from tensorflow.keras.preprocessing.sequence import pad_sequences\n",
        "from tensorflow.keras.models import Sequential\n",
        "from tensorflow.keras.layers import Embedding, SimpleRNN, Dense, Dropout"
      ]
    },
    {
      "cell_type": "code",
      "execution_count": null,
      "id": "94b1fc39",
      "metadata": {
        "id": "94b1fc39"
      },
      "outputs": [],
      "source": [
        "true_data = pd.read_csv('True.csv')\n",
        "true_data['label'] = 1  # Assign label 1 for true news\n",
        "\n"
      ]
    },
    {
      "cell_type": "code",
      "execution_count": null,
      "id": "b568df99",
      "metadata": {
        "id": "b568df99"
      },
      "outputs": [],
      "source": [
        "# Load the fake news dataset\n",
        "fake_data = pd.read_csv('Fake.csv')\n",
        "fake_data['label'] = 0  # Assign label 0 for fake news"
      ]
    },
    {
      "cell_type": "code",
      "execution_count": null,
      "id": "9a8ba694",
      "metadata": {
        "id": "9a8ba694"
      },
      "outputs": [],
      "source": [
        "# Combine the datasets\n",
        "data = pd.concat([true_data, fake_data], ignore_index=True)"
      ]
    },
    {
      "cell_type": "code",
      "execution_count": null,
      "id": "f507cd2c",
      "metadata": {
        "id": "f507cd2c",
        "outputId": "9fd1a302-6a60-451c-cc72-99f23aa67f02"
      },
      "outputs": [
        {
          "data": {
            "text/html": [
              "<div>\n",
              "<style scoped>\n",
              "    .dataframe tbody tr th:only-of-type {\n",
              "        vertical-align: middle;\n",
              "    }\n",
              "\n",
              "    .dataframe tbody tr th {\n",
              "        vertical-align: top;\n",
              "    }\n",
              "\n",
              "    .dataframe thead th {\n",
              "        text-align: right;\n",
              "    }\n",
              "</style>\n",
              "<table border=\"1\" class=\"dataframe\">\n",
              "  <thead>\n",
              "    <tr style=\"text-align: right;\">\n",
              "      <th></th>\n",
              "      <th>title</th>\n",
              "      <th>text</th>\n",
              "      <th>subject</th>\n",
              "      <th>date</th>\n",
              "      <th>label</th>\n",
              "    </tr>\n",
              "  </thead>\n",
              "  <tbody>\n",
              "    <tr>\n",
              "      <th>0</th>\n",
              "      <td>As U.S. budget fight looms, Republicans flip t...</td>\n",
              "      <td>WASHINGTON (Reuters) - The head of a conservat...</td>\n",
              "      <td>politicsNews</td>\n",
              "      <td>December 31, 2017</td>\n",
              "      <td>1</td>\n",
              "    </tr>\n",
              "    <tr>\n",
              "      <th>1</th>\n",
              "      <td>U.S. military to accept transgender recruits o...</td>\n",
              "      <td>WASHINGTON (Reuters) - Transgender people will...</td>\n",
              "      <td>politicsNews</td>\n",
              "      <td>December 29, 2017</td>\n",
              "      <td>1</td>\n",
              "    </tr>\n",
              "    <tr>\n",
              "      <th>2</th>\n",
              "      <td>Senior U.S. Republican senator: 'Let Mr. Muell...</td>\n",
              "      <td>WASHINGTON (Reuters) - The special counsel inv...</td>\n",
              "      <td>politicsNews</td>\n",
              "      <td>December 31, 2017</td>\n",
              "      <td>1</td>\n",
              "    </tr>\n",
              "    <tr>\n",
              "      <th>3</th>\n",
              "      <td>FBI Russia probe helped by Australian diplomat...</td>\n",
              "      <td>WASHINGTON (Reuters) - Trump campaign adviser ...</td>\n",
              "      <td>politicsNews</td>\n",
              "      <td>December 30, 2017</td>\n",
              "      <td>1</td>\n",
              "    </tr>\n",
              "    <tr>\n",
              "      <th>4</th>\n",
              "      <td>Trump wants Postal Service to charge 'much mor...</td>\n",
              "      <td>SEATTLE/WASHINGTON (Reuters) - President Donal...</td>\n",
              "      <td>politicsNews</td>\n",
              "      <td>December 29, 2017</td>\n",
              "      <td>1</td>\n",
              "    </tr>\n",
              "  </tbody>\n",
              "</table>\n",
              "</div>"
            ],
            "text/plain": [
              "                                               title  \\\n",
              "0  As U.S. budget fight looms, Republicans flip t...   \n",
              "1  U.S. military to accept transgender recruits o...   \n",
              "2  Senior U.S. Republican senator: 'Let Mr. Muell...   \n",
              "3  FBI Russia probe helped by Australian diplomat...   \n",
              "4  Trump wants Postal Service to charge 'much mor...   \n",
              "\n",
              "                                                text       subject  \\\n",
              "0  WASHINGTON (Reuters) - The head of a conservat...  politicsNews   \n",
              "1  WASHINGTON (Reuters) - Transgender people will...  politicsNews   \n",
              "2  WASHINGTON (Reuters) - The special counsel inv...  politicsNews   \n",
              "3  WASHINGTON (Reuters) - Trump campaign adviser ...  politicsNews   \n",
              "4  SEATTLE/WASHINGTON (Reuters) - President Donal...  politicsNews   \n",
              "\n",
              "                 date  label  \n",
              "0  December 31, 2017       1  \n",
              "1  December 29, 2017       1  \n",
              "2  December 31, 2017       1  \n",
              "3  December 30, 2017       1  \n",
              "4  December 29, 2017       1  "
            ]
          },
          "execution_count": 7,
          "metadata": {},
          "output_type": "execute_result"
        }
      ],
      "source": [
        "data.head()"
      ]
    },
    {
      "cell_type": "code",
      "execution_count": null,
      "id": "093dfb23",
      "metadata": {
        "id": "093dfb23"
      },
      "outputs": [],
      "source": [
        "X = data['text']\n",
        "y = data['label']"
      ]
    },
    {
      "cell_type": "code",
      "execution_count": null,
      "id": "63e527fa",
      "metadata": {
        "id": "63e527fa"
      },
      "outputs": [],
      "source": [
        "label_encoder = LabelEncoder()\n",
        "y = label_encoder.fit_transform(y)"
      ]
    },
    {
      "cell_type": "code",
      "execution_count": null,
      "id": "40d36a63",
      "metadata": {
        "id": "40d36a63"
      },
      "outputs": [],
      "source": [
        "def preprocess_text(text):\n",
        "    text = text.lower()\n",
        "    text = ' '.join(word for word in text.split() if word.isalnum())\n",
        "    text = ' '.join(word for word in text.split() if word not in ENGLISH_STOP_WORDS)\n",
        "    return text"
      ]
    },
    {
      "cell_type": "code",
      "execution_count": null,
      "id": "77c4efd8",
      "metadata": {
        "id": "77c4efd8"
      },
      "outputs": [],
      "source": [
        "X = X.apply(preprocess_text)\n"
      ]
    },
    {
      "cell_type": "code",
      "execution_count": null,
      "id": "896f1d3f",
      "metadata": {
        "id": "896f1d3f",
        "outputId": "2fe05833-9bc2-42cd-df65-8bf1ca1d7c0f"
      },
      "outputs": [
        {
          "name": "stderr",
          "output_type": "stream",
          "text": [
            "IOPub data rate exceeded.\n",
            "The notebook server will temporarily stop sending output\n",
            "to the client in order to avoid crashing it.\n",
            "To change this limit, set the config variable\n",
            "`--NotebookApp.iopub_data_rate_limit`.\n",
            "\n",
            "Current values:\n",
            "NotebookApp.iopub_data_rate_limit=1000000.0 (bytes/sec)\n",
            "NotebookApp.rate_limit_window=3.0 (secs)\n",
            "\n"
          ]
        },
        {
          "name": "stdout",
          "output_type": "stream",
          "text": [
            "Original text 44896:\n",
            "patrick henningsen 21st century wireremember obama administration told world hoped identify reliable moderate rebels hanging turkey want fight washington drama infamous train equip program create arab army want pentagon officials announced new plan train moderate time project place inside syria hell international told requested nato allies singing hymn claiming new effort help securing turkey s porous border story washington s political cover fashioned popular protect civilized europe invading hordes terrorists hide stated wall street program address tense dialogue washington ankara sealing western governments long complained avenue extremists leave syria travel timing announcement uncanny backdrop unlikely isis suicide bomb terrorist victims just happened 14 german feeding perfectly europe s new binary fear set terrorism shades undoubtedly won t western journalists entertaining conspiracy friends nation builders banking global public suffering syria time really pay west s real agenda region starting unfold despite coalition s epic false flags official conspiracy mainstream narrative syria s tv screens newspapers constantly los angeles paris politician pundit opinion syria people like people yemen country s cleaver western interests afforded say tradition london syrian voices count ones western technocrats approved saudi royal family form recognized syrian national riad george sabra khaled depending fallen favor washington listening close early heard determined members syrian opposition admitting make deal devil s takes win years exactly believe devil terrorist armies fighting groups cause argue bigger devil terrorist brigades like al nusra islamic west gcc unfortunate reality devils mutually west partners created terror did intent unveiling grand solution terrorist enclave syria designed purpose implant hostile metastasis right middle territory neocolonial powers plan tear away barely sovereign nations iraq cartel deployed various levels international subterfuge starting plan arab spring method igniting popular street uprising capture world s attention 15 minutes generate evocative imagery social media storm carry memes liberty inspiring people streets demand change cries freedom backed state functionaries human rights watch amnesty international open society ngos human rights did plan political opposition suddenly transcended paramilitary followed brutal violence killing allies wasted pledging cash logistical support armed west set parallel government syria failed gain traction syria came plan opposition quickly overrun absorbed massive array foreign jihadi mercenary soldiers misfortune assorted fed established war terror western west familiar entry point axis hoped terrorists job overthrowing government bashar al assad collapse country spirally pit sectarian tribal blame worked libya late forward having failed overthrow assad implode men women nation builders muscles brussels quickly moving plan s say plans d weren t schematics certainly people dare know wikileaks cables operation goes s probably earlier taking long view history audacious empire middle say process began day agreement signed concealed lines drawn exactly 100 years latent potential conflicts uncivil wars seeing borders redrawn certain drawn powers involved century strengthen certainly strengthen present nation states especially proprietary powers want new states stuck perpetual state neocolonial emphasis financial security men21wire news sources warn washington s initial impulse 2014 began calling fly zone northern clear solution dialectic isis object public s plan come fruition fall funny thing happened way general assembly new york later russia announced inserting air syrian thwarted master plan controlled fly zone suffice russia knew nato s acted asked days ago prospect washington dc latest train equip time inside initial know s beneath sand s good pirate tell want claim share share truth train equip previous train equip program ended washington s military brass paraded senate armed services roundly lambasted failing train handful moderate rebels awarded million taxpayer er originally announced amid public told conjunction arming training moderate militants jordan base saudi arabia sending fight inside washington claims new trainees meant fight syrian government judging unwavering regime change rhetoric highly naive think strictly months train equip army lloyd austin acknowledged 2015 managed battlefield member media challenged probably happy answer given gave hawkish critics obama administration pound flesh wanted served intensify calls new year boots ground doves loved prove backing proxies doesn t best solution sanguine mainstream familiar government media s natural default didn t work s new incompetent ask money really inquire costs million train men apparently way work journalist stopped 5 fighters trained happened half billion real answer question studying reports ground way uncomfortable media stomach train equip program provided necessary official cover allow prosecution dirty war wasn t failure like fall guy lloyd austin proliferation heavy weaponry lethal arms hands al qaeda syria nusra jaysh al islam s clear uncle sam s generous donation million definitely used rebels east commentator analyst sharmine narwani explains west s perennial dilemma trying identify moderates washington insisted armed moderate groups gone great lengths avoid naming moderates named certain present future atrocity video surface prove guarantee groups trained financed syria past train equip round used secure following map july represents current military chessboard zone sunnistan feels like 1998 bad memories kla imported jihadist fighters nato lording newly balkanized hear officials like john mccain clueless republican presidential candidates like marco rubio carly crowing safe zone northern referring map safe zone just happens exact area isis currently holding s safe zone refugees syrians fleeing evil bashar al assad safe zone array rebel terrorist defacto sunni coalition s safe zone caliphate americans requiring proof grand chessboard play need look set airstrikes took place december fighter bombers struck syrian military base located village ayyash deir ezzor east killed 3 syrian arab army soldiers wounded additional pentagon swiftly denied attack took happened incident extremely explained global affairs analyst mike whitney counterpunch s worth according south military bombing raid coincided isis offensive villages ayyash attack provided sufficient isis terrorists carry ground plan merely air force coordinating isis boots achieve common military didn t end 24 hours warplanes bombed village syria killing 26 syrian civilians including women seven children message military sending lethal attacks wants control east syria plans remove isis establish facto sunni state consistent scheme break syria iraq smaller cantons governed local islamic taking place moment dec turkey s quiet little invasion northern sending hundreds troops 20 tanks territory north right kurds noted illegal incursion nato member turkey approved iraqi government iraqi pm haider called turkey immediately withdraw judging washington s silence s obvious gave turkey zero hedge astutely points importantly right claims smuggling route illegal isis crude turkey turkey s sudden came time russia began publicly expose turkey s clandestine role facilitating isis oil launching airstrikes destroy isis oil convoys moving syria turkish leader recep tayyip erdo places military assets location stolen isis oil makes way iraq hardly ends nato s military united states boots ground isis al nusra critical strategic moves specific military purpose nudging securing key piece finally required new crisis america allow axis powers quickly needed implement phase s creating kurdish sunni moves rarely covered western international perfectly terms sunni shia favored sectarian lexicon used nation builders international partners riyadh tel intention reduce muslim world architects instability use attempt marginalize dehumanized muslims selfish s safe zone coalition steps 18 punch n judy air operation supplant isis jihadis later require safe corridor flee remain connected turkish supply washington s safe zone provide safe haven rebels sent packing syrian government towns like homs painstaking disarming reconciliation process assad government opposition rebels willing participate axis established mini protectorate inside provide al ahrar turkmens et secure launching pad incursions inside syria certainly guarantee protracted conflict syria little sunni wedge conveniently located large contingent syria s northwestern idlib governorate syria s border turkey porous beginning proposed safe zone allow turkey maintain status quo continuously allowing rebels terrorist fighters narcotics human trafficking freely southern border regime change rhetoric turning blind eye nato member turkey s role facilitating supply lines safe passage al qaeda washington s agenda fairly transparent establish internationally recognized safe zone zone central planners believe platform need eventually destroy install western carve syria northern iraq isis black market oil key component carrying conflicts architects instability crucial benefit carving sunni territory northern eastern syria available oil help fund paramilitary terrorist needs making guarantee uninterrupted income stream black market oil presently making way syria turkey help required kurdish regional government including firm genel just firm providing market illicit isis ditto key mover shaker raqqa s new rockefeller bilal son turkish according numerous recent reports amassed small fortune lucrative london paris overly concerned upset kurdish turkish opposition officials accused turkish governments krg deliberately allowing smuggling operations provisional cantons conjured guarantee greater kurdistan light day nation builders having say bout promise greater kurdistan important reality greater turkey interests greater kurdistan compatible iraq crazy idea obvious financial energy resource remain limb smaller entities sprout turkey ongoing kurdish problem turkish ankara naturally view expressions kurdish autonomy threat potential inspiration international kurdish ruling kurds means keeping playing turkish establishment believe old scores unsettled reclaiming turk territory syria special isis follow money sunnistan proper coming set pieces place iraq mike whitney looks like agreement struck krg united states seize parts northern iraq eastern syria create facto sunni state ankara looks like obama agreed use dodgy work alongside special forces carry future military effort remove assad temporarily determination destroy syria strong dismembered old syria iraq central planners hoping area called rojava map western kurdistan region northern known syrian gained autonomy november 2013 ongoing rojava kurdish defense forces known ypg s defense friendly footing neighboring number ypg defense forces present resistance al nusra isis encroachments rojava bad rojava factor washington s plans clear occupies strategic squares history s actors fooled talk peace stability humanitarian platitudes western fair weather international indication plans backing neoconservative israel pnac walrus ambassador john bolton s recent article establishment s daily journal political new york today s reality iraq syria known islamic state carved new entity empire mobilizing sunni opposition regime president bashar government years facto independent central planners happily frame geopolitical scenario preferred theme sunni vs shia sectarian strife just happens suit interests desires saudi arabia bolton confirms defeating islamic state means restoring power assad syria iran s puppets outcome feasible striving recreate war washington recognize new best alternative islamic state northeastern syria western iraq independent sunni fast islamic state sunni intents s calling establishment caliphate goes right heads conservatives just geostrategic moves guarantee instability military conflict region 100 provide timely entr e azerbaijan later eurasian heartland dagestan s emerging energy center geographic expect pelted endless propaganda starving children town changing week week usual slogans act blaming bashar al assad suffering s wearing axis stops flooding syria region weapons terrorist continues policy toppling secular attempt holding peace talks end square stand exercise syrian conflict good thing s say s scripted western finally hit wall patrick henningsen lecturer global affairs analyst international tv founder syria news 21st century wire syria files\n",
            "Preprocessed text 44896:\n",
            "patrick henningsen 21st century wireremember obama administration told world hoped identify reliable moderate rebels hanging turkey want fight washington drama infamous train equip program create arab army want pentagon officials announced new plan train moderate time project place inside syria hell international told requested nato allies singing hymn claiming new effort help securing turkey s porous border story washington s political cover fashioned popular protect civilized europe invading hordes terrorists hide stated wall street program address tense dialogue washington ankara sealing western governments long complained avenue extremists leave syria travel timing announcement uncanny backdrop unlikely isis suicide bomb terrorist victims just happened 14 german feeding perfectly europe s new binary fear set terrorism shades undoubtedly won t western journalists entertaining conspiracy friends nation builders banking global public suffering syria time really pay west s real agenda region starting unfold despite coalition s epic false flags official conspiracy mainstream narrative syria s tv screens newspapers constantly los angeles paris politician pundit opinion syria people like people yemen country s cleaver western interests afforded say tradition london syrian voices count ones western technocrats approved saudi royal family form recognized syrian national riad george sabra khaled depending fallen favor washington listening close early heard determined members syrian opposition admitting make deal devil s takes win years exactly believe devil terrorist armies fighting groups cause argue bigger devil terrorist brigades like al nusra islamic west gcc unfortunate reality devils mutually west partners created terror did intent unveiling grand solution terrorist enclave syria designed purpose implant hostile metastasis right middle territory neocolonial powers plan tear away barely sovereign nations iraq cartel deployed various levels international subterfuge starting plan arab spring method igniting popular street uprising capture world s attention 15 minutes generate evocative imagery social media storm carry memes liberty inspiring people streets demand change cries freedom backed state functionaries human rights watch amnesty international open society ngos human rights did plan political opposition suddenly transcended paramilitary followed brutal violence killing allies wasted pledging cash logistical support armed west set parallel government syria failed gain traction syria came plan opposition quickly overrun absorbed massive array foreign jihadi mercenary soldiers misfortune assorted fed established war terror western west familiar entry point axis hoped terrorists job overthrowing government bashar al assad collapse country spirally pit sectarian tribal blame worked libya late forward having failed overthrow assad implode men women nation builders muscles brussels quickly moving plan s say plans d weren t schematics certainly people dare know wikileaks cables operation goes s probably earlier taking long view history audacious empire middle say process began day agreement signed concealed lines drawn exactly 100 years latent potential conflicts uncivil wars seeing borders redrawn certain drawn powers involved century strengthen certainly strengthen present nation states especially proprietary powers want new states stuck perpetual state neocolonial emphasis financial security men21wire news sources warn washington s initial impulse 2014 began calling fly zone northern clear solution dialectic isis object public s plan come fruition fall funny thing happened way general assembly new york later russia announced inserting air syrian thwarted master plan controlled fly zone suffice russia knew nato s acted asked days ago prospect washington dc latest train equip time inside initial know s beneath sand s good pirate tell want claim share share truth train equip previous train equip program ended washington s military brass paraded senate armed services roundly lambasted failing train handful moderate rebels awarded million taxpayer er originally announced amid public told conjunction arming training moderate militants jordan base saudi arabia sending fight inside washington claims new trainees meant fight syrian government judging unwavering regime change rhetoric highly naive think strictly months train equip army lloyd austin acknowledged 2015 managed battlefield member media challenged probably happy answer given gave hawkish critics obama administration pound flesh wanted served intensify calls new year boots ground doves loved prove backing proxies doesn t best solution sanguine mainstream familiar government media s natural default didn t work s new incompetent ask money really inquire costs million train men apparently way work journalist stopped 5 fighters trained happened half billion real answer question studying reports ground way uncomfortable media stomach train equip program provided necessary official cover allow prosecution dirty war wasn t failure like fall guy lloyd austin proliferation heavy weaponry lethal arms hands al qaeda syria nusra jaysh al islam s clear uncle sam s generous donation million definitely used rebels east commentator analyst sharmine narwani explains west s perennial dilemma trying identify moderates washington insisted armed moderate groups gone great lengths avoid naming moderates named certain present future atrocity video surface prove guarantee groups trained financed syria past train equip round used secure following map july represents current military chessboard zone sunnistan feels like 1998 bad memories kla imported jihadist fighters nato lording newly balkanized hear officials like john mccain clueless republican presidential candidates like marco rubio carly crowing safe zone northern referring map safe zone just happens exact area isis currently holding s safe zone refugees syrians fleeing evil bashar al assad safe zone array rebel terrorist defacto sunni coalition s safe zone caliphate americans requiring proof grand chessboard play need look set airstrikes took place december fighter bombers struck syrian military base located village ayyash deir ezzor east killed 3 syrian arab army soldiers wounded additional pentagon swiftly denied attack took happened incident extremely explained global affairs analyst mike whitney counterpunch s worth according south military bombing raid coincided isis offensive villages ayyash attack provided sufficient isis terrorists carry ground plan merely air force coordinating isis boots achieve common military didn t end 24 hours warplanes bombed village syria killing 26 syrian civilians including women seven children message military sending lethal attacks wants control east syria plans remove isis establish facto sunni state consistent scheme break syria iraq smaller cantons governed local islamic taking place moment dec turkey s quiet little invasion northern sending hundreds troops 20 tanks territory north right kurds noted illegal incursion nato member turkey approved iraqi government iraqi pm haider called turkey immediately withdraw judging washington s silence s obvious gave turkey zero hedge astutely points importantly right claims smuggling route illegal isis crude turkey turkey s sudden came time russia began publicly expose turkey s clandestine role facilitating isis oil launching airstrikes destroy isis oil convoys moving syria turkish leader recep tayyip erdo places military assets location stolen isis oil makes way iraq hardly ends nato s military united states boots ground isis al nusra critical strategic moves specific military purpose nudging securing key piece finally required new crisis america allow axis powers quickly needed implement phase s creating kurdish sunni moves rarely covered western international perfectly terms sunni shia favored sectarian lexicon used nation builders international partners riyadh tel intention reduce muslim world architects instability use attempt marginalize dehumanized muslims selfish s safe zone coalition steps 18 punch n judy air operation supplant isis jihadis later require safe corridor flee remain connected turkish supply washington s safe zone provide safe haven rebels sent packing syrian government towns like homs painstaking disarming reconciliation process assad government opposition rebels willing participate axis established mini protectorate inside provide al ahrar turkmens et secure launching pad incursions inside syria certainly guarantee protracted conflict syria little sunni wedge conveniently located large contingent syria s northwestern idlib governorate syria s border turkey porous beginning proposed safe zone allow turkey maintain status quo continuously allowing rebels terrorist fighters narcotics human trafficking freely southern border regime change rhetoric turning blind eye nato member turkey s role facilitating supply lines safe passage al qaeda washington s agenda fairly transparent establish internationally recognized safe zone zone central planners believe platform need eventually destroy install western carve syria northern iraq isis black market oil key component carrying conflicts architects instability crucial benefit carving sunni territory northern eastern syria available oil help fund paramilitary terrorist needs making guarantee uninterrupted income stream black market oil presently making way syria turkey help required kurdish regional government including firm genel just firm providing market illicit isis ditto key mover shaker raqqa s new rockefeller bilal son turkish according numerous recent reports amassed small fortune lucrative london paris overly concerned upset kurdish turkish opposition officials accused turkish governments krg deliberately allowing smuggling operations provisional cantons conjured guarantee greater kurdistan light day nation builders having say bout promise greater kurdistan important reality greater turkey interests greater kurdistan compatible iraq crazy idea obvious financial energy resource remain limb smaller entities sprout turkey ongoing kurdish problem turkish ankara naturally view expressions kurdish autonomy threat potential inspiration international kurdish ruling kurds means keeping playing turkish establishment believe old scores unsettled reclaiming turk territory syria special isis follow money sunnistan proper coming set pieces place iraq mike whitney looks like agreement struck krg united states seize parts northern iraq eastern syria create facto sunni state ankara looks like obama agreed use dodgy work alongside special forces carry future military effort remove assad temporarily determination destroy syria strong dismembered old syria iraq central planners hoping area called rojava map western kurdistan region northern known syrian gained autonomy november 2013 ongoing rojava kurdish defense forces known ypg s defense friendly footing neighboring number ypg defense forces present resistance al nusra isis encroachments rojava bad rojava factor washington s plans clear occupies strategic squares history s actors fooled talk peace stability humanitarian platitudes western fair weather international indication plans backing neoconservative israel pnac walrus ambassador john bolton s recent article establishment s daily journal political new york today s reality iraq syria known islamic state carved new entity empire mobilizing sunni opposition regime president bashar government years facto independent central planners happily frame geopolitical scenario preferred theme sunni vs shia sectarian strife just happens suit interests desires saudi arabia bolton confirms defeating islamic state means restoring power assad syria iran s puppets outcome feasible striving recreate war washington recognize new best alternative islamic state northeastern syria western iraq independent sunni fast islamic state sunni intents s calling establishment caliphate goes right heads conservatives just geostrategic moves guarantee instability military conflict region 100 provide timely entr e azerbaijan later eurasian heartland dagestan s emerging energy center geographic expect pelted endless propaganda starving children town changing week week usual slogans act blaming bashar al assad suffering s wearing axis stops flooding syria region weapons terrorist continues policy toppling secular attempt holding peace talks end square stand exercise syrian conflict good thing s say s scripted western finally hit wall patrick henningsen lecturer global affairs analyst international tv founder syria news 21st century wire syria files\n",
            "\n",
            "Original text 44897:\n",
            "21st century wire says al jazeera america history biggest failures broadcast media allies began plotting overthrow libya al jazeera deteriorated promising international news network 2003 2016 agit prop media shop state department military central command middle east region located qatar s capital conveniently located just road al jazeera s nice jazeera s role promoting regime change destablization syria recorded shameful exhibitions media qatari royals tried expand propaganda operations north matter money threw royals just love throwing money things try cared watched know massive disappointment worked tirelessly decision way ajam great reads company email ceo al obtained tried just short paying americans watch programs al jazeera america close al jazeera america january 2016in al jazeera purchased current tv al gore inflated gets worse money gore got fat ajam addition million doha blew buying gore s current qataris spent million year 2012 millions spent advertising ajam network online billboards print media qataris easy ticket cable satellite did gore pull fast looking million ajam lucky pull viewers prime time really amounts market considering hundreds staff media executives producers s safe say did clue colossal bright qataris blame collapse oil prices lack spare cash fund propaganda mainstream media epic fails 21st century wire msm watch\n",
            "Preprocessed text 44897:\n",
            "21st century wire says al jazeera america history biggest failures broadcast media allies began plotting overthrow libya al jazeera deteriorated promising international news network 2003 2016 agit prop media shop state department military central command middle east region located qatar s capital conveniently located just road al jazeera s nice jazeera s role promoting regime change destablization syria recorded shameful exhibitions media qatari royals tried expand propaganda operations north matter money threw royals just love throwing money things try cared watched know massive disappointment worked tirelessly decision way ajam great reads company email ceo al obtained tried just short paying americans watch programs al jazeera america close al jazeera america january 2016in al jazeera purchased current tv al gore inflated gets worse money gore got fat ajam addition million doha blew buying gore s current qataris spent million year 2012 millions spent advertising ajam network online billboards print media qataris easy ticket cable satellite did gore pull fast looking million ajam lucky pull viewers prime time really amounts market considering hundreds staff media executives producers s safe say did clue colossal bright qataris blame collapse oil prices lack spare cash fund propaganda mainstream media epic fails 21st century wire msm watch\n",
            "\n",
            "Original text 44898:\n",
            "21st century wire says 21wire predicted new year s look new hostage crisis iranian military forces report small riverine navy boats seized iranian currently held iran s farsi island persian total 10 navy men detained iranian navy navy patrol boat persian gulf initial narrative sailors training mission noon et boat experienced mechanical difficulty drifted waters detained iranian coast officials story slightly revised white house spokesman josh earnest follow 2 boats traveling en route kuwait stopped detained search rescue teams harry truman strike group scrambled aid crew stopped short crew taken contact iran received assurances crew vessels returned pentagon spokesman peter cook told according persian gulf farsi island iranian islands persian bushehr province irgc navy base island area km completely restricted secret governmental according nbc state department touch tehran officials iranians recognize navy straying course sailors released war cnn s wolf blitzer wasted time talk military tension neocon senator tom including cnn running talking point come worse time president obama right tonight s state union s trying prove american people iran country trusted implement historic nuclear latest naval controversy comes days implementation phase iran nuclear say coincidence gop members pentagon intelligence establishment helped engineer today s bizarre order help weaken obama s controversial iranian nuclear looks likely evidenced quick appearance israel senator tom cotton placed cnn direct aggressive military talking points live air story broke cotton immediately called event hostile blamed iran boat drifting iranian blamed crisis president emboldened iranian cotton goes tell giant media cnn s wolf does challenge cotton s imaginary largely responsible killing soldiers iraq cotton went threaten saying sailors vessels need immediately iran deal military force table retaliate act cotton proceeded veiled threat saying options washington s operatives far engineer exacerbate international crisis dispatching boats knowing iran harm using incident injure lame answer yes ve 52 american diplomats citizens held hostage 444 days known iranian hostage just happened place presidential election president jimmy carter running reelection challenger ronald reagan including horrific failed rescue used carter according reports time reagan campaign operatives managed backdoor deal elements new iranian regime releasing hostages reagan won took credit victory end prearranged cnn cotton invoked feckless foreign policy jimmy carter caused 1979 iran hostage compared president obama s current officials cnn brought short notice chose senator tom hawkish closest aligned looks like neocon tuned iran news 21st century wire iran files\n",
            "Preprocessed text 44898:\n",
            "21st century wire says 21wire predicted new year s look new hostage crisis iranian military forces report small riverine navy boats seized iranian currently held iran s farsi island persian total 10 navy men detained iranian navy navy patrol boat persian gulf initial narrative sailors training mission noon et boat experienced mechanical difficulty drifted waters detained iranian coast officials story slightly revised white house spokesman josh earnest follow 2 boats traveling en route kuwait stopped detained search rescue teams harry truman strike group scrambled aid crew stopped short crew taken contact iran received assurances crew vessels returned pentagon spokesman peter cook told according persian gulf farsi island iranian islands persian bushehr province irgc navy base island area km completely restricted secret governmental according nbc state department touch tehran officials iranians recognize navy straying course sailors released war cnn s wolf blitzer wasted time talk military tension neocon senator tom including cnn running talking point come worse time president obama right tonight s state union s trying prove american people iran country trusted implement historic nuclear latest naval controversy comes days implementation phase iran nuclear say coincidence gop members pentagon intelligence establishment helped engineer today s bizarre order help weaken obama s controversial iranian nuclear looks likely evidenced quick appearance israel senator tom cotton placed cnn direct aggressive military talking points live air story broke cotton immediately called event hostile blamed iran boat drifting iranian blamed crisis president emboldened iranian cotton goes tell giant media cnn s wolf does challenge cotton s imaginary largely responsible killing soldiers iraq cotton went threaten saying sailors vessels need immediately iran deal military force table retaliate act cotton proceeded veiled threat saying options washington s operatives far engineer exacerbate international crisis dispatching boats knowing iran harm using incident injure lame answer yes ve 52 american diplomats citizens held hostage 444 days known iranian hostage just happened place presidential election president jimmy carter running reelection challenger ronald reagan including horrific failed rescue used carter according reports time reagan campaign operatives managed backdoor deal elements new iranian regime releasing hostages reagan won took credit victory end prearranged cnn cotton invoked feckless foreign policy jimmy carter caused 1979 iran hostage compared president obama s current officials cnn brought short notice chose senator tom hawkish closest aligned looks like neocon tuned iran news 21st century wire iran files\n",
            "\n"
          ]
        }
      ],
      "source": [
        "for idx, text in enumerate(X):\n",
        "    preprocessed_text = preprocess_text(text)\n",
        "    print(f\"Original text {idx + 1}:\\n{text}\\nPreprocessed text {idx + 1}:\\n{preprocessed_text}\\n\")\n",
        "    X[idx] = preprocessed_text"
      ]
    },
    {
      "cell_type": "code",
      "execution_count": null,
      "id": "8a4485c8",
      "metadata": {
        "id": "8a4485c8"
      },
      "outputs": [],
      "source": [
        "max_words = 10000\n",
        "max_len = 200\n",
        "tokenizer = Tokenizer(num_words=max_words, oov_token='<OOV>')\n",
        "tokenizer.fit_on_texts(X)\n",
        "sequences = tokenizer.texts_to_sequences(X)\n",
        "X_padded = pad_sequences(sequences, maxlen=max_len, padding='post', truncating='post')\n"
      ]
    },
    {
      "cell_type": "code",
      "execution_count": null,
      "id": "cd2e21cd",
      "metadata": {
        "id": "cd2e21cd"
      },
      "outputs": [],
      "source": [
        "X_train, X_test, y_train, y_test = train_test_split(X_padded, y, test_size=0.2, random_state=42)\n"
      ]
    },
    {
      "cell_type": "code",
      "execution_count": null,
      "id": "b519a736",
      "metadata": {
        "id": "b519a736"
      },
      "outputs": [],
      "source": [
        "model = Sequential()\n",
        "model.add(Embedding(max_words, 128, input_length=max_len))\n",
        "model.add(SimpleRNN(64, return_sequences=True))\n",
        "model.add(SimpleRNN(32))\n",
        "model.add(Dense(16, activation='relu'))\n",
        "model.add(Dropout(0.5))\n",
        "model.add(Dense(1, activation='sigmoid'))\n"
      ]
    },
    {
      "cell_type": "code",
      "execution_count": null,
      "id": "c99ee43a",
      "metadata": {
        "id": "c99ee43a"
      },
      "outputs": [],
      "source": [
        "model.compile(optimizer='adam', loss='binary_crossentropy', metrics=['accuracy'])"
      ]
    },
    {
      "cell_type": "code",
      "execution_count": null,
      "id": "5661f89d",
      "metadata": {
        "id": "5661f89d",
        "outputId": "217b7dd7-a42b-4faf-a117-0bd7378b27c1"
      },
      "outputs": [
        {
          "name": "stdout",
          "output_type": "stream",
          "text": [
            "Epoch 1/5\n",
            "449/449 [==============================] - 31s 67ms/step - loss: 0.6949 - accuracy: 0.5201 - val_loss: 0.6923 - val_accuracy: 0.5193\n",
            "Epoch 2/5\n",
            "449/449 [==============================] - 30s 66ms/step - loss: 0.6750 - accuracy: 0.5726 - val_loss: 0.6510 - val_accuracy: 0.6041\n",
            "Epoch 3/5\n",
            "449/449 [==============================] - 30s 66ms/step - loss: 0.6297 - accuracy: 0.6310 - val_loss: 0.5258 - val_accuracy: 0.7149\n",
            "Epoch 4/5\n",
            "449/449 [==============================] - 30s 67ms/step - loss: 0.5757 - accuracy: 0.6640 - val_loss: 0.5107 - val_accuracy: 0.7468\n",
            "Epoch 5/5\n",
            "449/449 [==============================] - 30s 66ms/step - loss: 0.5563 - accuracy: 0.6967 - val_loss: 0.5798 - val_accuracy: 0.7311\n"
          ]
        },
        {
          "data": {
            "text/plain": [
              "<keras.src.callbacks.History at 0xbbf756fa00>"
            ]
          },
          "execution_count": 26,
          "metadata": {},
          "output_type": "execute_result"
        }
      ],
      "source": [
        "model.fit(X_train, y_train, epochs=5, batch_size=64, validation_split=0.2)"
      ]
    },
    {
      "cell_type": "code",
      "execution_count": null,
      "id": "9297bdcc",
      "metadata": {
        "id": "9297bdcc",
        "outputId": "b2dffebc-0cff-410d-dc14-e2860ef91119"
      },
      "outputs": [
        {
          "name": "stdout",
          "output_type": "stream",
          "text": [
            "281/281 [==============================] - 3s 12ms/step - loss: 0.5844 - accuracy: 0.7262\n",
            "Test Loss: 0.5844, Test Accuracy: 0.7262\n"
          ]
        }
      ],
      "source": [
        "loss, accuracy = model.evaluate(X_test, y_test)\n",
        "print(f\"Test Loss: {loss:.4f}, Test Accuracy: {accuracy:.4f}\")\n"
      ]
    },
    {
      "cell_type": "code",
      "execution_count": null,
      "id": "0f5497d4",
      "metadata": {
        "id": "0f5497d4"
      },
      "outputs": [],
      "source": []
    }
  ],
  "metadata": {
    "kernelspec": {
      "display_name": "Python 3 (ipykernel)",
      "language": "python",
      "name": "python3"
    },
    "language_info": {
      "codemirror_mode": {
        "name": "ipython",
        "version": 3
      },
      "file_extension": ".py",
      "mimetype": "text/x-python",
      "name": "python",
      "nbconvert_exporter": "python",
      "pygments_lexer": "ipython3",
      "version": "3.10.9"
    },
    "colab": {
      "provenance": []
    }
  },
  "nbformat": 4,
  "nbformat_minor": 5
}