{
  "cells": [
    {
      "cell_type": "code",
      "execution_count": null,
      "id": "765e6d72-bae6-4adf-9ab4-988aa4ce54b3",
      "metadata": {
        "id": "765e6d72-bae6-4adf-9ab4-988aa4ce54b3"
      },
      "outputs": [],
      "source": [
        "import tensorflow as tf\n",
        "from tensorflow.keras import datasets, layers, models\n",
        "import matplotlib. pyplot as plt\n",
        "import numpy as np"
      ]
    },
    {
      "cell_type": "code",
      "execution_count": null,
      "id": "345fc2d9-8a95-42de-9852-edb73b1af2fa",
      "metadata": {
        "id": "345fc2d9-8a95-42de-9852-edb73b1af2fa"
      },
      "outputs": [],
      "source": [
        "(x_train, y_train) ,(x_test, y_test)= datasets.cifar10.load_data()"
      ]
    },
    {
      "cell_type": "code",
      "execution_count": null,
      "id": "d899c4a1-ed94-4e1d-a96a-495ad089eb1d",
      "metadata": {
        "id": "d899c4a1-ed94-4e1d-a96a-495ad089eb1d",
        "outputId": "cc9d6ad8-287d-44cf-f0d8-5da6ce500306"
      },
      "outputs": [
        {
          "name": "stdout",
          "output_type": "stream",
          "text": [
            "(50000, 32, 32, 3)\n",
            "(10000, 32, 32, 3)\n"
          ]
        }
      ],
      "source": [
        "print(x_train.shape)\n",
        "print(x_test.shape)"
      ]
    },
    {
      "cell_type": "code",
      "execution_count": null,
      "id": "58f23e8e-b3e5-4483-958b-2586f06113a7",
      "metadata": {
        "id": "58f23e8e-b3e5-4483-958b-2586f06113a7",
        "outputId": "486b24e0-92b8-428c-93f2-eaa45163fc4d"
      },
      "outputs": [
        {
          "data": {
            "text/plain": [
              "<matplotlib.image.AxesImage at 0x294f76e80>"
            ]
          },
          "execution_count": 29,
          "metadata": {},
          "output_type": "execute_result"
        },
        {
          "data": {
            "image/png": "[encoded data removed]",
            "text/plain": [
              "<Figure size 1080x144 with 1 Axes>"
            ]
          },
          "metadata": {
            "needs_background": "light"
          },
          "output_type": "display_data"
        }
      ],
      "source": [
        "plt.figure(figsize=(15,2))\n",
        "plt.imshow(x_train[3])"
      ]
    },
    {
      "cell_type": "code",
      "execution_count": null,
      "id": "3051fac7-d14e-497a-bc10-36cb58260c42",
      "metadata": {
        "id": "3051fac7-d14e-497a-bc10-36cb58260c42",
        "outputId": "f9c75edc-6691-4fba-b6f1-558ba108698d"
      },
      "outputs": [
        {
          "data": {
            "text/plain": [
              "2"
            ]
          },
          "execution_count": 69,
          "metadata": {},
          "output_type": "execute_result"
        }
      ],
      "source": [
        "y_train.ndim"
      ]
    },
    {
      "cell_type": "code",
      "execution_count": null,
      "id": "54db3998-b6c6-491c-834f-2be9db7c5c88",
      "metadata": {
        "id": "54db3998-b6c6-491c-834f-2be9db7c5c88"
      },
      "outputs": [],
      "source": [
        "y_train = y_train.reshape(-1,)\n",
        "y_test = y_test.reshape(-1,)"
      ]
    },
    {
      "cell_type": "code",
      "execution_count": null,
      "id": "12298eb2-79d3-42e3-b5f2-3a27e6f8eaaf",
      "metadata": {
        "id": "12298eb2-79d3-42e3-b5f2-3a27e6f8eaaf"
      },
      "outputs": [],
      "source": [
        "classes = [\"airplane\",\"automobile\",\"bird\",\"cat\",\"deer\",\"dog\",\"frog\",\"hourse\",\"ship\",\"truck\"]"
      ]
    },
    {
      "cell_type": "code",
      "execution_count": null,
      "id": "839c3f18-c9c8-43c5-8310-e673dc739b92",
      "metadata": {
        "id": "839c3f18-c9c8-43c5-8310-e673dc739b92"
      },
      "outputs": [],
      "source": [
        "def plot_sample(X, y, index):\n",
        "    plt.figure(figsize=(15,2))\n",
        "    plt.imshow(X[index])\n",
        "    plt.xlabel(classes[y[index]])"
      ]
    },
    {
      "cell_type": "code",
      "execution_count": null,
      "id": "779170dc-aa87-48e7-961b-c63db96403d1",
      "metadata": {
        "id": "779170dc-aa87-48e7-961b-c63db96403d1",
        "outputId": "f322bc86-4dd6-4b4d-8dff-3f906bd4d659"
      },
      "outputs": [
        {
          "data": {
            "image/png": "[encoded data removed]",
            "text/plain": [
              "<Figure size 1080x144 with 1 Axes>"
            ]
          },
          "metadata": {
            "needs_background": "light"
          },
          "output_type": "display_data"
        }
      ],
      "source": [
        "plot_sample(x_train,y_train,0)"
      ]
    },
    {
      "cell_type": "code",
      "execution_count": null,
      "id": "63299cbb-5803-4d5f-b449-d8b8061456b0",
      "metadata": {
        "id": "63299cbb-5803-4d5f-b449-d8b8061456b0",
        "outputId": "9e97933a-780f-4fdf-decc-5fb53d1dff2c"
      },
      "outputs": [
        {
          "data": {
            "text/plain": [
              "array([[[0.61960784, 0.43921569, 0.19215686],\n",
              "        [0.62352941, 0.43529412, 0.18431373],\n",
              "        [0.64705882, 0.45490196, 0.2       ],\n",
              "        ...,\n",
              "        [0.5372549 , 0.37254902, 0.14117647],\n",
              "        [0.49411765, 0.35686275, 0.14117647],\n",
              "        [0.45490196, 0.33333333, 0.12941176]],\n",
              "\n",
              "       [[0.59607843, 0.43921569, 0.2       ],\n",
              "        [0.59215686, 0.43137255, 0.15686275],\n",
              "        [0.62352941, 0.44705882, 0.17647059],\n",
              "        ...,\n",
              "        [0.53333333, 0.37254902, 0.12156863],\n",
              "        [0.49019608, 0.35686275, 0.1254902 ],\n",
              "        [0.46666667, 0.34509804, 0.13333333]],\n",
              "\n",
              "       [[0.59215686, 0.43137255, 0.18431373],\n",
              "        [0.59215686, 0.42745098, 0.12941176],\n",
              "        [0.61960784, 0.43529412, 0.14117647],\n",
              "        ...,\n",
              "        [0.54509804, 0.38431373, 0.13333333],\n",
              "        [0.50980392, 0.37254902, 0.13333333],\n",
              "        [0.47058824, 0.34901961, 0.12941176]],\n",
              "\n",
              "       ...,\n",
              "\n",
              "       [[0.26666667, 0.48627451, 0.69411765],\n",
              "        [0.16470588, 0.39215686, 0.58039216],\n",
              "        [0.12156863, 0.34509804, 0.5372549 ],\n",
              "        ...,\n",
              "        [0.14901961, 0.38039216, 0.57254902],\n",
              "        [0.05098039, 0.25098039, 0.42352941],\n",
              "        [0.15686275, 0.33333333, 0.49803922]],\n",
              "\n",
              "       [[0.23921569, 0.45490196, 0.65882353],\n",
              "        [0.19215686, 0.4       , 0.58039216],\n",
              "        [0.1372549 , 0.33333333, 0.51764706],\n",
              "        ...,\n",
              "        [0.10196078, 0.32156863, 0.50980392],\n",
              "        [0.11372549, 0.32156863, 0.49411765],\n",
              "        [0.07843137, 0.25098039, 0.41960784]],\n",
              "\n",
              "       [[0.21176471, 0.41960784, 0.62745098],\n",
              "        [0.21960784, 0.41176471, 0.58431373],\n",
              "        [0.17647059, 0.34901961, 0.51764706],\n",
              "        ...,\n",
              "        [0.09411765, 0.30196078, 0.48627451],\n",
              "        [0.13333333, 0.32941176, 0.50588235],\n",
              "        [0.08235294, 0.2627451 , 0.43137255]]])"
            ]
          },
          "execution_count": 75,
          "metadata": {},
          "output_type": "execute_result"
        }
      ],
      "source": [
        "x_train = x_train / 255\n",
        "x_test = x_test / 255\n",
        "x_test[0]"
      ]
    },
    {
      "cell_type": "code",
      "execution_count": null,
      "id": "0df61878-5f30-4421-bd8d-2ba5aa53099f",
      "metadata": {
        "id": "0df61878-5f30-4421-bd8d-2ba5aa53099f"
      },
      "outputs": [],
      "source": [
        "ANN = models.Sequential([\n",
        "    layers.Flatten(input_shape = (32,32,3)),\n",
        "    layers.Dense(3000,activation='relu'),\n",
        "    layers.Dense(1000, activation = 'relu'),\n",
        "    layers.Dense(10,activation=\"softmax\")\n",
        "])"
      ]
    },
    {
      "cell_type": "code",
      "execution_count": null,
      "id": "79df1c0c-d400-4f2d-b0cb-a69e3501cd38",
      "metadata": {
        "id": "79df1c0c-d400-4f2d-b0cb-a69e3501cd38"
      },
      "outputs": [],
      "source": [
        "ANN.compile(optimizer=\"SGD\",\n",
        "           loss = \"sparse_categorical_crossentropy\",\n",
        "           metrics=[\"accuracy\",\"mse\"])"
      ]
    },
    {
      "cell_type": "code",
      "execution_count": null,
      "id": "c561e925-0e0b-46cf-a2fd-6afa68e70b01",
      "metadata": {
        "id": "c561e925-0e0b-46cf-a2fd-6afa68e70b01",
        "outputId": "39157ae2-4b7a-4c5f-9dd0-9296925bfd76"
      },
      "outputs": [
        {
          "name": "stdout",
          "output_type": "stream",
          "text": [
            "Epoch 1/5\n"
          ]
        },
        {
          "name": "stderr",
          "output_type": "stream",
          "text": [
            "2022-08-01 13:17:25.916686: I tensorflow/core/grappler/optimizers/custom_graph_optimizer_registry.cc:112] Plugin optimizer for device_type GPU is enabled.\n"
          ]
        },
        {
          "name": "stdout",
          "output_type": "stream",
          "text": [
            "1563/1563 [==============================] - 18s 11ms/step - loss: 1.8089 - accuracy: 0.3580 - mse: 27.6212\n",
            "Epoch 2/5\n",
            "1563/1563 [==============================] - 17s 11ms/step - loss: 1.6209 - accuracy: 0.4283 - mse: 27.6267\n",
            "Epoch 3/5\n",
            "1563/1563 [==============================] - 17s 11ms/step - loss: 1.5437 - accuracy: 0.4581 - mse: 27.6294\n",
            "Epoch 4/5\n",
            "1563/1563 [==============================] - 19s 12ms/step - loss: 1.4814 - accuracy: 0.4802 - mse: 27.6315\n",
            "Epoch 5/5\n",
            "1563/1563 [==============================] - 18s 12ms/step - loss: 1.4343 - accuracy: 0.4959 - mse: 27.6331\n"
          ]
        },
        {
          "data": {
            "text/plain": [
              "<tensorflow.python.keras.callbacks.History at 0x2c43dfee0>"
            ]
          },
          "execution_count": 107,
          "metadata": {},
          "output_type": "execute_result"
        }
      ],
      "source": [
        "ANN.fit(x_train,y_train,epochs=5)"
      ]
    },
    {
      "cell_type": "code",
      "execution_count": null,
      "id": "9fa06c05-2437-4880-ba51-3f28d16de093",
      "metadata": {
        "id": "9fa06c05-2437-4880-ba51-3f28d16de093",
        "outputId": "0a21b056-b768-4500-bb9e-98ba43c711ae"
      },
      "outputs": [
        {
          "name": "stdout",
          "output_type": "stream",
          "text": [
            "  6/313 [..............................] - ETA: 3s - loss: 1.4948 - accuracy: 0.4792 - mse: 30.1946 "
          ]
        },
        {
          "name": "stderr",
          "output_type": "stream",
          "text": [
            "2022-08-01 13:19:49.854994: I tensorflow/core/grappler/optimizers/custom_graph_optimizer_registry.cc:112] Plugin optimizer for device_type GPU is enabled.\n"
          ]
        },
        {
          "name": "stdout",
          "output_type": "stream",
          "text": [
            "313/313 [==============================] - 3s 8ms/step - loss: 1.5265 - accuracy: 0.4634 - mse: 27.6315\n"
          ]
        },
        {
          "data": {
            "text/plain": [
              "[1.5265042781829834, 0.4634000360965729, 27.631467819213867]"
            ]
          },
          "execution_count": 108,
          "metadata": {},
          "output_type": "execute_result"
        }
      ],
      "source": [
        "ANN.evaluate(x_test,y_test)"
      ]
    },
    {
      "cell_type": "code",
      "execution_count": null,
      "id": "db114757-111b-46c5-91fa-4669d8c3b094",
      "metadata": {
        "id": "db114757-111b-46c5-91fa-4669d8c3b094",
        "outputId": "ed00f446-bdb8-4b18-d3a6-e21728fe1783"
      },
      "outputs": [
        {
          "name": "stderr",
          "output_type": "stream",
          "text": [
            "2022-08-01 13:19:56.319682: I tensorflow/core/grappler/optimizers/custom_graph_optimizer_registry.cc:112] Plugin optimizer for device_type GPU is enabled.\n"
          ]
        }
      ],
      "source": [
        "from sklearn.metrics import confusion_matrix , classification_report\n",
        "y_pred = ANN.predict(x_test)"
      ]
    },
    {
      "cell_type": "code",
      "execution_count": null,
      "id": "0f869840-912d-4861-a250-089a31ef477c",
      "metadata": {
        "id": "0f869840-912d-4861-a250-089a31ef477c",
        "outputId": "eb742bde-71fd-4949-d9ee-250c2183f34a"
      },
      "outputs": [
        {
          "data": {
            "text/plain": [
              "0.99999994"
            ]
          },
          "execution_count": 113,
          "metadata": {},
          "output_type": "execute_result"
        }
      ],
      "source": [
        "y_pred[1].sum()"
      ]
    },
    {
      "cell_type": "code",
      "execution_count": null,
      "id": "a1cd7300-f9bf-4912-8ee8-4d98a6a8d577",
      "metadata": {
        "id": "a1cd7300-f9bf-4912-8ee8-4d98a6a8d577",
        "outputId": "7ccd93b4-7c46-4efa-a5fb-be7146249528"
      },
      "outputs": [
        {
          "name": "stdout",
          "output_type": "stream",
          "text": [
            "[array([3, 8, 8, 0, 6], dtype=uint8)]\n",
            "[3, 1, 0, 0, 4]\n"
          ]
        }
      ],
      "source": [
        "y_pred_class = [np.argmax(element) for element in y_pred]\n",
        "print([y_test[:5]])\n",
        "print(y_pred_class[:5])"
      ]
    },
    {
      "cell_type": "code",
      "execution_count": null,
      "id": "1c5ee719-f12c-45d9-87df-893c478aa7fd",
      "metadata": {
        "id": "1c5ee719-f12c-45d9-87df-893c478aa7fd",
        "outputId": "95eab986-31c9-46b8-b08d-5eba5c290abb"
      },
      "outputs": [
        {
          "name": "stdout",
          "output_type": "stream",
          "text": [
            "              precision    recall  f1-score   support\n",
            "\n",
            "           0       0.66      0.61      0.64      1000\n",
            "           1       0.62      0.73      0.67      1000\n",
            "           2       0.69      0.16      0.26      1000\n",
            "           3       0.29      0.62      0.39      1000\n",
            "           4       0.46      0.52      0.49      1000\n",
            "           5       0.40      0.46      0.42      1000\n",
            "           6       0.63      0.50      0.55      1000\n",
            "           7       0.68      0.56      0.61      1000\n",
            "           8       0.78      0.55      0.65      1000\n",
            "           9       0.60      0.55      0.58      1000\n",
            "\n",
            "    accuracy                           0.53     10000\n",
            "   macro avg       0.58      0.53      0.53     10000\n",
            "weighted avg       0.58      0.53      0.53     10000\n",
            "\n"
          ]
        }
      ],
      "source": [
        " print(classification_report(y_test,y_pred_class))"
      ]
    },
    {
      "cell_type": "code",
      "execution_count": null,
      "id": "8b4ceabb-8959-495b-a297-8040708f078f",
      "metadata": {
        "id": "8b4ceabb-8959-495b-a297-8040708f078f"
      },
      "outputs": [],
      "source": [
        "CNN = models.Sequential([\n",
        "    layers.Conv2D(filters=32,kernel_size=(3,3),activation='relu',input_shape = (32,32,3)),\n",
        "    layers.MaxPool2D(2,2),\n",
        "\n",
        "    layers.Conv2D(filters=64,kernel_size=(3,3),activation='relu',input_shape = (32,32,3)),\n",
        "    layers.MaxPool2D(2,2),\n",
        "\n",
        "    layers.Flatten(),\n",
        "    layers.Dense(64,activation='relu'),\n",
        "    layers.Dense(10,activation='softmax')\n",
        "])"
      ]
    },
    {
      "cell_type": "code",
      "execution_count": null,
      "id": "b2bbf42e-3fa8-421e-a29d-e9b1df8f8ab1",
      "metadata": {
        "id": "b2bbf42e-3fa8-421e-a29d-e9b1df8f8ab1"
      },
      "outputs": [],
      "source": [
        "CNN.compile(optimizer=\"adam\",\n",
        "           loss = \"sparse_categorical_crossentropy\",\n",
        "           metrics=[\"accuracy\",\"mse\"])"
      ]
    },
    {
      "cell_type": "code",
      "execution_count": null,
      "id": "62e81957-2c7a-40f0-ac2d-8cf56615e29a",
      "metadata": {
        "id": "62e81957-2c7a-40f0-ac2d-8cf56615e29a",
        "outputId": "21d8b7dc-cfe7-4927-d2f8-52b54ed89aec"
      },
      "outputs": [
        {
          "name": "stdout",
          "output_type": "stream",
          "text": [
            "Epoch 1/10\n"
          ]
        },
        {
          "name": "stderr",
          "output_type": "stream",
          "text": [
            "2022-08-01 14:11:32.521800: I tensorflow/core/grappler/optimizers/custom_graph_optimizer_registry.cc:112] Plugin optimizer for device_type GPU is enabled.\n"
          ]
        },
        {
          "name": "stdout",
          "output_type": "stream",
          "text": [
            "1563/1563 [==============================] - 17s 10ms/step - loss: 1.4385 - accuracy: 0.4851 - mse: 27.6333\n",
            "Epoch 2/10\n",
            "1563/1563 [==============================] - 14s 9ms/step - loss: 1.0744 - accuracy: 0.6233 - mse: 27.6480\n",
            "Epoch 3/10\n",
            "1563/1563 [==============================] - 14s 9ms/step - loss: 0.9450 - accuracy: 0.6710 - mse: 27.6540\n",
            "Epoch 4/10\n",
            "1563/1563 [==============================] - 14s 9ms/step - loss: 0.8617 - accuracy: 0.7018 - mse: 27.6576\n",
            "Epoch 5/10\n",
            "1563/1563 [==============================] - 15s 9ms/step - loss: 0.7918 - accuracy: 0.7263 - mse: 27.6608\n",
            "Epoch 6/10\n",
            "1563/1563 [==============================] - 15s 9ms/step - loss: 0.7330 - accuracy: 0.7454 - mse: 27.6635\n",
            "Epoch 7/10\n",
            "1563/1563 [==============================] - 15s 9ms/step - loss: 0.6770 - accuracy: 0.7658 - mse: 27.6660\n",
            "Epoch 8/10\n",
            "1563/1563 [==============================] - 15s 10ms/step - loss: 0.6340 - accuracy: 0.7803 - mse: 27.6679\n",
            "Epoch 9/10\n",
            "1563/1563 [==============================] - 15s 10ms/step - loss: 0.5860 - accuracy: 0.7957 - mse: 27.6700\n",
            "Epoch 10/10\n",
            "1563/1563 [==============================] - 15s 9ms/step - loss: 0.5468 - accuracy: 0.8088 - mse: 27.6718\n"
          ]
        },
        {
          "data": {
            "text/plain": [
              "<tensorflow.python.keras.callbacks.History at 0x2d0636be0>"
            ]
          },
          "execution_count": 118,
          "metadata": {},
          "output_type": "execute_result"
        }
      ],
      "source": [
        "CNN.fit(x_train,y_train,epochs=10)"
      ]
    },
    {
      "cell_type": "code",
      "execution_count": null,
      "id": "31dc2d58-1c76-47d4-9d80-278f9b5b11bd",
      "metadata": {
        "id": "31dc2d58-1c76-47d4-9d80-278f9b5b11bd",
        "outputId": "30222132-e7e5-4e15-868a-e80c76aa9f40"
      },
      "outputs": [
        {
          "name": "stdout",
          "output_type": "stream",
          "text": [
            "  7/313 [..............................] - ETA: 2s - loss: 0.9044 - accuracy: 0.7277 - mse: 31.1866 "
          ]
        },
        {
          "name": "stderr",
          "output_type": "stream",
          "text": [
            "2022-08-01 14:14:22.386097: I tensorflow/core/grappler/optimizers/custom_graph_optimizer_registry.cc:112] Plugin optimizer for device_type GPU is enabled.\n"
          ]
        },
        {
          "name": "stdout",
          "output_type": "stream",
          "text": [
            "313/313 [==============================] - 2s 6ms/step - loss: 0.9352 - accuracy: 0.7050 - mse: 27.6693\n"
          ]
        },
        {
          "data": {
            "text/plain": [
              "[0.935163140296936, 0.7050000429153442, 27.66925048828125]"
            ]
          },
          "execution_count": 119,
          "metadata": {},
          "output_type": "execute_result"
        }
      ],
      "source": [
        "CNN.evaluate(x_test,y_test)"
      ]
    },
    {
      "cell_type": "code",
      "execution_count": null,
      "id": "d2a7a4ba-dc07-4d39-bb2a-3fa49cbf8fbb",
      "metadata": {
        "id": "d2a7a4ba-dc07-4d39-bb2a-3fa49cbf8fbb"
      },
      "outputs": [],
      "source": [
        "# The model accuracy on the train data is 80 % with 27.67 MSE, and the accuracy on test data is 70 %.\n",
        "# Hence, we consider that the model is overfitting."
      ]
    },
    {
      "cell_type": "code",
      "execution_count": null,
      "id": "4aea3477-c456-42a6-87ca-9b15c19992e8",
      "metadata": {
        "id": "4aea3477-c456-42a6-87ca-9b15c19992e8",
        "outputId": "12e64a3b-949f-4a37-f542-e12f7f120488"
      },
      "outputs": [
        {
          "name": "stderr",
          "output_type": "stream",
          "text": [
            "2022-08-01 14:17:01.579090: I tensorflow/core/grappler/optimizers/custom_graph_optimizer_registry.cc:112] Plugin optimizer for device_type GPU is enabled.\n"
          ]
        }
      ],
      "source": [
        "y_pred_cnn = CNN.predict(x_test)"
      ]
    },
    {
      "cell_type": "code",
      "execution_count": null,
      "id": "845f81a5-75a5-4009-a8ca-fce7702d3ada",
      "metadata": {
        "id": "845f81a5-75a5-4009-a8ca-fce7702d3ada",
        "outputId": "1734615b-b762-466f-be42-873fc1ed755f"
      },
      "outputs": [
        {
          "data": {
            "text/plain": [
              "[3, 8, 1, 0, 4]"
            ]
          },
          "execution_count": 124,
          "metadata": {},
          "output_type": "execute_result"
        }
      ],
      "source": [
        "y_pred_class_cnn = [np.argmax(element) for element in y_pred_cnn]"
      ]
    },
    {
      "cell_type": "code",
      "execution_count": null,
      "id": "07b7f420-c518-4c52-983a-1e92d22d5d50",
      "metadata": {
        "id": "07b7f420-c518-4c52-983a-1e92d22d5d50",
        "outputId": "69275fd6-d1c8-42ec-a1ce-52553f303ef5"
      },
      "outputs": [
        {
          "name": "stdout",
          "output_type": "stream",
          "text": [
            "[3 8 8 0 6]\n",
            "[3, 8, 1, 0, 4]\n"
          ]
        }
      ],
      "source": [
        "print(y_test[:5])\n",
        "print(y_pred_class_cnn[:5])"
      ]
    },
    {
      "cell_type": "code",
      "execution_count": null,
      "id": "08f6132a-a228-4b82-b44e-6336585b6e7e",
      "metadata": {
        "id": "08f6132a-a228-4b82-b44e-6336585b6e7e",
        "outputId": "804140b7-091c-4deb-9631-a1b94c2f8741"
      },
      "outputs": [
        {
          "name": "stdout",
          "output_type": "stream",
          "text": [
            "Classification report for ANN \n",
            "\n",
            "              precision    recall  f1-score   support\n",
            "\n",
            "           0       0.66      0.61      0.64      1000\n",
            "           1       0.62      0.73      0.67      1000\n",
            "           2       0.69      0.16      0.26      1000\n",
            "           3       0.29      0.62      0.39      1000\n",
            "           4       0.46      0.52      0.49      1000\n",
            "           5       0.40      0.46      0.42      1000\n",
            "           6       0.63      0.50      0.55      1000\n",
            "           7       0.68      0.56      0.61      1000\n",
            "           8       0.78      0.55      0.65      1000\n",
            "           9       0.60      0.55      0.58      1000\n",
            "\n",
            "    accuracy                           0.53     10000\n",
            "   macro avg       0.58      0.53      0.53     10000\n",
            "weighted avg       0.58      0.53      0.53     10000\n",
            "\n",
            "Classification report for CNN \n",
            "\n",
            "              precision    recall  f1-score   support\n",
            "\n",
            "           0       0.67      0.79      0.73      1000\n",
            "           1       0.78      0.87      0.82      1000\n",
            "           2       0.67      0.53      0.59      1000\n",
            "           3       0.57      0.47      0.52      1000\n",
            "           4       0.68      0.64      0.66      1000\n",
            "           5       0.60      0.63      0.61      1000\n",
            "           6       0.79      0.77      0.78      1000\n",
            "           7       0.65      0.83      0.73      1000\n",
            "           8       0.81      0.79      0.80      1000\n",
            "           9       0.83      0.73      0.78      1000\n",
            "\n",
            "    accuracy                           0.70     10000\n",
            "   macro avg       0.71      0.71      0.70     10000\n",
            "weighted avg       0.71      0.70      0.70     10000\n",
            "\n"
          ]
        }
      ],
      "source": [
        "print(\"Classification report for ANN \\n\")\n",
        "print(classification_report(y_test,y_pred_class))\n",
        "print(\"Classification report for CNN \\n\")\n",
        "print(classification_report(y_test,y_pred_class_cnn))"
      ]
    },
    {
      "cell_type": "code",
      "execution_count": null,
      "id": "e8800bbd-c892-402e-9291-81961eeb7091",
      "metadata": {
        "id": "e8800bbd-c892-402e-9291-81961eeb7091",
        "outputId": "3b274a70-5c34-420c-c417-31b783a1cb9c"
      },
      "outputs": [
        {
          "data": {
            "image/png": "[encoded data removed]",
            "text/plain": [
              "<Figure size 1080x144 with 1 Axes>"
            ]
          },
          "metadata": {
            "needs_background": "light"
          },
          "output_type": "display_data"
        },
        {
          "data": {
            "image/png": "[encoded data removed]",
            "text/plain": [
              "<Figure size 1080x144 with 1 Axes>"
            ]
          },
          "metadata": {
            "needs_background": "light"
          },
          "output_type": "display_data"
        }
      ],
      "source": [
        "plot_sample(x_train,y_train,2)\n",
        "plot_sample(x_train,y_train,3)\n"
      ]
    },
    {
      "cell_type": "code",
      "execution_count": null,
      "id": "6a54531f-f9a1-4642-893c-8a648b6c2907",
      "metadata": {
        "id": "6a54531f-f9a1-4642-893c-8a648b6c2907"
      },
      "outputs": [],
      "source": [
        "# The recall for class 2(truck) in ANN is low, and the recall for class 3 (deer) in CNN is low."
      ]
    }
  ],
  "metadata": {
    "kernelspec": {
      "display_name": "Python 3 (ipykernel)",
      "language": "python",
      "name": "python3"
    },
    "language_info": {
      "codemirror_mode": {
        "name": "ipython",
        "version": 3
      },
      "file_extension": ".py",
      "mimetype": "text/x-python",
      "name": "python",
      "nbconvert_exporter": "python",
      "pygments_lexer": "ipython3",
      "version": "3.9.13"
    },
    "colab": {
      "provenance": []
    }
  },
  "nbformat": 4,
  "nbformat_minor": 5
}