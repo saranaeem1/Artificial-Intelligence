{
 "cells": [
  {
   "cell_type": "code",
   "execution_count": 1,
   "metadata": {
    "colab": {
     "base_uri": "https://localhost:8080/"
    },
    "id": "8r8p5MS2Jyny",
    "outputId": "626469e0-eea5-4a40-db74-6747267def93",
    "scrolled": true
   },
   "outputs": [
    {
     "name": "stdout",
     "output_type": "stream",
     "text": [
      "Collecting wikipedia\n",
      "  Downloading wikipedia-1.4.0.tar.gz (27 kB)\n",
      "  Installing build dependencies: started\n",
      "  Installing build dependencies: finished with status 'done'\n",
      "  Getting requirements to build wheel: started\n",
      "  Getting requirements to build wheel: finished with status 'done'\n",
      "  Preparing metadata (pyproject.toml): started\n",
      "  Preparing metadata (pyproject.toml): finished with status 'done'\n",
      "Requirement already satisfied: beautifulsoup4 in c:\\python10\\lib\\site-packages (from wikipedia) (4.11.1)\n",
      "Collecting requests<3.0.0,>=2.0.0 (from wikipedia)\n",
      "  Downloading requests-2.31.0-py3-none-any.whl (62 kB)\n",
      "     -------------------------------------- 62.6/62.6 kB 209.3 kB/s eta 0:00:00\n",
      "Collecting charset-normalizer<4,>=2 (from requests<3.0.0,>=2.0.0->wikipedia)\n",
      "  Downloading charset_normalizer-3.2.0-cp310-cp310-win_amd64.whl (96 kB)\n",
      "     -------------------------------------- 96.9/96.9 kB 291.8 kB/s eta 0:00:00\n",
      "Collecting idna<4,>=2.5 (from requests<3.0.0,>=2.0.0->wikipedia)\n",
      "  Downloading idna-3.4-py3-none-any.whl (61 kB)\n",
      "     -------------------------------------- 61.5/61.5 kB 827.4 kB/s eta 0:00:00\n",
      "Collecting urllib3<3,>=1.21.1 (from requests<3.0.0,>=2.0.0->wikipedia)\n",
      "  Downloading urllib3-2.0.4-py3-none-any.whl (123 kB)\n",
      "     ------------------------------------ 123.9/123.9 kB 806.2 kB/s eta 0:00:00\n",
      "Collecting certifi>=2017.4.17 (from requests<3.0.0,>=2.0.0->wikipedia)\n",
      "  Downloading certifi-2023.7.22-py3-none-any.whl (158 kB)\n",
      "     ------------------------------------ 158.3/158.3 kB 729.5 kB/s eta 0:00:00\n",
      "Requirement already satisfied: soupsieve>1.2 in c:\\python10\\lib\\site-packages (from beautifulsoup4->wikipedia) (2.3.2.post1)\n",
      "Building wheels for collected packages: wikipedia\n",
      "  Building wheel for wikipedia (pyproject.toml): started\n",
      "  Building wheel for wikipedia (pyproject.toml): finished with status 'done'\n",
      "  Created wheel for wikipedia: filename=wikipedia-1.4.0-py3-none-any.whl size=11704 sha256=77507125625d80c27c402485dd7a330e60a445dda94479c4ade5737607015645\n",
      "  Stored in directory: c:\\users\\hp\\appdata\\local\\pip\\cache\\wheels\\5e\\b6\\c5\\93f3dec388ae76edc830cb42901bb0232504dfc0df02fc50de\n",
      "Successfully built wikipedia\n",
      "Installing collected packages: urllib3, idna, charset-normalizer, certifi, requests, wikipedia\n",
      "Successfully installed certifi-2023.7.22 charset-normalizer-3.2.0 idna-3.4 requests-2.31.0 urllib3-2.0.4 wikipedia-1.4.0\n",
      "Note: you may need to restart the kernel to use updated packages.\n"
     ]
    },
    {
     "name": "stderr",
     "output_type": "stream",
     "text": [
      "\n",
      "[notice] A new release of pip is available: 23.1.2 -> 23.2.1\n",
      "[notice] To update, run: python.exe -m pip install --upgrade pip\n"
     ]
    }
   ],
   "source": [
    "pip install wikipedia"
   ]
  },
  {
   "cell_type": "markdown",
   "metadata": {
    "id": "S7JiwobsJ4l7"
   },
   "source": [
    "# Extracting Data"
   ]
  },
  {
   "cell_type": "code",
   "execution_count": 12,
   "metadata": {
    "colab": {
     "base_uri": "https://localhost:8080/"
    },
    "id": "rN1elnqYKEWE",
    "outputId": "0cb133bc-9073-4e8e-a2f3-9f9e52ff07b9"
   },
   "outputs": [
    {
     "name": "stdout",
     "output_type": "stream",
     "text": [
      "Karachi (; Urdu: کراچی; Sindhi: ڪراچي‎; IPA: [kəˈraːtʃi] (listen)) is the largest city in Pakistan and 12th largest in the world, with a population of over 20 million. It is situated at the southern tip of the country along the Arabian Sea coast. It is the former capital of Pakistan and capital of the province of Sindh. Ranked as a beta-global city, it is Pakistan's premier industrial and financial centre, with an estimated GDP of over $200 billion (PPP) as of 2021. Karachi is Pakistan's most cosmopolitan city, linguistically, ethnically, and religiously diverse cities, as well as one of the most socially liberal.The region has been inhabited for millennia, but the city was formally founded as the fortified village of Kolachi as recently as 1729. The settlement greatly increased in importance on arrival of the East India Company in the mid-19th century. British administrators embarked on substantial projects to transform the city into a major seaport, and connect it with the extensive railway network of the Indian subcontinent. At the time of Pakistan's independence in 1947, the city was the largest in Sindh with an estimated population of 400,000 people. Afterwards, city experienced a dramatic shift in population and demography with the arrival of hundreds of thousands of Muslim immigrants (Muhajirs) from India, coupled with a substantial exodus of its Hindu residents. The city experienced rapid economic growth following Pakistan's independence, attracting migrants from throughout the country and other regions in South Asia. According to the 2017 Census of Pakistan, Karachi's total population was 16,051,521, with 14.9 million of those people residing in the urban areas of the city. Karachi is one of the world's fastest-growing cities, and has significant communities representing almost every ethnic group in Pakistan. Karachi holds more than two million Bengali immigrants, a million Afghan refugees, and up to 400,000 Rohingyas from Myanmar.Karachi is now Pakistan's premier industrial and financial centre. The city has a formal economy estimated to be worth $190 billion as of 2021, which is the largest in the country. Karachi collects 35% of Pakistan's tax revenue, and generates approximately 25% of Pakistan's entire GDP. Approximately 30% of Pakistani industrial output is from Karachi, while Karachi's ports handle approximately 95% of Pakistan's foreign trade. Approximately 90% of the multinational corporations and 100% of banks operating in Pakistan are headquartered in Karachi. It also serves as a transport hub, and contains Pakistan's two largest seaports, the Port of Karachi and Port Qasim, as well as Pakistan's busiest airport, Jinnah International Airport. Karachi is also considered to be Pakistan's fashion capital, and has hosted the annual Karachi Fashion Week since 2009.Known as the \"City of Lights\" in the 1960s and 1970s for its vibrant nightlife, Karachi was beset by sharp ethnic, sectarian, and political conflict in the 1980s with the large-scale arrival of weaponry during the Soviet–Afghan War. The city had become well known for its high rates of violent crime, but recorded crimes sharply decreased following a crackdown operation against criminals, the MQM political party, and Islamist militants, initiated in 2013 by the Pakistan Rangers. As a result of the operation, Karachi dropped from being ranked the world's 6th-most dangerous city for crime in 2014, to 128th by 2022.\n"
     ]
    }
   ],
   "source": [
    "import wikipedia\n",
    "text=wikipedia.summary(\"Karachi\")\n",
    "print(text)"
   ]
  },
  {
   "cell_type": "markdown",
   "metadata": {
    "id": "sVuDaTSHKG8M"
   },
   "source": [
    "# Make string lower"
   ]
  },
  {
   "cell_type": "code",
   "execution_count": 13,
   "metadata": {
    "colab": {
     "base_uri": "https://localhost:8080/"
    },
    "id": "_PFtQNFgKNxa",
    "outputId": "0d833a8f-271b-405d-b636-f2342e3d140c"
   },
   "outputs": [
    {
     "name": "stdout",
     "output_type": "stream",
     "text": [
      "karachi (; urdu: کراچی; sindhi: ڪراچي‎; ipa: [kəˈraːtʃi] (listen)) is the largest city in pakistan and 12th largest in the world, with a population of over 20 million. it is situated at the southern tip of the country along the arabian sea coast. it is the former capital of pakistan and capital of the province of sindh. ranked as a beta-global city, it is pakistan's premier industrial and financial centre, with an estimated gdp of over $200 billion (ppp) as of 2021. karachi is pakistan's most cosmopolitan city, linguistically, ethnically, and religiously diverse cities, as well as one of the most socially liberal.the region has been inhabited for millennia, but the city was formally founded as the fortified village of kolachi as recently as 1729. the settlement greatly increased in importance on arrival of the east india company in the mid-19th century. british administrators embarked on substantial projects to transform the city into a major seaport, and connect it with the extensive railway network of the indian subcontinent. at the time of pakistan's independence in 1947, the city was the largest in sindh with an estimated population of 400,000 people. afterwards, city experienced a dramatic shift in population and demography with the arrival of hundreds of thousands of muslim immigrants (muhajirs) from india, coupled with a substantial exodus of its hindu residents. the city experienced rapid economic growth following pakistan's independence, attracting migrants from throughout the country and other regions in south asia. according to the 2017 census of pakistan, karachi's total population was 16,051,521, with 14.9 million of those people residing in the urban areas of the city. karachi is one of the world's fastest-growing cities, and has significant communities representing almost every ethnic group in pakistan. karachi holds more than two million bengali immigrants, a million afghan refugees, and up to 400,000 rohingyas from myanmar.karachi is now pakistan's premier industrial and financial centre. the city has a formal economy estimated to be worth $190 billion as of 2021, which is the largest in the country. karachi collects 35% of pakistan's tax revenue, and generates approximately 25% of pakistan's entire gdp. approximately 30% of pakistani industrial output is from karachi, while karachi's ports handle approximately 95% of pakistan's foreign trade. approximately 90% of the multinational corporations and 100% of banks operating in pakistan are headquartered in karachi. it also serves as a transport hub, and contains pakistan's two largest seaports, the port of karachi and port qasim, as well as pakistan's busiest airport, jinnah international airport. karachi is also considered to be pakistan's fashion capital, and has hosted the annual karachi fashion week since 2009.known as the \"city of lights\" in the 1960s and 1970s for its vibrant nightlife, karachi was beset by sharp ethnic, sectarian, and political conflict in the 1980s with the large-scale arrival of weaponry during the soviet–afghan war. the city had become well known for its high rates of violent crime, but recorded crimes sharply decreased following a crackdown operation against criminals, the mqm political party, and islamist militants, initiated in 2013 by the pakistan rangers. as a result of the operation, karachi dropped from being ranked the world's 6th-most dangerous city for crime in 2014, to 128th by 2022.\n"
     ]
    }
   ],
   "source": [
    "lower_text=text.lower()\n",
    "print(lower_text)"
   ]
  },
  {
   "cell_type": "markdown",
   "metadata": {
    "id": "k0gpr8N1KlkM"
   },
   "source": [
    "# cleaning data(select words only)"
   ]
  },
  {
   "cell_type": "code",
   "execution_count": 14,
   "metadata": {
    "id": "vSh-e3m6L-I_"
   },
   "outputs": [],
   "source": [
    "import nltk\n",
    "from nltk.tokenize import word_tokenize"
   ]
  },
  {
   "cell_type": "code",
   "execution_count": 15,
   "metadata": {
    "colab": {
     "base_uri": "https://localhost:8080/"
    },
    "id": "VrC2JXivL-Js",
    "outputId": "c1daa785-b5ad-47b2-bdd7-b78e7c6bbd3d"
   },
   "outputs": [
    {
     "name": "stderr",
     "output_type": "stream",
     "text": [
      "[nltk_data] Downloading package punkt to\n",
      "[nltk_data]     C:\\Users\\HP\\AppData\\Roaming\\nltk_data...\n",
      "[nltk_data]   Package punkt is already up-to-date!\n"
     ]
    },
    {
     "data": {
      "text/plain": [
       "True"
      ]
     },
     "execution_count": 15,
     "metadata": {},
     "output_type": "execute_result"
    }
   ],
   "source": [
    "nltk.download('punkt')"
   ]
  },
  {
   "cell_type": "code",
   "execution_count": 16,
   "metadata": {
    "colab": {
     "base_uri": "https://localhost:8080/"
    },
    "id": "znaz_mqGMTdV",
    "outputId": "1dabc220-1d61-4559-a626-a65e58df5a90"
   },
   "outputs": [
    {
     "name": "stdout",
     "output_type": "stream",
     "text": [
      "['karachi', '(', ';', 'urdu', ':', 'کراچی', ';', 'sindhi', ':', 'ڪراچي\\u200e', ';', 'ipa', ':', '[', 'kəˈraːtʃi', ']', '(', 'listen', ')', ')', 'is', 'the', 'largest', 'city', 'in', 'pakistan', 'and', '12th', 'largest', 'in', 'the', 'world', ',', 'with', 'a', 'population', 'of', 'over', '20', 'million', '.', 'it', 'is', 'situated', 'at', 'the', 'southern', 'tip', 'of', 'the', 'country', 'along', 'the', 'arabian', 'sea', 'coast', '.', 'it', 'is', 'the', 'former', 'capital', 'of', 'pakistan', 'and', 'capital', 'of', 'the', 'province', 'of', 'sindh', '.', 'ranked', 'as', 'a', 'beta-global', 'city', ',', 'it', 'is', 'pakistan', \"'s\", 'premier', 'industrial', 'and', 'financial', 'centre', ',', 'with', 'an', 'estimated', 'gdp', 'of', 'over', '$', '200', 'billion', '(', 'ppp', ')', 'as', 'of', '2021.', 'karachi', 'is', 'pakistan', \"'s\", 'most', 'cosmopolitan', 'city', ',', 'linguistically', ',', 'ethnically', ',', 'and', 'religiously', 'diverse', 'cities', ',', 'as', 'well', 'as', 'one', 'of', 'the', 'most', 'socially', 'liberal.the', 'region', 'has', 'been', 'inhabited', 'for', 'millennia', ',', 'but', 'the', 'city', 'was', 'formally', 'founded', 'as', 'the', 'fortified', 'village', 'of', 'kolachi', 'as', 'recently', 'as', '1729.', 'the', 'settlement', 'greatly', 'increased', 'in', 'importance', 'on', 'arrival', 'of', 'the', 'east', 'india', 'company', 'in', 'the', 'mid-19th', 'century', '.', 'british', 'administrators', 'embarked', 'on', 'substantial', 'projects', 'to', 'transform', 'the', 'city', 'into', 'a', 'major', 'seaport', ',', 'and', 'connect', 'it', 'with', 'the', 'extensive', 'railway', 'network', 'of', 'the', 'indian', 'subcontinent', '.', 'at', 'the', 'time', 'of', 'pakistan', \"'s\", 'independence', 'in', '1947', ',', 'the', 'city', 'was', 'the', 'largest', 'in', 'sindh', 'with', 'an', 'estimated', 'population', 'of', '400,000', 'people', '.', 'afterwards', ',', 'city', 'experienced', 'a', 'dramatic', 'shift', 'in', 'population', 'and', 'demography', 'with', 'the', 'arrival', 'of', 'hundreds', 'of', 'thousands', 'of', 'muslim', 'immigrants', '(', 'muhajirs', ')', 'from', 'india', ',', 'coupled', 'with', 'a', 'substantial', 'exodus', 'of', 'its', 'hindu', 'residents', '.', 'the', 'city', 'experienced', 'rapid', 'economic', 'growth', 'following', 'pakistan', \"'s\", 'independence', ',', 'attracting', 'migrants', 'from', 'throughout', 'the', 'country', 'and', 'other', 'regions', 'in', 'south', 'asia', '.', 'according', 'to', 'the', '2017', 'census', 'of', 'pakistan', ',', 'karachi', \"'s\", 'total', 'population', 'was', '16,051,521', ',', 'with', '14.9', 'million', 'of', 'those', 'people', 'residing', 'in', 'the', 'urban', 'areas', 'of', 'the', 'city', '.', 'karachi', 'is', 'one', 'of', 'the', 'world', \"'s\", 'fastest-growing', 'cities', ',', 'and', 'has', 'significant', 'communities', 'representing', 'almost', 'every', 'ethnic', 'group', 'in', 'pakistan', '.', 'karachi', 'holds', 'more', 'than', 'two', 'million', 'bengali', 'immigrants', ',', 'a', 'million', 'afghan', 'refugees', ',', 'and', 'up', 'to', '400,000', 'rohingyas', 'from', 'myanmar.karachi', 'is', 'now', 'pakistan', \"'s\", 'premier', 'industrial', 'and', 'financial', 'centre', '.', 'the', 'city', 'has', 'a', 'formal', 'economy', 'estimated', 'to', 'be', 'worth', '$', '190', 'billion', 'as', 'of', '2021', ',', 'which', 'is', 'the', 'largest', 'in', 'the', 'country', '.', 'karachi', 'collects', '35', '%', 'of', 'pakistan', \"'s\", 'tax', 'revenue', ',', 'and', 'generates', 'approximately', '25', '%', 'of', 'pakistan', \"'s\", 'entire', 'gdp', '.', 'approximately', '30', '%', 'of', 'pakistani', 'industrial', 'output', 'is', 'from', 'karachi', ',', 'while', 'karachi', \"'s\", 'ports', 'handle', 'approximately', '95', '%', 'of', 'pakistan', \"'s\", 'foreign', 'trade', '.', 'approximately', '90', '%', 'of', 'the', 'multinational', 'corporations', 'and', '100', '%', 'of', 'banks', 'operating', 'in', 'pakistan', 'are', 'headquartered', 'in', 'karachi', '.', 'it', 'also', 'serves', 'as', 'a', 'transport', 'hub', ',', 'and', 'contains', 'pakistan', \"'s\", 'two', 'largest', 'seaports', ',', 'the', 'port', 'of', 'karachi', 'and', 'port', 'qasim', ',', 'as', 'well', 'as', 'pakistan', \"'s\", 'busiest', 'airport', ',', 'jinnah', 'international', 'airport', '.', 'karachi', 'is', 'also', 'considered', 'to', 'be', 'pakistan', \"'s\", 'fashion', 'capital', ',', 'and', 'has', 'hosted', 'the', 'annual', 'karachi', 'fashion', 'week', 'since', '2009.known', 'as', 'the', '``', 'city', 'of', 'lights', \"''\", 'in', 'the', '1960s', 'and', '1970s', 'for', 'its', 'vibrant', 'nightlife', ',', 'karachi', 'was', 'beset', 'by', 'sharp', 'ethnic', ',', 'sectarian', ',', 'and', 'political', 'conflict', 'in', 'the', '1980s', 'with', 'the', 'large-scale', 'arrival', 'of', 'weaponry', 'during', 'the', 'soviet–afghan', 'war', '.', 'the', 'city', 'had', 'become', 'well', 'known', 'for', 'its', 'high', 'rates', 'of', 'violent', 'crime', ',', 'but', 'recorded', 'crimes', 'sharply', 'decreased', 'following', 'a', 'crackdown', 'operation', 'against', 'criminals', ',', 'the', 'mqm', 'political', 'party', ',', 'and', 'islamist', 'militants', ',', 'initiated', 'in', '2013', 'by', 'the', 'pakistan', 'rangers', '.', 'as', 'a', 'result', 'of', 'the', 'operation', ',', 'karachi', 'dropped', 'from', 'being', 'ranked', 'the', 'world', \"'s\", '6th-most', 'dangerous', 'city', 'for', 'crime', 'in', '2014', ',', 'to', '128th', 'by', '2022', '.']\n"
     ]
    }
   ],
   "source": [
    "tokenized_text=word_tokenize(lower_text)\n",
    "print(tokenized_text)"
   ]
  },
  {
   "cell_type": "markdown",
   "metadata": {
    "id": "EmcPI9cPMkeq"
   },
   "source": [
    "# stop words removal"
   ]
  },
  {
   "cell_type": "code",
   "execution_count": 17,
   "metadata": {
    "colab": {
     "base_uri": "https://localhost:8080/"
    },
    "id": "Q0mP-OBANOlN",
    "outputId": "37577398-749c-48b9-91b9-a518c8a5a45d"
   },
   "outputs": [
    {
     "name": "stdout",
     "output_type": "stream",
     "text": [
      "['إذ', 'إذا', 'إذما', 'إذن', 'أف', 'أقل', 'أكثر', 'ألا', 'إلا', 'التي', 'الذي', 'الذين', 'اللاتي', 'اللائي', 'اللتان', 'اللتيا', 'اللتين', 'اللذان', 'اللذين', 'اللواتي', 'إلى', 'إليك', 'إليكم', 'إليكما', 'إليكن', 'أم', 'أما', 'أما', 'إما', 'أن', 'إن', 'إنا', 'أنا', 'أنت', 'أنتم', 'أنتما', 'أنتن', 'إنما', 'إنه', 'أنى', 'أنى', 'آه', 'آها', 'أو', 'أولاء', 'أولئك', 'أوه', 'آي', 'أي', 'أيها', 'إي', 'أين', 'أين', 'أينما', 'إيه', 'بخ', 'بس', 'بعد', 'بعض', 'بك', 'بكم', 'بكم', 'بكما', 'بكن', 'بل', 'بلى', 'بما', 'بماذا', 'بمن', 'بنا', 'به', 'بها', 'بهم', 'بهما', 'بهن', 'بي', 'بين', 'بيد', 'تلك', 'تلكم', 'تلكما', 'ته', 'تي', 'تين', 'تينك', 'ثم', 'ثمة', 'حاشا', 'حبذا', 'حتى', 'حيث', 'حيثما', 'حين', 'خلا', 'دون', 'ذا', 'ذات', 'ذاك', 'ذان', 'ذانك', 'ذلك', 'ذلكم', 'ذلكما', 'ذلكن', 'ذه', 'ذو', 'ذوا', 'ذواتا', 'ذواتي', 'ذي', 'ذين', 'ذينك', 'ريث', 'سوف', 'سوى', 'شتان', 'عدا', 'عسى', 'عل', 'على', 'عليك', 'عليه', 'عما', 'عن', 'عند', 'غير', 'فإذا', 'فإن', 'فلا', 'فمن', 'في', 'فيم', 'فيما', 'فيه', 'فيها', 'قد', 'كأن', 'كأنما', 'كأي', 'كأين', 'كذا', 'كذلك', 'كل', 'كلا', 'كلاهما', 'كلتا', 'كلما', 'كليكما', 'كليهما', 'كم', 'كم', 'كما', 'كي', 'كيت', 'كيف', 'كيفما', 'لا', 'لاسيما', 'لدى', 'لست', 'لستم', 'لستما', 'لستن', 'لسن', 'لسنا', 'لعل', 'لك', 'لكم', 'لكما', 'لكن', 'لكنما', 'لكي', 'لكيلا', 'لم', 'لما', 'لن', 'لنا', 'له', 'لها', 'لهم', 'لهما', 'لهن', 'لو', 'لولا', 'لوما', 'لي', 'لئن', 'ليت', 'ليس', 'ليسا', 'ليست', 'ليستا', 'ليسوا', 'ما', 'ماذا', 'متى', 'مذ', 'مع', 'مما', 'ممن', 'من', 'منه', 'منها', 'منذ', 'مه', 'مهما', 'نحن', 'نحو', 'نعم', 'ها', 'هاتان', 'هاته', 'هاتي', 'هاتين', 'هاك', 'هاهنا', 'هذا', 'هذان', 'هذه', 'هذي', 'هذين', 'هكذا', 'هل', 'هلا', 'هم', 'هما', 'هن', 'هنا', 'هناك', 'هنالك', 'هو', 'هؤلاء', 'هي', 'هيا', 'هيت', 'هيهات', 'والذي', 'والذين', 'وإذ', 'وإذا', 'وإن', 'ولا', 'ولكن', 'ولو', 'وما', 'ومن', 'وهو', 'يا', 'أبٌ', 'أخٌ', 'حمٌ', 'فو', 'أنتِ', 'يناير', 'فبراير', 'مارس', 'أبريل', 'مايو', 'يونيو', 'يوليو', 'أغسطس', 'سبتمبر', 'أكتوبر', 'نوفمبر', 'ديسمبر', 'جانفي', 'فيفري', 'مارس', 'أفريل', 'ماي', 'جوان', 'جويلية', 'أوت', 'كانون', 'شباط', 'آذار', 'نيسان', 'أيار', 'حزيران', 'تموز', 'آب', 'أيلول', 'تشرين', 'دولار', 'دينار', 'ريال', 'درهم', 'ليرة', 'جنيه', 'قرش', 'مليم', 'فلس', 'هللة', 'سنتيم', 'يورو', 'ين', 'يوان', 'شيكل', 'واحد', 'اثنان', 'ثلاثة', 'أربعة', 'خمسة', 'ستة', 'سبعة', 'ثمانية', 'تسعة', 'عشرة', 'أحد', 'اثنا', 'اثني', 'إحدى', 'ثلاث', 'أربع', 'خمس', 'ست', 'سبع', 'ثماني', 'تسع', 'عشر', 'ثمان', 'سبت', 'أحد', 'اثنين', 'ثلاثاء', 'أربعاء', 'خميس', 'جمعة', 'أول', 'ثان', 'ثاني', 'ثالث', 'رابع', 'خامس', 'سادس', 'سابع', 'ثامن', 'تاسع', 'عاشر', 'حادي', 'أ', 'ب', 'ت', 'ث', 'ج', 'ح', 'خ', 'د', 'ذ', 'ر', 'ز', 'س', 'ش', 'ص', 'ض', 'ط', 'ظ', 'ع', 'غ', 'ف', 'ق', 'ك', 'ل', 'م', 'ن', 'ه', 'و', 'ي', 'ء', 'ى', 'آ', 'ؤ', 'ئ', 'أ', 'ة', 'ألف', 'باء', 'تاء', 'ثاء', 'جيم', 'حاء', 'خاء', 'دال', 'ذال', 'راء', 'زاي', 'سين', 'شين', 'صاد', 'ضاد', 'طاء', 'ظاء', 'عين', 'غين', 'فاء', 'قاف', 'كاف', 'لام', 'ميم', 'نون', 'هاء', 'واو', 'ياء', 'همزة', 'ي', 'نا', 'ك', 'كن', 'ه', 'إياه', 'إياها', 'إياهما', 'إياهم', 'إياهن', 'إياك', 'إياكما', 'إياكم', 'إياك', 'إياكن', 'إياي', 'إيانا', 'أولالك', 'تانِ', 'تانِك', 'تِه', 'تِي', 'تَيْنِ', 'ثمّ', 'ثمّة', 'ذانِ', 'ذِه', 'ذِي', 'ذَيْنِ', 'هَؤلاء', 'هَاتانِ', 'هَاتِه', 'هَاتِي', 'هَاتَيْنِ', 'هَذا', 'هَذانِ', 'هَذِه', 'هَذِي', 'هَذَيْنِ', 'الألى', 'الألاء', 'أل', 'أنّى', 'أيّ', 'ّأيّان', 'أنّى', 'أيّ', 'ّأيّان', 'ذيت', 'كأيّ', 'كأيّن', 'بضع', 'فلان', 'وا', 'آمينَ', 'آهِ', 'آهٍ', 'آهاً', 'أُفٍّ', 'أُفٍّ', 'أفٍّ', 'أمامك', 'أمامكَ', 'أوّهْ', 'إلَيْكَ', 'إلَيْكَ', 'إليكَ', 'إليكنّ', 'إيهٍ', 'بخٍ', 'بسّ', 'بَسْ', 'بطآن', 'بَلْهَ', 'حاي', 'حَذارِ', 'حيَّ', 'حيَّ', 'دونك', 'رويدك', 'سرعان', 'شتانَ', 'شَتَّانَ', 'صهْ', 'صهٍ', 'طاق', 'طَق', 'عَدَسْ', 'كِخ', 'مكانَك', 'مكانَك', 'مكانَك', 'مكانكم', 'مكانكما', 'مكانكنّ', 'نَخْ', 'هاكَ', 'هَجْ', 'هلم', 'هيّا', 'هَيْهات', 'وا', 'واهاً', 'وراءَك', 'وُشْكَانَ', 'وَيْ', 'يفعلان', 'تفعلان', 'يفعلون', 'تفعلون', 'تفعلين', 'اتخذ', 'ألفى', 'تخذ', 'ترك', 'تعلَّم', 'جعل', 'حجا', 'حبيب', 'خال', 'حسب', 'خال', 'درى', 'رأى', 'زعم', 'صبر', 'ظنَّ', 'عدَّ', 'علم', 'غادر', 'ذهب', 'وجد', 'ورد', 'وهب', 'أسكن', 'أطعم', 'أعطى', 'رزق', 'زود', 'سقى', 'كسا', 'أخبر', 'أرى', 'أعلم', 'أنبأ', 'حدَث', 'خبَّر', 'نبَّا', 'أفعل به', 'ما أفعله', 'بئس', 'ساء', 'طالما', 'قلما', 'لات', 'لكنَّ', 'ءَ', 'أجل', 'إذاً', 'أمّا', 'إمّا', 'إنَّ', 'أنًّ', 'أى', 'إى', 'أيا', 'ب', 'ثمَّ', 'جلل', 'جير', 'رُبَّ', 'س', 'علًّ', 'ف', 'كأنّ', 'كلَّا', 'كى', 'ل', 'لات', 'لعلَّ', 'لكنَّ', 'لكنَّ', 'م', 'نَّ', 'هلّا', 'وا', 'أل', 'إلّا', 'ت', 'ك', 'لمّا', 'ن', 'ه', 'و', 'ا', 'ي', 'تجاه', 'تلقاء', 'جميع', 'حسب', 'سبحان', 'شبه', 'لعمر', 'مثل', 'معاذ', 'أبو', 'أخو', 'حمو', 'فو', 'مئة', 'مئتان', 'ثلاثمئة', 'أربعمئة', 'خمسمئة', 'ستمئة', 'سبعمئة', 'ثمنمئة', 'تسعمئة', 'مائة', 'ثلاثمائة', 'أربعمائة', 'خمسمائة', 'ستمائة', 'سبعمائة', 'ثمانمئة', 'تسعمائة', 'عشرون', 'ثلاثون', 'اربعون', 'خمسون', 'ستون', 'سبعون', 'ثمانون', 'تسعون', 'عشرين', 'ثلاثين', 'اربعين', 'خمسين', 'ستين', 'سبعين', 'ثمانين', 'تسعين', 'بضع', 'نيف', 'أجمع', 'جميع', 'عامة', 'عين', 'نفس', 'لا سيما', 'أصلا', 'أهلا', 'أيضا', 'بؤسا', 'بعدا', 'بغتة', 'تعسا', 'حقا', 'حمدا', 'خلافا', 'خاصة', 'دواليك', 'سحقا', 'سرا', 'سمعا', 'صبرا', 'صدقا', 'صراحة', 'طرا', 'عجبا', 'عيانا', 'غالبا', 'فرادى', 'فضلا', 'قاطبة', 'كثيرا', 'لبيك', 'معاذ', 'أبدا', 'إزاء', 'أصلا', 'الآن', 'أمد', 'أمس', 'آنفا', 'آناء', 'أنّى', 'أول', 'أيّان', 'تارة', 'ثمّ', 'ثمّة', 'حقا', 'صباح', 'مساء', 'ضحوة', 'عوض', 'غدا', 'غداة', 'قطّ', 'كلّما', 'لدن', 'لمّا', 'مرّة', 'قبل', 'خلف', 'أمام', 'فوق', 'تحت', 'يمين', 'شمال', 'ارتدّ', 'استحال', 'أصبح', 'أضحى', 'آض', 'أمسى', 'انقلب', 'بات', 'تبدّل', 'تحوّل', 'حار', 'رجع', 'راح', 'صار', 'ظلّ', 'عاد', 'غدا', 'كان', 'ما انفك', 'ما برح', 'مادام', 'مازال', 'مافتئ', 'ابتدأ', 'أخذ', 'اخلولق', 'أقبل', 'انبرى', 'أنشأ', 'أوشك', 'جعل', 'حرى', 'شرع', 'طفق', 'علق', 'قام', 'كرب', 'كاد', 'هبّ']\n"
     ]
    },
    {
     "name": "stderr",
     "output_type": "stream",
     "text": [
      "[nltk_data] Downloading package stopwords to\n",
      "[nltk_data]     C:\\Users\\HP\\AppData\\Roaming\\nltk_data...\n",
      "[nltk_data]   Package stopwords is already up-to-date!\n"
     ]
    }
   ],
   "source": [
    "nltk.download('stopwords')\n",
    "from nltk.corpus import stopwords\n",
    "sw_nltk=stopwords.words('arabic')\n",
    "print(sw_nltk)"
   ]
  },
  {
   "cell_type": "code",
   "execution_count": 18,
   "metadata": {
    "colab": {
     "base_uri": "https://localhost:8080/"
    },
    "id": "G-gXpJd6OPvd",
    "outputId": "685e970e-9965-46e3-8559-434ea686cf6d"
   },
   "outputs": [
    {
     "name": "stdout",
     "output_type": "stream",
     "text": [
      "karachi ( ; urdu : کراچی ; sindhi : ڪراچي‎ ; ipa : [ kəˈraːtʃi ] ( listen ) ) is the largest city in pakistan and 12th largest in the world , with a population of over 20 million . it is situated at the southern tip of the country along the arabian sea coast . it is the former capital of pakistan and capital of the province of sindh . ranked as a beta-global city , it is pakistan 's premier industrial and financial centre , with an estimated gdp of over $ 200 billion ( ppp ) as of 2021. karachi is pakistan 's most cosmopolitan city , linguistically , ethnically , and religiously diverse cities , as well as one of the most socially liberal.the region has been inhabited for millennia , but the city was formally founded as the fortified village of kolachi as recently as 1729. the settlement greatly increased in importance on arrival of the east india company in the mid-19th century . british administrators embarked on substantial projects to transform the city into a major seaport , and connect it with the extensive railway network of the indian subcontinent . at the time of pakistan 's independence in 1947 , the city was the largest in sindh with an estimated population of 400,000 people . afterwards , city experienced a dramatic shift in population and demography with the arrival of hundreds of thousands of muslim immigrants ( muhajirs ) from india , coupled with a substantial exodus of its hindu residents . the city experienced rapid economic growth following pakistan 's independence , attracting migrants from throughout the country and other regions in south asia . according to the 2017 census of pakistan , karachi 's total population was 16,051,521 , with 14.9 million of those people residing in the urban areas of the city . karachi is one of the world 's fastest-growing cities , and has significant communities representing almost every ethnic group in pakistan . karachi holds more than two million bengali immigrants , a million afghan refugees , and up to 400,000 rohingyas from myanmar.karachi is now pakistan 's premier industrial and financial centre . the city has a formal economy estimated to be worth $ 190 billion as of 2021 , which is the largest in the country . karachi collects 35 % of pakistan 's tax revenue , and generates approximately 25 % of pakistan 's entire gdp . approximately 30 % of pakistani industrial output is from karachi , while karachi 's ports handle approximately 95 % of pakistan 's foreign trade . approximately 90 % of the multinational corporations and 100 % of banks operating in pakistan are headquartered in karachi . it also serves as a transport hub , and contains pakistan 's two largest seaports , the port of karachi and port qasim , as well as pakistan 's busiest airport , jinnah international airport . karachi is also considered to be pakistan 's fashion capital , and has hosted the annual karachi fashion week since 2009.known as the `` city of lights '' in the 1960s and 1970s for its vibrant nightlife , karachi was beset by sharp ethnic , sectarian , and political conflict in the 1980s with the large-scale arrival of weaponry during the soviet–afghan war . the city had become well known for its high rates of violent crime , but recorded crimes sharply decreased following a crackdown operation against criminals , the mqm political party , and islamist militants , initiated in 2013 by the pakistan rangers . as a result of the operation , karachi dropped from being ranked the world 's 6th-most dangerous city for crime in 2014 , to 128th by 2022 .\n"
     ]
    }
   ],
   "source": [
    "words=[word for word in tokenized_text if word.lower() not in sw_nltk]\n",
    "new_text=\" \".join(words)\n",
    "print(new_text)"
   ]
  },
  {
   "cell_type": "markdown",
   "metadata": {
    "id": "EoZlh336Pw46"
   },
   "source": [
    "# lemmitization"
   ]
  },
  {
   "cell_type": "code",
   "execution_count": 19,
   "metadata": {
    "colab": {
     "base_uri": "https://localhost:8080/"
    },
    "id": "SV-EAKwkP2sL",
    "outputId": "20d477f1-447e-442d-e077-e3b5f89b0c00"
   },
   "outputs": [
    {
     "name": "stderr",
     "output_type": "stream",
     "text": [
      "[nltk_data] Downloading package wordnet to\n",
      "[nltk_data]     C:\\Users\\HP\\AppData\\Roaming\\nltk_data...\n",
      "[nltk_data]   Package wordnet is already up-to-date!\n"
     ]
    }
   ],
   "source": [
    "nltk.download('wordnet')\n",
    "from nltk.stem import WordNetLemmatizer"
   ]
  },
  {
   "cell_type": "code",
   "execution_count": 20,
   "metadata": {
    "colab": {
     "base_uri": "https://localhost:8080/"
    },
    "id": "01jT4vqcRF52",
    "outputId": "c5239c7b-9e76-4910-dec3-21d24d286056"
   },
   "outputs": [
    {
     "name": "stdout",
     "output_type": "stream",
     "text": [
      "<generator object <genexpr> at 0x00000254D118DF50>\n"
     ]
    }
   ],
   "source": [
    "lemmatizer= WordNetLemmatizer()\n",
    "lemmatize_token=(lemmatizer.lemmatize(token)for token in new_text)\n",
    "lemmatize_text=''.join(lemmatize_token)\n",
    "print((lemmatize_token))"
   ]
  },
  {
   "cell_type": "markdown",
   "metadata": {
    "id": "zgSGfbkJR1FE"
   },
   "source": [
    "# frequency distribution"
   ]
  },
  {
   "cell_type": "code",
   "execution_count": 21,
   "metadata": {
    "colab": {
     "base_uri": "https://localhost:8080/",
     "height": 544
    },
    "id": "hDwvVA-MSBGz",
    "outputId": "4aca7170-ef08-4a95-80a1-eea19899ca58"
   },
   "outputs": [
    {
     "data": {
      "image/png": "[encoded data removed]",
      "text/plain": [
       "<Figure size 640x480 with 1 Axes>"
      ]
     },
     "metadata": {},
     "output_type": "display_data"
    },
    {
     "data": {
      "text/plain": [
       "<AxesSubplot: xlabel='Samples', ylabel='Counts'>"
      ]
     },
     "execution_count": 21,
     "metadata": {},
     "output_type": "execute_result"
    }
   ],
   "source": [
    "from nltk.probability import FreqDist\n",
    "tokens=nltk.tokenize.word_tokenize(lemmatize_text)\n",
    "fdist=FreqDist(tokens)\n",
    "fdist.plot(30, cumulative=False)"
   ]
  }
 ],
 "metadata": {
  "colab": {
   "provenance": []
  },
  "kernelspec": {
   "display_name": "Python 3 (ipykernel)",
   "language": "python",
   "name": "python3"
  },
  "language_info": {
   "codemirror_mode": {
    "name": "ipython",
    "version": 3
   },
   "file_extension": ".py",
   "mimetype": "text/x-python",
   "name": "python",
   "nbconvert_exporter": "python",
   "pygments_lexer": "ipython3",
   "version": "3.10.7"
  }
 },
 "nbformat": 4,
 "nbformat_minor": 1
}
