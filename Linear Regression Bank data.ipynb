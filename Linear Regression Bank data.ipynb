{
 "cells": [
  {
   "cell_type": "code",
   "execution_count": 1,
   "id": "69a40eab",
   "metadata": {},
   "outputs": [],
   "source": [
    "import pandas as pd\n",
    "import numpy as np\n",
    "import matplotlib.pyplot as plt\n",
    "import pylab as pl\n",
    "%matplotlib inline"
   ]
  },
  {
   "cell_type": "code",
   "execution_count": 2,
   "id": "fed7eff1",
   "metadata": {},
   "outputs": [],
   "source": [
    "data=pd.read_csv('Bank.csv')"
   ]
  },
  {
   "cell_type": "code",
   "execution_count": 3,
   "id": "888c9dea",
   "metadata": {},
   "outputs": [
    {
     "data": {
      "text/html": [
       "<div>\n",
       "<style scoped>\n",
       "    .dataframe tbody tr th:only-of-type {\n",
       "        vertical-align: middle;\n",
       "    }\n",
       "\n",
       "    .dataframe tbody tr th {\n",
       "        vertical-align: top;\n",
       "    }\n",
       "\n",
       "    .dataframe thead th {\n",
       "        text-align: right;\n",
       "    }\n",
       "</style>\n",
       "<table border=\"1\" class=\"dataframe\">\n",
       "  <thead>\n",
       "    <tr style=\"text-align: right;\">\n",
       "      <th></th>\n",
       "      <th>Date</th>\n",
       "      <th>Open</th>\n",
       "      <th>High</th>\n",
       "      <th>Low</th>\n",
       "      <th>Close</th>\n",
       "      <th>Adj Close</th>\n",
       "      <th>Volume</th>\n",
       "    </tr>\n",
       "  </thead>\n",
       "  <tbody>\n",
       "    <tr>\n",
       "      <th>0</th>\n",
       "      <td>2021-01-11</td>\n",
       "      <td>266.750000</td>\n",
       "      <td>267.000000</td>\n",
       "      <td>254.899994</td>\n",
       "      <td>255.949997</td>\n",
       "      <td>255.949997</td>\n",
       "      <td>12932516</td>\n",
       "    </tr>\n",
       "    <tr>\n",
       "      <th>1</th>\n",
       "      <td>2021-01-12</td>\n",
       "      <td>253.000000</td>\n",
       "      <td>263.100006</td>\n",
       "      <td>249.699997</td>\n",
       "      <td>257.500000</td>\n",
       "      <td>257.500000</td>\n",
       "      <td>14059128</td>\n",
       "    </tr>\n",
       "    <tr>\n",
       "      <th>2</th>\n",
       "      <td>2021-01-13</td>\n",
       "      <td>258.350006</td>\n",
       "      <td>263.600006</td>\n",
       "      <td>247.199997</td>\n",
       "      <td>254.399994</td>\n",
       "      <td>254.399994</td>\n",
       "      <td>17572485</td>\n",
       "    </tr>\n",
       "    <tr>\n",
       "      <th>3</th>\n",
       "      <td>2021-01-14</td>\n",
       "      <td>256.299988</td>\n",
       "      <td>258.950012</td>\n",
       "      <td>253.050003</td>\n",
       "      <td>254.199997</td>\n",
       "      <td>254.199997</td>\n",
       "      <td>9763818</td>\n",
       "    </tr>\n",
       "    <tr>\n",
       "      <th>4</th>\n",
       "      <td>2021-01-15</td>\n",
       "      <td>254.000000</td>\n",
       "      <td>259.750000</td>\n",
       "      <td>251.550003</td>\n",
       "      <td>253.899994</td>\n",
       "      <td>253.899994</td>\n",
       "      <td>13958474</td>\n",
       "    </tr>\n",
       "  </tbody>\n",
       "</table>\n",
       "</div>"
      ],
      "text/plain": [
       "         Date        Open        High         Low       Close   Adj Close  \\\n",
       "0  2021-01-11  266.750000  267.000000  254.899994  255.949997  255.949997   \n",
       "1  2021-01-12  253.000000  263.100006  249.699997  257.500000  257.500000   \n",
       "2  2021-01-13  258.350006  263.600006  247.199997  254.399994  254.399994   \n",
       "3  2021-01-14  256.299988  258.950012  253.050003  254.199997  254.199997   \n",
       "4  2021-01-15  254.000000  259.750000  251.550003  253.899994  253.899994   \n",
       "\n",
       "     Volume  \n",
       "0  12932516  \n",
       "1  14059128  \n",
       "2  17572485  \n",
       "3   9763818  \n",
       "4  13958474  "
      ]
     },
     "execution_count": 3,
     "metadata": {},
     "output_type": "execute_result"
    }
   ],
   "source": [
    "data.head()"
   ]
  },
  {
   "cell_type": "code",
   "execution_count": 4,
   "id": "a62cbe9c",
   "metadata": {},
   "outputs": [
    {
     "data": {
      "text/html": [
       "<div>\n",
       "<style scoped>\n",
       "    .dataframe tbody tr th:only-of-type {\n",
       "        vertical-align: middle;\n",
       "    }\n",
       "\n",
       "    .dataframe tbody tr th {\n",
       "        vertical-align: top;\n",
       "    }\n",
       "\n",
       "    .dataframe thead th {\n",
       "        text-align: right;\n",
       "    }\n",
       "</style>\n",
       "<table border=\"1\" class=\"dataframe\">\n",
       "  <thead>\n",
       "    <tr style=\"text-align: right;\">\n",
       "      <th></th>\n",
       "      <th>Date</th>\n",
       "      <th>Open</th>\n",
       "      <th>High</th>\n",
       "      <th>Low</th>\n",
       "      <th>Close</th>\n",
       "      <th>Adj Close</th>\n",
       "      <th>Volume</th>\n",
       "    </tr>\n",
       "  </thead>\n",
       "  <tbody>\n",
       "    <tr>\n",
       "      <th>117</th>\n",
       "      <td>2021-07-02</td>\n",
       "      <td>210.949997</td>\n",
       "      <td>212.850006</td>\n",
       "      <td>209.500000</td>\n",
       "      <td>210.899994</td>\n",
       "      <td>210.899994</td>\n",
       "      <td>4359443</td>\n",
       "    </tr>\n",
       "    <tr>\n",
       "      <th>118</th>\n",
       "      <td>2021-07-05</td>\n",
       "      <td>211.500000</td>\n",
       "      <td>214.149994</td>\n",
       "      <td>211.149994</td>\n",
       "      <td>213.850006</td>\n",
       "      <td>213.850006</td>\n",
       "      <td>4289581</td>\n",
       "    </tr>\n",
       "    <tr>\n",
       "      <th>119</th>\n",
       "      <td>2021-07-06</td>\n",
       "      <td>213.850006</td>\n",
       "      <td>214.800003</td>\n",
       "      <td>212.050003</td>\n",
       "      <td>213.350006</td>\n",
       "      <td>213.350006</td>\n",
       "      <td>5626257</td>\n",
       "    </tr>\n",
       "    <tr>\n",
       "      <th>120</th>\n",
       "      <td>2021-07-07</td>\n",
       "      <td>214.899994</td>\n",
       "      <td>224.649994</td>\n",
       "      <td>211.649994</td>\n",
       "      <td>223.399994</td>\n",
       "      <td>223.399994</td>\n",
       "      <td>29091948</td>\n",
       "    </tr>\n",
       "    <tr>\n",
       "      <th>121</th>\n",
       "      <td>2021-07-08</td>\n",
       "      <td>223.750000</td>\n",
       "      <td>226.399994</td>\n",
       "      <td>215.100006</td>\n",
       "      <td>215.750000</td>\n",
       "      <td>215.750000</td>\n",
       "      <td>14300383</td>\n",
       "    </tr>\n",
       "  </tbody>\n",
       "</table>\n",
       "</div>"
      ],
      "text/plain": [
       "           Date        Open        High         Low       Close   Adj Close  \\\n",
       "117  2021-07-02  210.949997  212.850006  209.500000  210.899994  210.899994   \n",
       "118  2021-07-05  211.500000  214.149994  211.149994  213.850006  213.850006   \n",
       "119  2021-07-06  213.850006  214.800003  212.050003  213.350006  213.350006   \n",
       "120  2021-07-07  214.899994  224.649994  211.649994  223.399994  223.399994   \n",
       "121  2021-07-08  223.750000  226.399994  215.100006  215.750000  215.750000   \n",
       "\n",
       "       Volume  \n",
       "117   4359443  \n",
       "118   4289581  \n",
       "119   5626257  \n",
       "120  29091948  \n",
       "121  14300383  "
      ]
     },
     "execution_count": 4,
     "metadata": {},
     "output_type": "execute_result"
    }
   ],
   "source": [
    "data.tail()"
   ]
  },
  {
   "cell_type": "code",
   "execution_count": 5,
   "id": "f0d9cc3e",
   "metadata": {},
   "outputs": [
    {
     "data": {
      "text/plain": [
       "(122, 7)"
      ]
     },
     "execution_count": 5,
     "metadata": {},
     "output_type": "execute_result"
    }
   ],
   "source": [
    "data.shape"
   ]
  },
  {
   "cell_type": "code",
   "execution_count": 6,
   "id": "d4c3d27d",
   "metadata": {},
   "outputs": [
    {
     "data": {
      "text/html": [
       "<div>\n",
       "<style scoped>\n",
       "    .dataframe tbody tr th:only-of-type {\n",
       "        vertical-align: middle;\n",
       "    }\n",
       "\n",
       "    .dataframe tbody tr th {\n",
       "        vertical-align: top;\n",
       "    }\n",
       "\n",
       "    .dataframe thead th {\n",
       "        text-align: right;\n",
       "    }\n",
       "</style>\n",
       "<table border=\"1\" class=\"dataframe\">\n",
       "  <thead>\n",
       "    <tr style=\"text-align: right;\">\n",
       "      <th></th>\n",
       "      <th>Open</th>\n",
       "      <th>High</th>\n",
       "      <th>Low</th>\n",
       "      <th>Close</th>\n",
       "      <th>Adj Close</th>\n",
       "      <th>Volume</th>\n",
       "    </tr>\n",
       "  </thead>\n",
       "  <tbody>\n",
       "    <tr>\n",
       "      <th>count</th>\n",
       "      <td>122.000000</td>\n",
       "      <td>122.000000</td>\n",
       "      <td>122.000000</td>\n",
       "      <td>122.000000</td>\n",
       "      <td>122.000000</td>\n",
       "      <td>1.220000e+02</td>\n",
       "    </tr>\n",
       "    <tr>\n",
       "      <th>mean</th>\n",
       "      <td>220.445082</td>\n",
       "      <td>224.472132</td>\n",
       "      <td>215.465984</td>\n",
       "      <td>219.414344</td>\n",
       "      <td>219.414344</td>\n",
       "      <td>1.465537e+07</td>\n",
       "    </tr>\n",
       "    <tr>\n",
       "      <th>std</th>\n",
       "      <td>23.389717</td>\n",
       "      <td>24.161915</td>\n",
       "      <td>22.326368</td>\n",
       "      <td>22.846737</td>\n",
       "      <td>22.846737</td>\n",
       "      <td>6.947874e+06</td>\n",
       "    </tr>\n",
       "    <tr>\n",
       "      <th>min</th>\n",
       "      <td>170.000000</td>\n",
       "      <td>177.250000</td>\n",
       "      <td>169.649994</td>\n",
       "      <td>174.550003</td>\n",
       "      <td>174.550003</td>\n",
       "      <td>3.906454e+06</td>\n",
       "    </tr>\n",
       "    <tr>\n",
       "      <th>25%</th>\n",
       "      <td>209.075001</td>\n",
       "      <td>211.450005</td>\n",
       "      <td>203.750000</td>\n",
       "      <td>207.587502</td>\n",
       "      <td>207.587502</td>\n",
       "      <td>1.013670e+07</td>\n",
       "    </tr>\n",
       "    <tr>\n",
       "      <th>50%</th>\n",
       "      <td>216.099998</td>\n",
       "      <td>219.724998</td>\n",
       "      <td>212.175003</td>\n",
       "      <td>215.849998</td>\n",
       "      <td>215.849998</td>\n",
       "      <td>1.292383e+07</td>\n",
       "    </tr>\n",
       "    <tr>\n",
       "      <th>75%</th>\n",
       "      <td>243.425003</td>\n",
       "      <td>248.037502</td>\n",
       "      <td>237.049999</td>\n",
       "      <td>241.787495</td>\n",
       "      <td>241.787495</td>\n",
       "      <td>1.874305e+07</td>\n",
       "    </tr>\n",
       "    <tr>\n",
       "      <th>max</th>\n",
       "      <td>266.750000</td>\n",
       "      <td>268.799988</td>\n",
       "      <td>254.899994</td>\n",
       "      <td>258.500000</td>\n",
       "      <td>258.500000</td>\n",
       "      <td>4.180586e+07</td>\n",
       "    </tr>\n",
       "  </tbody>\n",
       "</table>\n",
       "</div>"
      ],
      "text/plain": [
       "             Open        High         Low       Close   Adj Close  \\\n",
       "count  122.000000  122.000000  122.000000  122.000000  122.000000   \n",
       "mean   220.445082  224.472132  215.465984  219.414344  219.414344   \n",
       "std     23.389717   24.161915   22.326368   22.846737   22.846737   \n",
       "min    170.000000  177.250000  169.649994  174.550003  174.550003   \n",
       "25%    209.075001  211.450005  203.750000  207.587502  207.587502   \n",
       "50%    216.099998  219.724998  212.175003  215.849998  215.849998   \n",
       "75%    243.425003  248.037502  237.049999  241.787495  241.787495   \n",
       "max    266.750000  268.799988  254.899994  258.500000  258.500000   \n",
       "\n",
       "             Volume  \n",
       "count  1.220000e+02  \n",
       "mean   1.465537e+07  \n",
       "std    6.947874e+06  \n",
       "min    3.906454e+06  \n",
       "25%    1.013670e+07  \n",
       "50%    1.292383e+07  \n",
       "75%    1.874305e+07  \n",
       "max    4.180586e+07  "
      ]
     },
     "execution_count": 6,
     "metadata": {},
     "output_type": "execute_result"
    }
   ],
   "source": [
    "data.describe()"
   ]
  },
  {
   "cell_type": "code",
   "execution_count": 7,
   "id": "8a98a2db",
   "metadata": {},
   "outputs": [
    {
     "data": {
      "text/plain": [
       "Date         0\n",
       "Open         0\n",
       "High         0\n",
       "Low          0\n",
       "Close        0\n",
       "Adj Close    0\n",
       "Volume       0\n",
       "dtype: int64"
      ]
     },
     "execution_count": 7,
     "metadata": {},
     "output_type": "execute_result"
    }
   ],
   "source": [
    "data.isnull().sum()"
   ]
  },
  {
   "cell_type": "code",
   "execution_count": 8,
   "id": "bbde6d88",
   "metadata": {},
   "outputs": [
    {
     "data": {
      "text/plain": [
       "0"
      ]
     },
     "execution_count": 8,
     "metadata": {},
     "output_type": "execute_result"
    }
   ],
   "source": [
    "data.duplicated().sum()"
   ]
  },
  {
   "cell_type": "code",
   "execution_count": 9,
   "id": "fe1294ea",
   "metadata": {},
   "outputs": [
    {
     "name": "stderr",
     "output_type": "stream",
     "text": [
      "C:\\Users\\HP\\AppData\\Local\\Temp\\ipykernel_11236\\2627137660.py:1: FutureWarning: The default value of numeric_only in DataFrame.corr is deprecated. In a future version, it will default to False. Select only valid columns or specify the value of numeric_only to silence this warning.\n",
      "  data.corr()\n"
     ]
    },
    {
     "data": {
      "text/html": [
       "<div>\n",
       "<style scoped>\n",
       "    .dataframe tbody tr th:only-of-type {\n",
       "        vertical-align: middle;\n",
       "    }\n",
       "\n",
       "    .dataframe tbody tr th {\n",
       "        vertical-align: top;\n",
       "    }\n",
       "\n",
       "    .dataframe thead th {\n",
       "        text-align: right;\n",
       "    }\n",
       "</style>\n",
       "<table border=\"1\" class=\"dataframe\">\n",
       "  <thead>\n",
       "    <tr style=\"text-align: right;\">\n",
       "      <th></th>\n",
       "      <th>Open</th>\n",
       "      <th>High</th>\n",
       "      <th>Low</th>\n",
       "      <th>Close</th>\n",
       "      <th>Adj Close</th>\n",
       "      <th>Volume</th>\n",
       "    </tr>\n",
       "  </thead>\n",
       "  <tbody>\n",
       "    <tr>\n",
       "      <th>Open</th>\n",
       "      <td>1.000000</td>\n",
       "      <td>0.985238</td>\n",
       "      <td>0.985767</td>\n",
       "      <td>0.971089</td>\n",
       "      <td>0.971089</td>\n",
       "      <td>0.016250</td>\n",
       "    </tr>\n",
       "    <tr>\n",
       "      <th>High</th>\n",
       "      <td>0.985238</td>\n",
       "      <td>1.000000</td>\n",
       "      <td>0.980651</td>\n",
       "      <td>0.987831</td>\n",
       "      <td>0.987831</td>\n",
       "      <td>0.097468</td>\n",
       "    </tr>\n",
       "    <tr>\n",
       "      <th>Low</th>\n",
       "      <td>0.985767</td>\n",
       "      <td>0.980651</td>\n",
       "      <td>1.000000</td>\n",
       "      <td>0.986245</td>\n",
       "      <td>0.986245</td>\n",
       "      <td>-0.050936</td>\n",
       "    </tr>\n",
       "    <tr>\n",
       "      <th>Close</th>\n",
       "      <td>0.971089</td>\n",
       "      <td>0.987831</td>\n",
       "      <td>0.986245</td>\n",
       "      <td>1.000000</td>\n",
       "      <td>1.000000</td>\n",
       "      <td>0.016251</td>\n",
       "    </tr>\n",
       "    <tr>\n",
       "      <th>Adj Close</th>\n",
       "      <td>0.971089</td>\n",
       "      <td>0.987831</td>\n",
       "      <td>0.986245</td>\n",
       "      <td>1.000000</td>\n",
       "      <td>1.000000</td>\n",
       "      <td>0.016251</td>\n",
       "    </tr>\n",
       "    <tr>\n",
       "      <th>Volume</th>\n",
       "      <td>0.016250</td>\n",
       "      <td>0.097468</td>\n",
       "      <td>-0.050936</td>\n",
       "      <td>0.016251</td>\n",
       "      <td>0.016251</td>\n",
       "      <td>1.000000</td>\n",
       "    </tr>\n",
       "  </tbody>\n",
       "</table>\n",
       "</div>"
      ],
      "text/plain": [
       "               Open      High       Low     Close  Adj Close    Volume\n",
       "Open       1.000000  0.985238  0.985767  0.971089   0.971089  0.016250\n",
       "High       0.985238  1.000000  0.980651  0.987831   0.987831  0.097468\n",
       "Low        0.985767  0.980651  1.000000  0.986245   0.986245 -0.050936\n",
       "Close      0.971089  0.987831  0.986245  1.000000   1.000000  0.016251\n",
       "Adj Close  0.971089  0.987831  0.986245  1.000000   1.000000  0.016251\n",
       "Volume     0.016250  0.097468 -0.050936  0.016251   0.016251  1.000000"
      ]
     },
     "execution_count": 9,
     "metadata": {},
     "output_type": "execute_result"
    }
   ],
   "source": [
    "data.corr()"
   ]
  },
  {
   "cell_type": "code",
   "execution_count": 10,
   "id": "ec8f3487",
   "metadata": {},
   "outputs": [
    {
     "data": {
      "text/html": [
       "<div>\n",
       "<style scoped>\n",
       "    .dataframe tbody tr th:only-of-type {\n",
       "        vertical-align: middle;\n",
       "    }\n",
       "\n",
       "    .dataframe tbody tr th {\n",
       "        vertical-align: top;\n",
       "    }\n",
       "\n",
       "    .dataframe thead th {\n",
       "        text-align: right;\n",
       "    }\n",
       "</style>\n",
       "<table border=\"1\" class=\"dataframe\">\n",
       "  <thead>\n",
       "    <tr style=\"text-align: right;\">\n",
       "      <th></th>\n",
       "      <th>Open</th>\n",
       "      <th>High</th>\n",
       "      <th>Low</th>\n",
       "      <th>Close</th>\n",
       "    </tr>\n",
       "  </thead>\n",
       "  <tbody>\n",
       "    <tr>\n",
       "      <th>0</th>\n",
       "      <td>266.750000</td>\n",
       "      <td>267.000000</td>\n",
       "      <td>254.899994</td>\n",
       "      <td>255.949997</td>\n",
       "    </tr>\n",
       "    <tr>\n",
       "      <th>1</th>\n",
       "      <td>253.000000</td>\n",
       "      <td>263.100006</td>\n",
       "      <td>249.699997</td>\n",
       "      <td>257.500000</td>\n",
       "    </tr>\n",
       "    <tr>\n",
       "      <th>2</th>\n",
       "      <td>258.350006</td>\n",
       "      <td>263.600006</td>\n",
       "      <td>247.199997</td>\n",
       "      <td>254.399994</td>\n",
       "    </tr>\n",
       "    <tr>\n",
       "      <th>3</th>\n",
       "      <td>256.299988</td>\n",
       "      <td>258.950012</td>\n",
       "      <td>253.050003</td>\n",
       "      <td>254.199997</td>\n",
       "    </tr>\n",
       "    <tr>\n",
       "      <th>4</th>\n",
       "      <td>254.000000</td>\n",
       "      <td>259.750000</td>\n",
       "      <td>251.550003</td>\n",
       "      <td>253.899994</td>\n",
       "    </tr>\n",
       "    <tr>\n",
       "      <th>5</th>\n",
       "      <td>251.750000</td>\n",
       "      <td>253.000000</td>\n",
       "      <td>242.800003</td>\n",
       "      <td>244.399994</td>\n",
       "    </tr>\n",
       "    <tr>\n",
       "      <th>6</th>\n",
       "      <td>248.100006</td>\n",
       "      <td>255.050003</td>\n",
       "      <td>245.500000</td>\n",
       "      <td>254.250000</td>\n",
       "    </tr>\n",
       "    <tr>\n",
       "      <th>7</th>\n",
       "      <td>256.399994</td>\n",
       "      <td>257.850006</td>\n",
       "      <td>252.000000</td>\n",
       "      <td>253.750000</td>\n",
       "    </tr>\n",
       "    <tr>\n",
       "      <th>8</th>\n",
       "      <td>254.250000</td>\n",
       "      <td>265.600006</td>\n",
       "      <td>248.250000</td>\n",
       "      <td>250.550003</td>\n",
       "    </tr>\n",
       "  </tbody>\n",
       "</table>\n",
       "</div>"
      ],
      "text/plain": [
       "         Open        High         Low       Close\n",
       "0  266.750000  267.000000  254.899994  255.949997\n",
       "1  253.000000  263.100006  249.699997  257.500000\n",
       "2  258.350006  263.600006  247.199997  254.399994\n",
       "3  256.299988  258.950012  253.050003  254.199997\n",
       "4  254.000000  259.750000  251.550003  253.899994\n",
       "5  251.750000  253.000000  242.800003  244.399994\n",
       "6  248.100006  255.050003  245.500000  254.250000\n",
       "7  256.399994  257.850006  252.000000  253.750000\n",
       "8  254.250000  265.600006  248.250000  250.550003"
      ]
     },
     "execution_count": 10,
     "metadata": {},
     "output_type": "execute_result"
    }
   ],
   "source": [
    "cdf=data[['Open','High','Low','Close']]\n",
    "cdf.head(9)"
   ]
  },
  {
   "cell_type": "code",
   "execution_count": 11,
   "id": "6a75ada3",
   "metadata": {},
   "outputs": [
    {
     "data": {
      "image/png": "[encoded data removed]",
      "text/plain": [
       "<Figure size 640x480 with 4 Axes>"
      ]
     },
     "metadata": {},
     "output_type": "display_data"
    }
   ],
   "source": [
    "viz=cdf[['Open','High','Low','Close']]\n",
    "viz.hist()\n",
    "plt.show()"
   ]
  },
  {
   "cell_type": "code",
   "execution_count": 12,
   "id": "145d64c4",
   "metadata": {},
   "outputs": [
    {
     "data": {
      "image/png": "[encoded data removed]",
      "text/plain": [
       "<Figure size 640x480 with 1 Axes>"
      ]
     },
     "metadata": {},
     "output_type": "display_data"
    }
   ],
   "source": [
    "plt.scatter(cdf.High,cdf.Low)\n",
    "plt.xlabel('High')\n",
    "plt.ylabel('Low')\n",
    "plt.show()"
   ]
  },
  {
   "cell_type": "code",
   "execution_count": 13,
   "id": "4837d2e0",
   "metadata": {},
   "outputs": [],
   "source": [
    "msk=np.random.rand(len(data))<0.8\n",
    "train=cdf[msk]\n",
    "test=cdf[~msk]"
   ]
  },
  {
   "cell_type": "code",
   "execution_count": 14,
   "id": "4d4e8531",
   "metadata": {},
   "outputs": [
    {
     "data": {
      "image/png": "[encoded data removed]",
      "text/plain": [
       "<Figure size 640x480 with 1 Axes>"
      ]
     },
     "metadata": {},
     "output_type": "display_data"
    }
   ],
   "source": [
    "#Train data \n",
    "plt.scatter(train.High,train.Low)\n",
    "plt.xlabel('High')\n",
    "plt.ylabel('Low')\n",
    "plt.show()"
   ]
  },
  {
   "cell_type": "code",
   "execution_count": 15,
   "id": "7633cf9f",
   "metadata": {},
   "outputs": [
    {
     "name": "stdout",
     "output_type": "stream",
     "text": [
      "Coefficients:  [[0.90567871]]\n",
      "Intercept:  [12.20292598]\n"
     ]
    }
   ],
   "source": [
    "from sklearn import linear_model\n",
    "regr=linear_model.LinearRegression()\n",
    "train_x=np.asanyarray(train[['High']])\n",
    "train_y=np.asanyarray(train[['Low']])\n",
    "regr.fit(train_x,train_y)\n",
    "print('Coefficients: ',regr.coef_)\n",
    "print('Intercept: ',regr.intercept_)"
   ]
  },
  {
   "cell_type": "code",
   "execution_count": 16,
   "id": "07a11f6e",
   "metadata": {},
   "outputs": [
    {
     "data": {
      "text/plain": [
       "Text(0, 0.5, 'Low')"
      ]
     },
     "execution_count": 16,
     "metadata": {},
     "output_type": "execute_result"
    },
    {
     "data": {
      "image/png": "[encoded data removed]",
      "text/plain": [
       "<Figure size 640x480 with 1 Axes>"
      ]
     },
     "metadata": {},
     "output_type": "display_data"
    }
   ],
   "source": [
    "plt.scatter(train.High,train.Low,color='blue')\n",
    "plt.plot(train_x,regr.coef_[0][0]*train_x+regr.intercept_[0],'-r')\n",
    "plt.xlabel('High')\n",
    "plt.ylabel('Low')"
   ]
  },
  {
   "cell_type": "code",
   "execution_count": 17,
   "id": "fbc9ab7c",
   "metadata": {},
   "outputs": [
    {
     "name": "stdout",
     "output_type": "stream",
     "text": [
      "Mean absolute error: 3.53\n",
      "Residual sum of squares (MSE): 30.89\n",
      "R2-score: 0.95 \n"
     ]
    }
   ],
   "source": [
    "from sklearn.metrics import r2_score\n",
    "test_x=np.asanyarray(test[['High']])\n",
    "test_y=np.asanyarray(test[['Low']])\n",
    "test_y_=regr.predict(test_x)\n",
    "print(\"Mean absolute error: %.2f\"%np.mean(np.absolute(test_y_-test_y)))\n",
    "print(\"Residual sum of squares (MSE): %.2f\" % np.mean((test_y_-test_y)** 2))\n",
    "print(\"R2-score: %.2f \" % r2_score(test_y_,test_y))"
   ]
  },
  {
   "cell_type": "code",
   "execution_count": null,
   "id": "fa1f3d2a",
   "metadata": {},
   "outputs": [],
   "source": []
  }
 ],
 "metadata": {
  "kernelspec": {
   "display_name": "Python 3 (ipykernel)",
   "language": "python",
   "name": "python3"
  },
  "language_info": {
   "codemirror_mode": {
    "name": "ipython",
    "version": 3
   },
   "file_extension": ".py",
   "mimetype": "text/x-python",
   "name": "python",
   "nbconvert_exporter": "python",
   "pygments_lexer": "ipython3",
   "version": "3.10.7"
  }
 },
 "nbformat": 4,
 "nbformat_minor": 5
}
